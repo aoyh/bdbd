{
 "cells": [
  {
   "cell_type": "markdown",
   "metadata": {},
   "source": [
    "# Assignment 4 Exercises 9.1, 10.1, 11.1\n",
    "Aaron Ou | 2018-04-23"
   ]
  },
  {
   "cell_type": "code",
   "execution_count": 1,
   "metadata": {},
   "outputs": [
    {
     "name": "stdout",
     "output_type": "stream",
     "text": [
      "\f"
     ]
    }
   ],
   "source": [
    "rm(list = ls())\n",
    "cat('\\014') # clear console = Ctrl + L\n",
    "library(ggplot2, verbose=FALSE, warn.conflicts = FALSE, quietly = TRUE)\n",
    "library(dplyr, verbose=FALSE, warn.conflicts = FALSE, quietly = TRUE)\n",
    "library(class) # knn()\n",
    "library(repr)\n",
    "library(grid)　# used to define multiplot()"
   ]
  },
  {
   "cell_type": "code",
   "execution_count": 2,
   "metadata": {
    "collapsed": true
   },
   "outputs": [],
   "source": [
    "# Set plot size\n",
    "options(repr.plot.width = 9, repr.plot.height = 3)"
   ]
  },
  {
   "cell_type": "markdown",
   "metadata": {},
   "source": [
    "### 9.1:\n",
    "\n",
    "<!--Run KNN on the dataset using 3 different values for K. Compute the success rate and profits for each\n",
    "approach. Discuss your results.\n",
    "Margin per success = 1800; Sale cost per target = 180\n",
    "-->"
   ]
  },
  {
   "cell_type": "code",
   "execution_count": 3,
   "metadata": {},
   "outputs": [
    {
     "data": {
      "text/html": [
       "5822"
      ],
      "text/latex": [
       "5822"
      ],
      "text/markdown": [
       "5822"
      ],
      "text/plain": [
       "[1] 5822"
      ]
     },
     "metadata": {},
     "output_type": "display_data"
    },
    {
     "data": {
      "text/html": [
       "<dl class=dl-horizontal>\n",
       "\t<dt>No</dt>\n",
       "\t\t<dd>5474</dd>\n",
       "\t<dt>Yes</dt>\n",
       "\t\t<dd>348</dd>\n",
       "</dl>\n"
      ],
      "text/latex": [
       "\\begin{description*}\n",
       "\\item[No] 5474\n",
       "\\item[Yes] 348\n",
       "\\end{description*}\n"
      ],
      "text/markdown": [
       "No\n",
       ":   5474Yes\n",
       ":   348\n",
       "\n"
      ],
      "text/plain": [
       "  No  Yes \n",
       "5474  348 "
      ]
     },
     "metadata": {},
     "output_type": "display_data"
    },
    {
     "data": {
      "text/html": [
       "0.0597732737890759"
      ],
      "text/latex": [
       "0.0597732737890759"
      ],
      "text/markdown": [
       "0.0597732737890759"
      ],
      "text/plain": [
       "[1] 0.05977327"
      ]
     },
     "metadata": {},
     "output_type": "display_data"
    }
   ],
   "source": [
    "# Read the data. di refers to data of insurance\n",
    "di <- read.csv(\"../Data/AutoInsurance.csv\", header = TRUE)\n",
    "\n",
    "# Basic summary\n",
    "# names(di)\n",
    "nrow(di)\n",
    "summary(di$Purchase)\n",
    "\n",
    "# % of Yes (basis of random guess)\n",
    "348/(5474 + 348)"
   ]
  },
  {
   "cell_type": "code",
   "execution_count": 4,
   "metadata": {},
   "outputs": [],
   "source": [
    "# Scale the data\n",
    "di_x <- di %>% select(-Purchase) %>% scale\n",
    "\n",
    "# 20% as test dataset, roughly 1000 out of 5800\n",
    "test_rows <- 1:1000\n",
    "test_x <- di_x[test_rows, ]\n",
    "test_y <- di[test_rows, \"Purchase\"]\n",
    "\n",
    "# 80% as training data set\n",
    "train_x <- di_x[-test_rows, ]\n",
    "train_y <- di[-test_rows, \"Purchase\"]"
   ]
  },
  {
   "cell_type": "code",
   "execution_count": 5,
   "metadata": {},
   "outputs": [
    {
     "data": {
      "text/html": [
       "<table>\n",
       "<thead><tr><th scope=col>k</th><th scope=col>accuracy</th><th scope=col>success_rate</th><th scope=col>pred_yes</th><th scope=col>profit</th></tr></thead>\n",
       "<tbody>\n",
       "\t<tr><td> 1   </td><td>0.882</td><td>0.117</td><td>77   </td><td>2340 </td></tr>\n",
       "\t<tr><td> 2   </td><td>0.891</td><td>0.097</td><td>62   </td><td>-360 </td></tr>\n",
       "\t<tr><td> 3   </td><td>0.927</td><td>0.208</td><td>24   </td><td>4680 </td></tr>\n",
       "\t<tr><td> 4   </td><td>0.930</td><td>0.238</td><td>21   </td><td>5220 </td></tr>\n",
       "\t<tr><td> 5   </td><td>0.934</td><td>0.267</td><td>15   </td><td>4500 </td></tr>\n",
       "\t<tr><td> 6   </td><td>0.938</td><td>0.364</td><td>11   </td><td>5220 </td></tr>\n",
       "\t<tr><td> 7   </td><td>0.938</td><td>0.286</td><td> 7   </td><td>2340 </td></tr>\n",
       "\t<tr><td> 8   </td><td>0.939</td><td>0.333</td><td> 6   </td><td>2520 </td></tr>\n",
       "\t<tr><td> 9   </td><td>0.942</td><td>1.000</td><td> 1   </td><td>1620 </td></tr>\n",
       "\t<tr><td>10   </td><td>0.941</td><td>0.000</td><td> 0   </td><td>   0 </td></tr>\n",
       "\t<tr><td>11   </td><td>0.941</td><td>0.000</td><td> 0   </td><td>   0 </td></tr>\n",
       "\t<tr><td>12   </td><td>0.941</td><td>0.000</td><td> 0   </td><td>   0 </td></tr>\n",
       "\t<tr><td>13   </td><td>0.941</td><td>0.000</td><td> 0   </td><td>   0 </td></tr>\n",
       "\t<tr><td>14   </td><td>0.941</td><td>0.000</td><td> 0   </td><td>   0 </td></tr>\n",
       "\t<tr><td>15   </td><td>0.941</td><td>0.000</td><td> 0   </td><td>   0 </td></tr>\n",
       "</tbody>\n",
       "</table>\n"
      ],
      "text/latex": [
       "\\begin{tabular}{r|lllll}\n",
       " k & accuracy & success\\_rate & pred\\_yes & profit\\\\\n",
       "\\hline\n",
       "\t  1    & 0.882 & 0.117 & 77    & 2340 \\\\\n",
       "\t  2    & 0.891 & 0.097 & 62    & -360 \\\\\n",
       "\t  3    & 0.927 & 0.208 & 24    & 4680 \\\\\n",
       "\t  4    & 0.930 & 0.238 & 21    & 5220 \\\\\n",
       "\t  5    & 0.934 & 0.267 & 15    & 4500 \\\\\n",
       "\t  6    & 0.938 & 0.364 & 11    & 5220 \\\\\n",
       "\t  7    & 0.938 & 0.286 &  7    & 2340 \\\\\n",
       "\t  8    & 0.939 & 0.333 &  6    & 2520 \\\\\n",
       "\t  9    & 0.942 & 1.000 &  1    & 1620 \\\\\n",
       "\t 10    & 0.941 & 0.000 &  0    &    0 \\\\\n",
       "\t 11    & 0.941 & 0.000 &  0    &    0 \\\\\n",
       "\t 12    & 0.941 & 0.000 &  0    &    0 \\\\\n",
       "\t 13    & 0.941 & 0.000 &  0    &    0 \\\\\n",
       "\t 14    & 0.941 & 0.000 &  0    &    0 \\\\\n",
       "\t 15    & 0.941 & 0.000 &  0    &    0 \\\\\n",
       "\\end{tabular}\n"
      ],
      "text/markdown": [
       "\n",
       "k | accuracy | success_rate | pred_yes | profit | \n",
       "|---|---|---|---|---|---|---|---|---|---|---|---|---|---|---|\n",
       "|  1    | 0.882 | 0.117 | 77    | 2340  | \n",
       "|  2    | 0.891 | 0.097 | 62    | -360  | \n",
       "|  3    | 0.927 | 0.208 | 24    | 4680  | \n",
       "|  4    | 0.930 | 0.238 | 21    | 5220  | \n",
       "|  5    | 0.934 | 0.267 | 15    | 4500  | \n",
       "|  6    | 0.938 | 0.364 | 11    | 5220  | \n",
       "|  7    | 0.938 | 0.286 |  7    | 2340  | \n",
       "|  8    | 0.939 | 0.333 |  6    | 2520  | \n",
       "|  9    | 0.942 | 1.000 |  1    | 1620  | \n",
       "| 10    | 0.941 | 0.000 |  0    |    0  | \n",
       "| 11    | 0.941 | 0.000 |  0    |    0  | \n",
       "| 12    | 0.941 | 0.000 |  0    |    0  | \n",
       "| 13    | 0.941 | 0.000 |  0    |    0  | \n",
       "| 14    | 0.941 | 0.000 |  0    |    0  | \n",
       "| 15    | 0.941 | 0.000 |  0    |    0  | \n",
       "\n",
       "\n"
      ],
      "text/plain": [
       "   k  accuracy success_rate pred_yes profit\n",
       "1   1 0.882    0.117        77       2340  \n",
       "2   2 0.891    0.097        62       -360  \n",
       "3   3 0.927    0.208        24       4680  \n",
       "4   4 0.930    0.238        21       5220  \n",
       "5   5 0.934    0.267        15       4500  \n",
       "6   6 0.938    0.364        11       5220  \n",
       "7   7 0.938    0.286         7       2340  \n",
       "8   8 0.939    0.333         6       2520  \n",
       "9   9 0.942    1.000         1       1620  \n",
       "10 10 0.941    0.000         0          0  \n",
       "11 11 0.941    0.000         0          0  \n",
       "12 12 0.941    0.000         0          0  \n",
       "13 13 0.941    0.000         0          0  \n",
       "14 14 0.941    0.000         0          0  \n",
       "15 15 0.941    0.000         0          0  "
      ]
     },
     "metadata": {},
     "output_type": "display_data"
    }
   ],
   "source": [
    "# Fit the model on training dataset\n",
    "set.seed(1)\n",
    "\n",
    "\n",
    "ks <- c(1:15)\n",
    "result <- list()\n",
    "for (i in ks) {\n",
    "  k <- ks[i]  \n",
    "  test_pred <- knn(train = train_x, test = test_x, cl = train_y, k = k)\n",
    "  # Test the model's fit on test dataset\n",
    "  # Error rate, a.k.a Misclassification rate. e: error rate; s: success rate (Accuracy) = 1 - error rate\n",
    "  e1 <- round(mean(test_y != test_pred), 3)\n",
    "  accuracy <- 1 - e1\n",
    "\n",
    "  # Confusion matrix to calculate True Positive Rates, defined as Sucess Rate in our case\n",
    "  # The success rate of predicting Yes\n",
    "  dt <- data.frame(test_pred, test_y)\n",
    "  both_yes <- nrow(filter(dt, test_pred == \"Yes\", test_y == \"Yes\"))\n",
    "  pred_yes <- nrow(filter(dt, test_pred == \"Yes\"))\n",
    "  actual_yes <- nrow(filter(dt, test_y == \"Yes\"))\n",
    "  success_rate <- ifelse(both_yes == 0 & pred_yes == 0, 0,\n",
    "                    ifelse(both_yes == 0, 0,\n",
    "                       round(both_yes / pred_yes, 3)))\n",
    "  profit <- both_yes * 1800 - pred_yes * 180\n",
    "  result0 <- data.frame(k = k, accuracy, success_rate, pred_yes, profit)  \n",
    "  if(i == 1) result <- result0 else result <- rbind(result, result0)\n",
    "}\n",
    "\n",
    "result"
   ]
  },
  {
   "cell_type": "code",
   "execution_count": 6,
   "metadata": {},
   "outputs": [],
   "source": [
    "# Scale profit to 0-1\n",
    "result$profit2 <- round(result$profit/max(result$profit, na.rm = T), 3)\n",
    "# Create max_profit data frame to plot vertical line later\n",
    "max_profit <- result[result$profit2 == 1, ]"
   ]
  },
  {
   "cell_type": "code",
   "execution_count": 7,
   "metadata": {},
   "outputs": [
    {
     "data": {},
     "metadata": {},
     "output_type": "display_data"
    },
    {
     "data": {
      "image/png": "[encoded data removed]",
      "text/plain": [
       "plot without title"
      ]
     },
     "metadata": {},
     "output_type": "display_data"
    }
   ],
   "source": [
    "# Plot\n",
    "ggplot(result, aes(x = k)) +\n",
    "  geom_line(aes(y = success_rate), color = \"#877d7b\", size = 1.5) +\n",
    "  geom_line(aes(y = profit2), color = \"red\", size = 1.5) +\n",
    "  geom_vline(xintercept = max_profit$k, color = \"black\") +\n",
    "  ylab(\"Success Rate\") +\n",
    "  scale_y_continuous(sec.axis = sec_axis(trans = ~.*5000, name = \"Profit\")) +\n",
    "  scale_x_discrete(limits = ks) +\n",
    "  annotate(\"text\", label = \"Success Rate of Predicting Yes\", x = 11.5, y = 0.9, size = 4, colour = \"#877d7b\") +\n",
    "  annotate(\"text\", label = \"Profit\", x = 10.5, y = 0.2, size = 4, colour = \"red\") +\n",
    "  ggtitle(\"Maximum profit achieved when k = 4 or k = 6\")"
   ]
  },
  {
   "cell_type": "code",
   "execution_count": 8,
   "metadata": {},
   "outputs": [
    {
     "data": {
      "text/html": [
       "<table>\n",
       "<thead><tr><th></th><th scope=col>k</th><th scope=col>accuracy</th><th scope=col>success_rate</th><th scope=col>pred_yes</th><th scope=col>profit</th><th scope=col>profit2</th></tr></thead>\n",
       "<tbody>\n",
       "\t<tr><th scope=row>4</th><td>4    </td><td>0.930</td><td>0.238</td><td>21   </td><td>5220 </td><td>1    </td></tr>\n",
       "\t<tr><th scope=row>6</th><td>6    </td><td>0.938</td><td>0.364</td><td>11   </td><td>5220 </td><td>1    </td></tr>\n",
       "</tbody>\n",
       "</table>\n"
      ],
      "text/latex": [
       "\\begin{tabular}{r|llllll}\n",
       "  & k & accuracy & success\\_rate & pred\\_yes & profit & profit2\\\\\n",
       "\\hline\n",
       "\t4 & 4     & 0.930 & 0.238 & 21    & 5220  & 1    \\\\\n",
       "\t6 & 6     & 0.938 & 0.364 & 11    & 5220  & 1    \\\\\n",
       "\\end{tabular}\n"
      ],
      "text/markdown": [
       "\n",
       "| <!--/--> | k | accuracy | success_rate | pred_yes | profit | profit2 | \n",
       "|---|---|\n",
       "| 4 | 4     | 0.930 | 0.238 | 21    | 5220  | 1     | \n",
       "| 6 | 6     | 0.938 | 0.364 | 11    | 5220  | 1     | \n",
       "\n",
       "\n"
      ],
      "text/plain": [
       "  k accuracy success_rate pred_yes profit profit2\n",
       "4 4 0.930    0.238        21       5220   1      \n",
       "6 6 0.938    0.364        11       5220   1      "
      ]
     },
     "metadata": {},
     "output_type": "display_data"
    }
   ],
   "source": [
    "max_profit"
   ]
  },
  {
   "cell_type": "markdown",
   "metadata": {},
   "source": [
    "**Note**\n",
    "- Those predicted Yes are sales target.　When sale target actually buys, it is Actual Yes, bringing a margin of 1800. Each sale effort costs 180.\n",
    "- Profit = Margin × Actual Yes - Cost × Predict Yes\n",
    "\n",
    "**Interpretation**\n",
    "- As **k** increases from 1 to 9, the **Success Rate of Predicting Yes** increases accordingly till it reaches maximum when k = 9. Starting from k = 10 onwards, KNN model does not predict any Yes, basically discourage any sales efforts.\n",
    "- As **k** increases, profit sees ups and downs. Profit reaches maximum when k = 4 or k = 6. Between the two, when k = 6, **pred_yes** is smaller, which suggests less sale efforts.\n",
    "\n",
    "Therefore, **the optimal k value is 6**, where maximum profit is gained (5220) with least sales efforts (11)."
   ]
  },
  {
   "cell_type": "markdown",
   "metadata": {},
   "source": [
    "### 10.1:\n",
    "\n",
    "<!--\n",
    "...\n",
    "-->"
   ]
  }
 ],
 "metadata": {
  "kernelspec": {
   "display_name": "R",
   "language": "R",
   "name": "ir"
  },
  "language_info": {
   "codemirror_mode": "r",
   "file_extension": ".r",
   "mimetype": "text/x-r-source",
   "name": "R",
   "pygments_lexer": "r",
   "version": "3.4.3"
  }
 },
 "nbformat": 4,
 "nbformat_minor": 2
}
