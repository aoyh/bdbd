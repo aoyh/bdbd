{
 "cells": [
  {
   "cell_type": "markdown",
   "metadata": {},
   "source": [
    "# Assignment 4 Exercises 9.1, 10.1, 11.1\n",
    "Aaron Ou | 2018-04-23"
   ]
  },
  {
   "cell_type": "code",
   "execution_count": 1,
   "metadata": {},
   "outputs": [
    {
     "name": "stdout",
     "output_type": "stream",
     "text": [
      "\f"
     ]
    },
    {
     "name": "stderr",
     "output_type": "stream",
     "text": [
      "Loading required package: Matrix\n",
      "Loading required package: foreach\n",
      "Loaded glmnet 2.0-5\n",
      "\n"
     ]
    }
   ],
   "source": [
    "rm(list = ls())\n",
    "cat('\\014') # clear console = Ctrl + L\n",
    "library(ggplot2, verbose = FALSE, warn.conflicts = FALSE, quietly = TRUE)\n",
    "library(dplyr, verbose = FALSE, warn.conflicts = FALSE, quietly = TRUE)\n",
    "library(class) # knn()\n",
    "library(repr)\n",
    "library(grid)　# used to define multiplot()\n",
    "library(glmnet) # for ridge and lasso regression\n",
    "library(boot) # for bootstrap"
   ]
  },
  {
   "cell_type": "markdown",
   "metadata": {},
   "source": [
    "### 9.1 KNN:\n",
    "\n",
    "<!--Run KNN on the dataset using 3 different values for K. Compute the success rate and profits for each\n",
    "approach. Discuss your results.\n",
    "Margin per success = 1800; Sale cost per target = 180\n",
    "-->"
   ]
  },
  {
   "cell_type": "code",
   "execution_count": 2,
   "metadata": {},
   "outputs": [
    {
     "data": {
      "text/html": [
       "5822"
      ],
      "text/latex": [
       "5822"
      ],
      "text/markdown": [
       "5822"
      ],
      "text/plain": [
       "[1] 5822"
      ]
     },
     "metadata": {},
     "output_type": "display_data"
    },
    {
     "data": {
      "text/html": [
       "<dl class=dl-horizontal>\n",
       "\t<dt>No</dt>\n",
       "\t\t<dd>5474</dd>\n",
       "\t<dt>Yes</dt>\n",
       "\t\t<dd>348</dd>\n",
       "</dl>\n"
      ],
      "text/latex": [
       "\\begin{description*}\n",
       "\\item[No] 5474\n",
       "\\item[Yes] 348\n",
       "\\end{description*}\n"
      ],
      "text/markdown": [
       "No\n",
       ":   5474Yes\n",
       ":   348\n",
       "\n"
      ],
      "text/plain": [
       "  No  Yes \n",
       "5474  348 "
      ]
     },
     "metadata": {},
     "output_type": "display_data"
    },
    {
     "data": {
      "text/html": [
       "0.0597732737890759"
      ],
      "text/latex": [
       "0.0597732737890759"
      ],
      "text/markdown": [
       "0.0597732737890759"
      ],
      "text/plain": [
       "[1] 0.05977327"
      ]
     },
     "metadata": {},
     "output_type": "display_data"
    }
   ],
   "source": [
    "# Read the data. di refers to data of insurance\n",
    "di <- read.csv(\"../Data/AutoInsurance.csv\", header = TRUE)\n",
    "\n",
    "# Basic summary\n",
    "# names(di)\n",
    "nrow(di)\n",
    "summary(di$Purchase)\n",
    "\n",
    "# % of Yes (basis of random guess)\n",
    "348/(5474 + 348)"
   ]
  },
  {
   "cell_type": "code",
   "execution_count": 3,
   "metadata": {},
   "outputs": [],
   "source": [
    "# Scale the data\n",
    "di_x <- di %>% select(-Purchase) %>% scale\n",
    "\n",
    "# 20% as test dataset, roughly 1000 out of 5800\n",
    "test_rows <- 1:1000\n",
    "test_x <- di_x[test_rows, ]\n",
    "test_y <- di[test_rows, \"Purchase\"]\n",
    "\n",
    "# 80% as training data set\n",
    "train_x <- di_x[-test_rows, ]\n",
    "train_y <- di[-test_rows, \"Purchase\"]"
   ]
  },
  {
   "cell_type": "code",
   "execution_count": 4,
   "metadata": {},
   "outputs": [
    {
     "data": {
      "text/html": [
       "<table>\n",
       "<thead><tr><th scope=col>k</th><th scope=col>accuracy</th><th scope=col>success_rate</th><th scope=col>pred_yes</th><th scope=col>profit</th></tr></thead>\n",
       "<tbody>\n",
       "\t<tr><td> 1   </td><td>0.882</td><td>0.117</td><td>77   </td><td>2340 </td></tr>\n",
       "\t<tr><td> 2   </td><td>0.891</td><td>0.097</td><td>62   </td><td>-360 </td></tr>\n",
       "\t<tr><td> 3   </td><td>0.927</td><td>0.208</td><td>24   </td><td>4680 </td></tr>\n",
       "\t<tr><td> 4   </td><td>0.930</td><td>0.238</td><td>21   </td><td>5220 </td></tr>\n",
       "\t<tr><td> 5   </td><td>0.934</td><td>0.267</td><td>15   </td><td>4500 </td></tr>\n",
       "\t<tr><td> 6   </td><td>0.938</td><td>0.364</td><td>11   </td><td>5220 </td></tr>\n",
       "\t<tr><td> 7   </td><td>0.938</td><td>0.286</td><td> 7   </td><td>2340 </td></tr>\n",
       "\t<tr><td> 8   </td><td>0.939</td><td>0.333</td><td> 6   </td><td>2520 </td></tr>\n",
       "\t<tr><td> 9   </td><td>0.942</td><td>1.000</td><td> 1   </td><td>1620 </td></tr>\n",
       "\t<tr><td>10   </td><td>0.941</td><td>0.000</td><td> 0   </td><td>   0 </td></tr>\n",
       "\t<tr><td>11   </td><td>0.941</td><td>0.000</td><td> 0   </td><td>   0 </td></tr>\n",
       "\t<tr><td>12   </td><td>0.941</td><td>0.000</td><td> 0   </td><td>   0 </td></tr>\n",
       "\t<tr><td>13   </td><td>0.941</td><td>0.000</td><td> 0   </td><td>   0 </td></tr>\n",
       "\t<tr><td>14   </td><td>0.941</td><td>0.000</td><td> 0   </td><td>   0 </td></tr>\n",
       "\t<tr><td>15   </td><td>0.941</td><td>0.000</td><td> 0   </td><td>   0 </td></tr>\n",
       "</tbody>\n",
       "</table>\n"
      ],
      "text/latex": [
       "\\begin{tabular}{r|lllll}\n",
       " k & accuracy & success\\_rate & pred\\_yes & profit\\\\\n",
       "\\hline\n",
       "\t  1    & 0.882 & 0.117 & 77    & 2340 \\\\\n",
       "\t  2    & 0.891 & 0.097 & 62    & -360 \\\\\n",
       "\t  3    & 0.927 & 0.208 & 24    & 4680 \\\\\n",
       "\t  4    & 0.930 & 0.238 & 21    & 5220 \\\\\n",
       "\t  5    & 0.934 & 0.267 & 15    & 4500 \\\\\n",
       "\t  6    & 0.938 & 0.364 & 11    & 5220 \\\\\n",
       "\t  7    & 0.938 & 0.286 &  7    & 2340 \\\\\n",
       "\t  8    & 0.939 & 0.333 &  6    & 2520 \\\\\n",
       "\t  9    & 0.942 & 1.000 &  1    & 1620 \\\\\n",
       "\t 10    & 0.941 & 0.000 &  0    &    0 \\\\\n",
       "\t 11    & 0.941 & 0.000 &  0    &    0 \\\\\n",
       "\t 12    & 0.941 & 0.000 &  0    &    0 \\\\\n",
       "\t 13    & 0.941 & 0.000 &  0    &    0 \\\\\n",
       "\t 14    & 0.941 & 0.000 &  0    &    0 \\\\\n",
       "\t 15    & 0.941 & 0.000 &  0    &    0 \\\\\n",
       "\\end{tabular}\n"
      ],
      "text/markdown": [
       "\n",
       "k | accuracy | success_rate | pred_yes | profit | \n",
       "|---|---|---|---|---|---|---|---|---|---|---|---|---|---|---|\n",
       "|  1    | 0.882 | 0.117 | 77    | 2340  | \n",
       "|  2    | 0.891 | 0.097 | 62    | -360  | \n",
       "|  3    | 0.927 | 0.208 | 24    | 4680  | \n",
       "|  4    | 0.930 | 0.238 | 21    | 5220  | \n",
       "|  5    | 0.934 | 0.267 | 15    | 4500  | \n",
       "|  6    | 0.938 | 0.364 | 11    | 5220  | \n",
       "|  7    | 0.938 | 0.286 |  7    | 2340  | \n",
       "|  8    | 0.939 | 0.333 |  6    | 2520  | \n",
       "|  9    | 0.942 | 1.000 |  1    | 1620  | \n",
       "| 10    | 0.941 | 0.000 |  0    |    0  | \n",
       "| 11    | 0.941 | 0.000 |  0    |    0  | \n",
       "| 12    | 0.941 | 0.000 |  0    |    0  | \n",
       "| 13    | 0.941 | 0.000 |  0    |    0  | \n",
       "| 14    | 0.941 | 0.000 |  0    |    0  | \n",
       "| 15    | 0.941 | 0.000 |  0    |    0  | \n",
       "\n",
       "\n"
      ],
      "text/plain": [
       "   k  accuracy success_rate pred_yes profit\n",
       "1   1 0.882    0.117        77       2340  \n",
       "2   2 0.891    0.097        62       -360  \n",
       "3   3 0.927    0.208        24       4680  \n",
       "4   4 0.930    0.238        21       5220  \n",
       "5   5 0.934    0.267        15       4500  \n",
       "6   6 0.938    0.364        11       5220  \n",
       "7   7 0.938    0.286         7       2340  \n",
       "8   8 0.939    0.333         6       2520  \n",
       "9   9 0.942    1.000         1       1620  \n",
       "10 10 0.941    0.000         0          0  \n",
       "11 11 0.941    0.000         0          0  \n",
       "12 12 0.941    0.000         0          0  \n",
       "13 13 0.941    0.000         0          0  \n",
       "14 14 0.941    0.000         0          0  \n",
       "15 15 0.941    0.000         0          0  "
      ]
     },
     "metadata": {},
     "output_type": "display_data"
    }
   ],
   "source": [
    "# Fit the model on training dataset\n",
    "set.seed(1)\n",
    "\n",
    "ks <- c(1:15)\n",
    "result <- list()\n",
    "for (i in ks) {\n",
    "  k <- ks[i]  \n",
    "  test_pred <- knn(train = train_x, test = test_x, cl = train_y, k = k)\n",
    "  # Test the model's fit on test dataset\n",
    "  # Error rate, a.k.a Misclassification rate. e: error rate; s: success rate (Accuracy) = 1 - error rate\n",
    "  e1 <- round(mean(test_y != test_pred), 3)\n",
    "  accuracy <- 1 - e1\n",
    "\n",
    "  # Confusion matrix to calculate True Positive Rates, defined as Sucess Rate in our case\n",
    "  # The success rate of predicting Yes\n",
    "  dt <- data.frame(test_pred, test_y)\n",
    "  both_yes <- nrow(filter(dt, test_pred == \"Yes\", test_y == \"Yes\"))\n",
    "  pred_yes <- nrow(filter(dt, test_pred == \"Yes\"))\n",
    "  actual_yes <- nrow(filter(dt, test_y == \"Yes\"))\n",
    "  success_rate <- ifelse(both_yes == 0 & pred_yes == 0, 0,\n",
    "                    ifelse(both_yes == 0, 0,\n",
    "                       round(both_yes / pred_yes, 3)))\n",
    "  profit <- both_yes * 1800 - pred_yes * 180\n",
    "  result0 <- data.frame(k = k, accuracy, success_rate, pred_yes, profit)  \n",
    "  if(i == 1) result <- result0 else result <- rbind(result, result0)\n",
    "}\n",
    "\n",
    "result"
   ]
  },
  {
   "cell_type": "code",
   "execution_count": 5,
   "metadata": {},
   "outputs": [],
   "source": [
    "# Scale profit to 0-1\n",
    "result$profit2 <- round(result$profit/max(result$profit, na.rm = T), 3)\n",
    "# Create max_profit data frame to plot vertical line later\n",
    "max_profit <- result[result$profit2 == 1, ]"
   ]
  },
  {
   "cell_type": "code",
   "execution_count": 6,
   "metadata": {},
   "outputs": [
    {
     "data": {},
     "metadata": {},
     "output_type": "display_data"
    },
    {
     "data": {
      "image/png": "[encoded data removed]",
      "text/plain": [
       "plot without title"
      ]
     },
     "metadata": {},
     "output_type": "display_data"
    }
   ],
   "source": [
    "# Set plot size\n",
    "options(repr.plot.width = 9, repr.plot.height = 3)\n",
    "\n",
    "# Plot\n",
    "ggplot(result, aes(x = k)) +\n",
    "  geom_line(aes(y = success_rate), color = \"#877d7b\", size = 1.5) +\n",
    "  geom_line(aes(y = profit2), color = \"red\", size = 1.5) +\n",
    "  geom_vline(xintercept = max_profit$k, color = \"black\") +\n",
    "  ylab(\"Success Rate\") +\n",
    "  scale_y_continuous(sec.axis = sec_axis(trans = ~.*5000, name = \"Profit\")) +\n",
    "  scale_x_discrete(limits = ks) +\n",
    "  annotate(\"text\", label = \"Success Rate of Predicting Yes\", x = 11.5, y = 0.9, size = 4, colour = \"#877d7b\") +\n",
    "  annotate(\"text\", label = \"Profit\", x = 10.5, y = 0.2, size = 4, colour = \"red\") +\n",
    "  ggtitle(\"Maximum profit achieved when k = 4 or k = 6\")"
   ]
  },
  {
   "cell_type": "code",
   "execution_count": 7,
   "metadata": {},
   "outputs": [
    {
     "data": {
      "text/html": [
       "<table>\n",
       "<thead><tr><th></th><th scope=col>k</th><th scope=col>accuracy</th><th scope=col>success_rate</th><th scope=col>pred_yes</th><th scope=col>profit</th><th scope=col>profit2</th></tr></thead>\n",
       "<tbody>\n",
       "\t<tr><th scope=row>4</th><td>4    </td><td>0.930</td><td>0.238</td><td>21   </td><td>5220 </td><td>1    </td></tr>\n",
       "\t<tr><th scope=row>6</th><td>6    </td><td>0.938</td><td>0.364</td><td>11   </td><td>5220 </td><td>1    </td></tr>\n",
       "</tbody>\n",
       "</table>\n"
      ],
      "text/latex": [
       "\\begin{tabular}{r|llllll}\n",
       "  & k & accuracy & success\\_rate & pred\\_yes & profit & profit2\\\\\n",
       "\\hline\n",
       "\t4 & 4     & 0.930 & 0.238 & 21    & 5220  & 1    \\\\\n",
       "\t6 & 6     & 0.938 & 0.364 & 11    & 5220  & 1    \\\\\n",
       "\\end{tabular}\n"
      ],
      "text/markdown": [
       "\n",
       "| <!--/--> | k | accuracy | success_rate | pred_yes | profit | profit2 | \n",
       "|---|---|\n",
       "| 4 | 4     | 0.930 | 0.238 | 21    | 5220  | 1     | \n",
       "| 6 | 6     | 0.938 | 0.364 | 11    | 5220  | 1     | \n",
       "\n",
       "\n"
      ],
      "text/plain": [
       "  k accuracy success_rate pred_yes profit profit2\n",
       "4 4 0.930    0.238        21       5220   1      \n",
       "6 6 0.938    0.364        11       5220   1      "
      ]
     },
     "metadata": {},
     "output_type": "display_data"
    }
   ],
   "source": [
    "max_profit"
   ]
  },
  {
   "cell_type": "markdown",
   "metadata": {},
   "source": [
    "**Note**\n",
    "- Those predicted Yes are sales target.　When sale target actually buys, it is Actual Yes, bringing a margin of 1800. Each sale effort costs 180.\n",
    "- Profit = Margin × Actual Yes - Cost × Predict Yes\n",
    "\n",
    "**Interpretation**\n",
    "- As **k** increases from 1 to 9, the **Success Rate of Predicting Yes** increases accordingly till it reaches maximum when k = 9. Starting from k = 10 onwards, KNN model does not predict any Yes, basically discourage any sales efforts.\n",
    "- As **k** increases, profit sees ups and downs. Profit reaches maximum when k = 4 or k = 6. Between the two, when k = 6, **pred_yes** is smaller, which suggests less sale efforts.\n",
    "\n",
    "Therefore, **the optimal k value is 6**, where maximum profit is gained (5220) with least sales efforts (11)."
   ]
  },
  {
   "cell_type": "markdown",
   "metadata": {},
   "source": [
    "### 10.1a Ridge:\n",
    "\n",
    "<!--a) Fit a ridge regression model to the data from the Caravan auto insurance dataset using\n",
    "outcome Purchase and all of the other variables in the dataset as predictors.\n",
    "i. Load the data and necessary packages. Define the outcome using\n",
    "y=as.factor(Insurance_Data'Purchase) and x matrix using the model.matrix()function. \n",
    "ii. Split the data into a test and training dataset.\n",
    "iii. Fit a ridge regression to the test data over a grid of lambda values. You will need to\n",
    "use the argument family=”binomial” in glmnet because the outcome is\n",
    "binary. You must indicate this argument each time you use glmnet or cv.glmnet.\n",
    "iv. Select the optimal lambda using cross-validation.\n",
    "v. Fit a ridge regression using the optimal λ and report the test error rate. To calculate\n",
    "the test error rate, you will need to re-format the test dataset outcome values\n",
    "(y.test in code from lab above) to numeric values using as.numeric().\n",
    "-->"
   ]
  },
  {
   "cell_type": "code",
   "execution_count": 8,
   "metadata": {},
   "outputs": [
    {
     "data": {
      "text/html": [
       "<ol class=list-inline>\n",
       "\t<li>5822</li>\n",
       "\t<li>85</li>\n",
       "</ol>\n"
      ],
      "text/latex": [
       "\\begin{enumerate*}\n",
       "\\item 5822\n",
       "\\item 85\n",
       "\\end{enumerate*}\n"
      ],
      "text/markdown": [
       "1. 5822\n",
       "2. 85\n",
       "\n",
       "\n"
      ],
      "text/plain": [
       "[1] 5822   85"
      ]
     },
     "metadata": {},
     "output_type": "display_data"
    },
    {
     "name": "stdout",
     "output_type": "stream",
     "text": [
      " Factor w/ 2 levels \"No\",\"Yes\": 1 2\n"
     ]
    }
   ],
   "source": [
    "# Load data\n",
    "i0 <- read.csv(\"../Data/AutoInsurance.csv\") %>% na.omit\n",
    "x <- model.matrix(Purchase~., i0)[, -1]\n",
    "dim(x)\n",
    "y <- i0$Purchase\n",
    "str(unique(y)) # Yes: 2, No: 1\n",
    "\n",
    "\n",
    "# Split into test and training dataset\n",
    "set.seed(1)\n",
    "train <- sample(1:nrow(x), nrow(x)/2)\n",
    "# train <- 1001:nrow(x) # training indices in KNN\n",
    "test <- -train\n",
    "y_test <- y[test]\n",
    "# y_test <- as.numeric(y[test])"
   ]
  },
  {
   "cell_type": "code",
   "execution_count": 9,
   "metadata": {},
   "outputs": [],
   "source": [
    "# 1. Define function ===================================================\n",
    "grid = 10^seq(10, -2, length = 100)\n",
    "ReturnAlpha <- function(x) {ifelse(x == \"ridge\", 0, ifelse(x == \"lasso\", 1, NA))}\n",
    "\n",
    "TestErrorRateAndCoef <- function(x, y, model_type) {   \n",
    "  alpha_value <- ReturnAlpha(model_type)\n",
    "  # Training dataset: fit model, choose tuning parameter lambda\n",
    "  cv_out <- cv.glmnet(x[train, ], y[train], alpha = alpha_value, family = \"binomial\")\n",
    "  # Find best lambda from cross validation\n",
    "  bestlam <- cv_out$lambda.min # lambda.min is a variable name in the list `cv_out`\n",
    "  \n",
    "  cat(paste0(\"=== \", toupper(model_type), \" REGRESSION ===\\n\"))  \n",
    "  # Result 1: Predicted values ===========================================\n",
    "  \n",
    "  # Full dataset: fit model with a grid of lambda  \n",
    "  mod <- glmnet(x, y, alpha = alpha_value, lambda = grid, family = \"binomial\")\n",
    "  # Test dataset: predict y_test using model derived from full dataset and best lambda from Training\n",
    "  y_pred <- predict(mod, s = bestlam, newx = x[test, ], type = \"class\")\n",
    "  cat(\"--- Summary of predicted values on test data ---\\n\")\n",
    "  cat(summary(y_pred)) \n",
    "  \n",
    "  # Result 2: Test MSE ==================================================\n",
    "  cat(\"\\n\\n--- Test MSE under best lambda (Outcome is binary) ---\\n\")\n",
    "  # Since it is binary, unncessary to be transformed to numbers    \n",
    "  # y_pred <- as.numeric(as.factor(y_pred))\n",
    "  print(table(y_pred, y_test))\n",
    "  mse <- round(mean(y_pred != y_test), 4)\n",
    "  cat(paste0(\"\\nTest MSE:  mean(y_pred != y_test) = \",  mse))\n",
    "  \n",
    "  # Result 3: Coefficients under best lambda ============================\n",
    "  cat(\"\\n\\n--- Coefficients under best lambda ---\\n\")\n",
    "  coeff <- predict(glmnet(x, y, alpha = alpha_value, family = \"binomial\"), type = \"coefficients\", s = bestlam)\n",
    "  # coeff\n",
    "  cat(paste0(\"Number of non-zero coefficients estimated: \", sum(as.numeric(coeff) != 0)))\n",
    "}"
   ]
  },
  {
   "cell_type": "code",
   "execution_count": 10,
   "metadata": {},
   "outputs": [
    {
     "name": "stdout",
     "output_type": "stream",
     "text": [
      "=== RIDGE REGRESSION ===\n",
      "--- Summary of predicted values on test data ---\n",
      "No :2908   Yes:   3  \n",
      "\n",
      "--- Test MSE under best lambda (Outcome is binary) ---\n",
      "      y_test\n",
      "y_pred   No  Yes\n",
      "   No  2731  177\n",
      "   Yes    1    2\n",
      "\n",
      "Test MSE:  mean(y_pred != y_test) = 0.0611\n",
      "\n",
      "--- Coefficients under best lambda ---\n",
      "Number of non-zero coefficients estimated: 86"
     ]
    }
   ],
   "source": [
    "# Ridge regression\n",
    "set.seed(1)\n",
    "TestErrorRateAndCoef(x, y, \"ridge\")"
   ]
  },
  {
   "cell_type": "markdown",
   "metadata": {},
   "source": [
    "### 10.1b Lasso:\n",
    "\n",
    "<!--b) Repeat steps iii-v above using a lasso regression. Also report the number of non-zero\n",
    "coefficients estimated. Compare the test error rates. Which is procedure do you think is\n",
    "preferable?\n",
    "-->"
   ]
  },
  {
   "cell_type": "code",
   "execution_count": 11,
   "metadata": {},
   "outputs": [
    {
     "name": "stdout",
     "output_type": "stream",
     "text": [
      "=== LASSO REGRESSION ===\n",
      "--- Summary of predicted values on test data ---\n",
      "No :2910   Yes:   1  \n",
      "\n",
      "--- Test MSE under best lambda (Outcome is binary) ---\n",
      "      y_test\n",
      "y_pred   No  Yes\n",
      "   No  2732  178\n",
      "   Yes    0    1\n",
      "\n",
      "Test MSE:  mean(y_pred != y_test) = 0.0611\n",
      "\n",
      "--- Coefficients under best lambda ---\n",
      "Number of non-zero coefficients estimated: 32"
     ]
    }
   ],
   "source": [
    "# Lasso regression\n",
    "set.seed(1)\n",
    "TestErrorRateAndCoef(x, y, \"lasso\")"
   ]
  },
  {
   "cell_type": "markdown",
   "metadata": {
    "collapsed": true
   },
   "source": [
    "**Interpretation**\n",
    "\n",
    "As shown in the result above, the number of non-zero coefficients estimated is 32 out of 86 in Lasso as opposed to 86 in Ridge regression. Lasso is much better in \"shrinking\" some of the coefficients exactly to zero.\n",
    "\n",
    "Comparing the test error rate (MSE), Lasso and Ridge are almost the same (0.0611).\n",
    "\n",
    "In conclusion, Lasso is preferred."
   ]
  },
  {
   "cell_type": "markdown",
   "metadata": {},
   "source": [
    "### 10.1c:\n",
    "\n",
    "<!--c) What do you notice about the predicted values for Purchase generated by Lasso and Ridge in\n",
    "this case? How do they compare to those generated from KNN?\n",
    "-->"
   ]
  },
  {
   "cell_type": "markdown",
   "metadata": {},
   "source": [
    "In terms of predicted values for Purchase, the results between Lasso and Ridge are quite close to each other.\n",
    "\n",
    "Note that neither Ridge or Lasso predicts much \"Yes\" in the outcome while KNN predicts more \"Yes\", which is more actionable and preferrable."
   ]
  },
  {
   "cell_type": "markdown",
   "metadata": {},
   "source": [
    "### 11.1a Bootstrap:\n",
    "\n",
    "<!--a) Use the lm function to run an OLS regression of weight (explanatory variable) on acceleration (outcome) using the Auto dataset. Report and interpret the standard errors and coefficients.\n",
    "-->"
   ]
  },
  {
   "cell_type": "code",
   "execution_count": 12,
   "metadata": {},
   "outputs": [
    {
     "data": {
      "text/html": [
       "<table>\n",
       "<thead><tr><th></th><th scope=col>Estimate</th><th scope=col>Std. Error</th><th scope=col>t value</th><th scope=col>Pr(&gt;|t|)</th></tr></thead>\n",
       "<tbody>\n",
       "\t<tr><th scope=row>(Intercept)</th><td>19.572665810 </td><td>0.4628600613 </td><td>42.286357    </td><td>9.544548e-148</td></tr>\n",
       "\t<tr><th scope=row>weight</th><td>-0.001353896 </td><td>0.0001494992 </td><td>-9.056209    </td><td> 6.565616e-18</td></tr>\n",
       "</tbody>\n",
       "</table>\n"
      ],
      "text/latex": [
       "\\begin{tabular}{r|llll}\n",
       "  & Estimate & Std. Error & t value & Pr(>\\textbar{}t\\textbar{})\\\\\n",
       "\\hline\n",
       "\t(Intercept) & 19.572665810  & 0.4628600613  & 42.286357     & 9.544548e-148\\\\\n",
       "\tweight & -0.001353896  & 0.0001494992  & -9.056209     &  6.565616e-18\\\\\n",
       "\\end{tabular}\n"
      ],
      "text/markdown": [
       "\n",
       "| <!--/--> | Estimate | Std. Error | t value | Pr(>|t|) | \n",
       "|---|---|\n",
       "| (Intercept) | 19.572665810  | 0.4628600613  | 42.286357     | 9.544548e-148 | \n",
       "| weight | -0.001353896  | 0.0001494992  | -9.056209     |  6.565616e-18 | \n",
       "\n",
       "\n"
      ],
      "text/plain": [
       "            Estimate     Std. Error   t value   Pr(>|t|)     \n",
       "(Intercept) 19.572665810 0.4628600613 42.286357 9.544548e-148\n",
       "weight      -0.001353896 0.0001494992 -9.056209  6.565616e-18"
      ]
     },
     "metadata": {},
     "output_type": "display_data"
    }
   ],
   "source": [
    "auto <- read.csv(\"../Data/Auto.csv\")\n",
    "summary(lm(acceleration ~ weight, data = auto))$coef"
   ]
  },
  {
   "cell_type": "markdown",
   "metadata": {},
   "source": [
    "Coefficient: -0.0013539\n",
    "\n",
    "Standard Error: 0.0001495\n",
    "\n",
    "For every one addition unit of weight, the accelration will be -0.0013539 slower. Standard Error is small, p-value is small, statistically significant.\n"
   ]
  },
  {
   "cell_type": "markdown",
   "metadata": {},
   "source": [
    "### 11.1b Bootstrap:\n",
    "\n",
    "<!--b) Bootstrap the standard errors. How do your estimates compare to those generated by lm?\n",
    "-->"
   ]
  },
  {
   "cell_type": "code",
   "execution_count": 13,
   "metadata": {},
   "outputs": [
    {
     "data": {
      "text/plain": [
       "\n",
       "ORDINARY NONPARAMETRIC BOOTSTRAP\n",
       "\n",
       "\n",
       "Call:\n",
       "boot(data = auto1, statistic = BetaFn, R = 1000)\n",
       "\n",
       "\n",
       "Bootstrap Statistics :\n",
       "        original        bias     std. error\n",
       "t1* 19.572665810  3.658635e-02 0.4226734830\n",
       "t2* -0.001353896 -1.206432e-05 0.0001372339"
      ]
     },
     "metadata": {},
     "output_type": "display_data"
    }
   ],
   "source": [
    "# 1. Define function\n",
    "BetaFn <- function(data, index){\n",
    "  coef(lm(y ~ x, data, subset = index))\n",
    "}\n",
    "\n",
    "# 2. Repeat 1000 times in bootstrap\n",
    "auto1 <- auto %>% select(acceleration, weight) %>%\n",
    "  rename(x = weight, y = acceleration)\n",
    "\n",
    "set.seed(1)\n",
    "boot(auto1, statistic = BetaFn, R = 1000)"
   ]
  },
  {
   "cell_type": "markdown",
   "metadata": {},
   "source": [
    "**Interpretation**\n",
    "\n",
    "The standard error from bootstrap is 0.0001372, somewhat different from 0.0001495 generated by lm.\n",
    "\n",
    "Difference is also seen in a quadratic model as below."
   ]
  },
  {
   "cell_type": "code",
   "execution_count": 14,
   "metadata": {},
   "outputs": [
    {
     "data": {
      "text/plain": [
       "\n",
       "ORDINARY NONPARAMETRIC BOOTSTRAP\n",
       "\n",
       "\n",
       "Call:\n",
       "boot(data = auto1, statistic = BetaFn2, R = 1000)\n",
       "\n",
       "\n",
       "Bootstrap Statistics :\n",
       "         original        bias     std. error\n",
       "t1*  1.566689e+01  8.155684e-02 1.756763e+00\n",
       "t2*  1.287853e-03 -4.067256e-05 1.151767e-03\n",
       "t3* -4.131442e-07  3.923306e-09 1.740913e-07"
      ]
     },
     "metadata": {},
     "output_type": "display_data"
    }
   ],
   "source": [
    "# Quadratic model, bootstrap\n",
    "BetaFn2 <- function(data, index) {\n",
    "  coef(lm(y ~ x + I(x^2), data, subset = index)) \n",
    "}\n",
    "\n",
    "set.seed(1)\n",
    "boot(auto1, BetaFn2, 1000)"
   ]
  },
  {
   "cell_type": "code",
   "execution_count": 15,
   "metadata": {},
   "outputs": [
    {
     "data": {
      "text/html": [
       "<table>\n",
       "<thead><tr><th></th><th scope=col>Estimate</th><th scope=col>Std. Error</th><th scope=col>t value</th><th scope=col>Pr(&gt;|t|)</th></tr></thead>\n",
       "<tbody>\n",
       "\t<tr><th scope=row>(Intercept)</th><td> 1.566689e+01</td><td>1.790161e+00 </td><td> 8.751665    </td><td>6.476166e-17 </td></tr>\n",
       "\t<tr><th scope=row>x</th><td> 1.287853e-03</td><td>1.179488e-03 </td><td> 1.091875    </td><td>2.755640e-01 </td></tr>\n",
       "\t<tr><th scope=row>I(x^2)</th><td>-4.131442e-07</td><td>1.829884e-07 </td><td>-2.257761    </td><td>2.451424e-02 </td></tr>\n",
       "</tbody>\n",
       "</table>\n"
      ],
      "text/latex": [
       "\\begin{tabular}{r|llll}\n",
       "  & Estimate & Std. Error & t value & Pr(>\\textbar{}t\\textbar{})\\\\\n",
       "\\hline\n",
       "\t(Intercept) &  1.566689e+01 & 1.790161e+00  &  8.751665     & 6.476166e-17 \\\\\n",
       "\tx &  1.287853e-03 & 1.179488e-03  &  1.091875     & 2.755640e-01 \\\\\n",
       "\tI(x\\textasciicircum{}2) & -4.131442e-07 & 1.829884e-07  & -2.257761     & 2.451424e-02 \\\\\n",
       "\\end{tabular}\n"
      ],
      "text/markdown": [
       "\n",
       "| <!--/--> | Estimate | Std. Error | t value | Pr(>|t|) | \n",
       "|---|---|---|\n",
       "| (Intercept) |  1.566689e+01 | 1.790161e+00  |  8.751665     | 6.476166e-17  | \n",
       "| x |  1.287853e-03 | 1.179488e-03  |  1.091875     | 2.755640e-01  | \n",
       "| I(x^2) | -4.131442e-07 | 1.829884e-07  | -2.257761     | 2.451424e-02  | \n",
       "\n",
       "\n"
      ],
      "text/plain": [
       "            Estimate      Std. Error   t value   Pr(>|t|)    \n",
       "(Intercept)  1.566689e+01 1.790161e+00  8.751665 6.476166e-17\n",
       "x            1.287853e-03 1.179488e-03  1.091875 2.755640e-01\n",
       "I(x^2)      -4.131442e-07 1.829884e-07 -2.257761 2.451424e-02"
      ]
     },
     "metadata": {},
     "output_type": "display_data"
    }
   ],
   "source": [
    "# Quadratic on full data set\n",
    "summary(lm(y ~ x + I(x^2), data = auto1))$coef"
   ]
  },
  {
   "cell_type": "markdown",
   "metadata": {},
   "source": [
    "### 11.1c Bootstrap:\n",
    "\n",
    "<!--c) Do you think 11.1 a) Use the lm function to run an OLS regression of weight (explanatory variable) on acceleration (outcome) using the Auto dataset. Report and interpret the standard errors and coefficients.the assumptions required to use the traditional standard errors are fulfilled? Use the results of (a) and (b) as well as a scatterplot of weight and acceleration to support your answer.\n",
    "-->"
   ]
  },
  {
   "cell_type": "markdown",
   "metadata": {},
   "source": [
    "The assumptions required from simple linear regression are not fully met.\n",
    "\n",
    "- The SE from bootstrap is somewhat different from that from lm.\n",
    "- The scatter plot below also demonstrates that:\n",
    "  - The relationship between dependent and independent variables is non-linear (red fit line)\n",
    "  - Even fitted with linear (blue line), the error distribution is not normal"
   ]
  },
  {
   "cell_type": "code",
   "execution_count": 16,
   "metadata": {},
   "outputs": [
    {
     "name": "stderr",
     "output_type": "stream",
     "text": [
      "`geom_smooth()` using method = 'loess'\n"
     ]
    },
    {
     "data": {},
     "metadata": {},
     "output_type": "display_data"
    },
    {
     "data": {
      "image/png": "[encoded data removed]",
      "text/plain": [
       "plot without title"
      ]
     },
     "metadata": {},
     "output_type": "display_data"
    }
   ],
   "source": [
    "# Set plot size\n",
    "options(repr.plot.width = 4, repr.plot.height = 4)\n",
    "\n",
    "# Scatter plot\n",
    "ggplot(auto1, aes(x, y)) +\n",
    "  geom_point() +\n",
    "  geom_smooth(method = \"lm\") +\n",
    "  geom_smooth(color = \"red\", se = FALSE)"
   ]
  }
 ],
 "metadata": {
  "kernelspec": {
   "display_name": "R",
   "language": "R",
   "name": "ir"
  },
  "language_info": {
   "codemirror_mode": "r",
   "file_extension": ".r",
   "mimetype": "text/x-r-source",
   "name": "R",
   "pygments_lexer": "r",
   "version": "3.3.2"
  }
 },
 "nbformat": 4,
 "nbformat_minor": 2
}
