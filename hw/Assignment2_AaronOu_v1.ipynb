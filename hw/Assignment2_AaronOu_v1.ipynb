{
 "cells": [
  {
   "cell_type": "markdown",
   "metadata": {},
   "source": [
    "# Assignment 2: Exercises 4.1-4.3, 5.1-5.2\n",
    "Aaron Ou | 2018-02-19 updated on 2018-03-18"
   ]
  },
  {
   "cell_type": "markdown",
   "metadata": {},
   "source": [
    "### Exercise 4.1:\n",
    "\n",
    "<!--Open PanelPROGRESA_97_99year.csv. This dataset is a repeated cross-\n",
    "section of different waves of the ENCEL survey for March and October 1998 and November 1999. It\n",
    "also includes the baseline data collected in 1997. We have used this or part of this dataset previous\n",
    "modules as well.\n",
    "\n",
    "Let’s assume that we expect PROGRESA (D_HH) to change the income of the household\n",
    "(IncomeLabHH) in 1999. Specify a regression model in R as discussed above and restrict the data to\n",
    "be used from year 1999 (variable year). What is the impact of the intervention on income levels? Is\n",
    "it statistically significant? How do you interpret the coefficient?\n",
    "-->"
   ]
  },
  {
   "cell_type": "code",
   "execution_count": 1,
   "metadata": {
    "collapsed": true
   },
   "outputs": [],
   "source": [
    "# Clear environment \n",
    "rm(list = ls())\n",
    "\n",
    "# Load packages\n",
    "suppressMessages(library(dplyr))\n",
    "suppressMessages(library(miceadds))\n",
    "suppressMessages(library(multiwayvcov))\n",
    "suppressMessages(library(gmodels))\n",
    "suppressMessages(library(AER))"
   ]
  },
  {
   "cell_type": "code",
   "execution_count": 2,
   "metadata": {},
   "outputs": [
    {
     "data": {
      "text/html": [
       "<ol class=list-inline>\n",
       "\t<li>'year'</li>\n",
       "\t<li>'villid'</li>\n",
       "\t<li>'geopolid'</li>\n",
       "\t<li>'hogid'</li>\n",
       "\t<li>'pov_HH'</li>\n",
       "\t<li>'D'</li>\n",
       "\t<li>'D_HH'</li>\n",
       "\t<li>'IncomeLab_HH'</li>\n",
       "\t<li>'famsize'</li>\n",
       "\t<li>'eduhead'</li>\n",
       "\t<li>'agehead'</li>\n",
       "\t<li>'sexhead'</li>\n",
       "</ol>\n"
      ],
      "text/latex": [
       "\\begin{enumerate*}\n",
       "\\item 'year'\n",
       "\\item 'villid'\n",
       "\\item 'geopolid'\n",
       "\\item 'hogid'\n",
       "\\item 'pov\\_HH'\n",
       "\\item 'D'\n",
       "\\item 'D\\_HH'\n",
       "\\item 'IncomeLab\\_HH'\n",
       "\\item 'famsize'\n",
       "\\item 'eduhead'\n",
       "\\item 'agehead'\n",
       "\\item 'sexhead'\n",
       "\\end{enumerate*}\n"
      ],
      "text/markdown": [
       "1. 'year'\n",
       "2. 'villid'\n",
       "3. 'geopolid'\n",
       "4. 'hogid'\n",
       "5. 'pov_HH'\n",
       "6. 'D'\n",
       "7. 'D_HH'\n",
       "8. 'IncomeLab_HH'\n",
       "9. 'famsize'\n",
       "10. 'eduhead'\n",
       "11. 'agehead'\n",
       "12. 'sexhead'\n",
       "\n",
       "\n"
      ],
      "text/plain": [
       " [1] \"year\"         \"villid\"       \"geopolid\"     \"hogid\"        \"pov_HH\"      \n",
       " [6] \"D\"            \"D_HH\"         \"IncomeLab_HH\" \"famsize\"      \"eduhead\"     \n",
       "[11] \"agehead\"      \"sexhead\"     "
      ]
     },
     "metadata": {},
     "output_type": "display_data"
    }
   ],
   "source": [
    "d1 <- read.csv(\"../Data/PanelPROGRESA_97_99year.csv\") %>% filter(year == 1999)\n",
    "names(d1)"
   ]
  },
  {
   "cell_type": "code",
   "execution_count": 3,
   "metadata": {},
   "outputs": [
    {
     "data": {
      "text/plain": [
       "\n",
       "Call:\n",
       "lm(formula = IncomeLab_HH ~ D_HH, data = d1, na.action = \"na.exclude\")\n",
       "\n",
       "Residuals:\n",
       "    Min      1Q  Median      3Q     Max \n",
       "  -1977   -1094    -699     -99 1801006 \n",
       "\n",
       "Coefficients:\n",
       "            Estimate Std. Error t value Pr(>|t|)    \n",
       "(Intercept)  1898.63     144.12  13.174   <2e-16 ***\n",
       "D_HH           94.89     238.57   0.398    0.691    \n",
       "---\n",
       "Signif. codes:  0 ‘***’ 0.001 ‘**’ 0.01 ‘*’ 0.05 ‘.’ 0.1 ‘ ’ 1\n",
       "\n",
       "Residual standard error: 15570 on 18368 degrees of freedom\n",
       "  (4893 observations deleted due to missingness)\n",
       "Multiple R-squared:  8.612e-06,\tAdjusted R-squared:  -4.583e-05 \n",
       "F-statistic: 0.1582 on 1 and 18368 DF,  p-value: 0.6908\n"
      ]
     },
     "metadata": {},
     "output_type": "display_data"
    }
   ],
   "source": [
    "model0 <- lm(data = d1, IncomeLab_HH ~ D_HH, na.action = 'na.exclude')\n",
    "summary(model0)"
   ]
  },
  {
   "cell_type": "markdown",
   "metadata": {},
   "source": [
    "The p-value of the coefficient of `D_HH` is 0.69, much bigger than 0.05 (95% confidence level). Thus, we fail to reject H0. The correlation between income and the PROGRESA(`D_HH`) is not statistically significant."
   ]
  },
  {
   "cell_type": "markdown",
   "metadata": {},
   "source": [
    "### Exercise 4.2:\n",
    "\n",
    "<!--\n",
    "Conduct a two-sided t-test to compare if household income is different by the treatment\n",
    "assignment. Are the results same as those from the regression analysis?\n",
    "-->"
   ]
  },
  {
   "cell_type": "code",
   "execution_count": 4,
   "metadata": {},
   "outputs": [
    {
     "data": {
      "text/plain": [
       "\n",
       "\tTwo Sample t-test\n",
       "\n",
       "data:  IncomeLab_HH by D_HH\n",
       "t = -0.39773, df = 18368, p-value = 0.6908\n",
       "alternative hypothesis: true difference in means is not equal to 0\n",
       "95 percent confidence interval:\n",
       " -562.5125  372.7393\n",
       "sample estimates:\n",
       "mean in group 0 mean in group 1 \n",
       "       1898.628        1993.514 \n"
      ]
     },
     "metadata": {},
     "output_type": "display_data"
    }
   ],
   "source": [
    "# Calculate t-statistics\n",
    "t1 <- t.test(IncomeLab_HH ~ D_HH, data = d1, var.equal = T)\n",
    "t1\n",
    "t_value <- round(t1$statistic, 2)"
   ]
  },
  {
   "cell_type": "code",
   "execution_count": 5,
   "metadata": {},
   "outputs": [
    {
     "data": {
      "text/html": [
       "<strong>df:</strong> 18368"
      ],
      "text/latex": [
       "\\textbf{df:} 18368"
      ],
      "text/markdown": [
       "**df:** 18368"
      ],
      "text/plain": [
       "   df \n",
       "18368 "
      ]
     },
     "metadata": {},
     "output_type": "display_data"
    }
   ],
   "source": [
    "t1$parameter"
   ]
  },
  {
   "cell_type": "code",
   "execution_count": 6,
   "metadata": {},
   "outputs": [
    {
     "data": {
      "text/html": [
       "-1.64"
      ],
      "text/latex": [
       "-1.64"
      ],
      "text/markdown": [
       "-1.64"
      ],
      "text/plain": [
       "[1] -1.64"
      ]
     },
     "metadata": {},
     "output_type": "display_data"
    }
   ],
   "source": [
    "# Calculate critical t-value at 90% confidence level; 5% significance level for a two sided t-test\n",
    "crit <- round(qt(0.05, t1$parameter), 2)\n",
    "crit"
   ]
  },
  {
   "cell_type": "code",
   "execution_count": 7,
   "metadata": {},
   "outputs": [
    {
     "name": "stdout",
     "output_type": "stream",
     "text": [
      "[1] \"The calculated t-value is -0.4, greater than the critical t-value -1.64\"\n"
     ]
    },
    {
     "data": {
      "text/html": [
       "'-0.4 &gt; -1.64'"
      ],
      "text/latex": [
       "'-0.4 > -1.64'"
      ],
      "text/markdown": [
       "'-0.4 &gt; -1.64'"
      ],
      "text/plain": [
       "[1] \"-0.4 > -1.64\""
      ]
     },
     "metadata": {},
     "output_type": "display_data"
    }
   ],
   "source": [
    "# Compare t-statistic with critical t-value\n",
    "print(paste0(\"The calculated t-value is \", t_value, \n",
    "             \", greater than the critical t-value \",\n",
    "             crit) \n",
    "      )\n",
    "paste0(round(t1$statistic, 2), \" > \", crit)"
   ]
  },
  {
   "cell_type": "markdown",
   "metadata": {},
   "source": [
    "Therefore, we fail to reject H0, say that the difference is not significnat enough. The result is the same with those from the regression analysis."
   ]
  },
  {
   "cell_type": "markdown",
   "metadata": {},
   "source": [
    "### Exercise 4.3:\n",
    "\n",
    "<!--\n",
    "As a demonstration, let’s assume that poverty status of a household (pov_HH) is a\n",
    "confounder and we should control for it in the regression analysis. Specify a regression model in R that\n",
    "tests the effect of PROGRESA on income, controlling for poverty status of the household and\n",
    "remembering to restrict the data to be used from year 1999 (variable year).\n",
    "Now, specify a separate regression model, this time clustering the standard errors at the village level.\n",
    "We can most easily accomplish this using the lm.cluster function in R:\n",
    "PROGRESA_99 <- PanelPROGRESA_97_99year[which(PanelPROGRESA_97_99year$year\n",
    "== 1999), ]\n",
    "model2 <- lm.cluster(data = PROGRESA_99, formula=IncomeLab_HH ~ D_HH+pov_HH,\n",
    "cluster=PROGRESA_99$villid)\n",
    "summary(model2)\n",
    "You will need to install and load the packages miceadds and multiwayvcov to use this command.\n",
    "What happens to the effect size (magnitude of the coefficient) and the standard errors when\n",
    "comparing output from the two models? Based on the output from these regressions, did PROGRESA\n",
    "significantly impact income levels?\n",
    "-->"
   ]
  },
  {
   "cell_type": "code",
   "execution_count": 8,
   "metadata": {
    "scrolled": true
   },
   "outputs": [
    {
     "data": {
      "text/plain": [
       "\n",
       "Call:\n",
       "lm(formula = IncomeLab_HH ~ D_HH + pov_HH, data = d1)\n",
       "\n",
       "Residuals:\n",
       "    Min      1Q  Median      3Q     Max \n",
       "  -2188   -1094    -714     -31 1801006 \n",
       "\n",
       "Coefficients:\n",
       "            Estimate Std. Error t value Pr(>|t|)    \n",
       "(Intercept)   2204.4      252.4   8.735   <2e-16 ***\n",
       "D_HH           229.0      266.0   0.861    0.389    \n",
       "pov_HHpoor    -440.0      312.2  -1.409    0.159    \n",
       "---\n",
       "Signif. codes:  0 ‘***’ 0.001 ‘**’ 0.01 ‘*’ 0.05 ‘.’ 0.1 ‘ ’ 1\n",
       "\n",
       "Residual standard error: 15750 on 17939 degrees of freedom\n",
       "  (5321 observations deleted due to missingness)\n",
       "Multiple R-squared:  0.0001162,\tAdjusted R-squared:  4.757e-06 \n",
       "F-statistic: 1.043 on 2 and 17939 DF,  p-value: 0.3525\n"
      ]
     },
     "metadata": {},
     "output_type": "display_data"
    }
   ],
   "source": [
    "model1 <- lm(data = d1, IncomeLab_HH ~ D_HH + pov_HH)\n",
    "summary(model1)"
   ]
  },
  {
   "cell_type": "code",
   "execution_count": 9,
   "metadata": {},
   "outputs": [
    {
     "name": "stdout",
     "output_type": "stream",
     "text": [
      "R^2 = 0.00012 \n",
      "\n",
      "             Estimate Std. Error    t value      Pr(>|t|)\n",
      "(Intercept) 2204.4456   75.01622 29.3862515 8.230176e-190\n",
      "D_HH         229.0350  324.93091  0.7048728  4.808894e-01\n",
      "pov_HHpoor  -439.9662  138.20071 -3.1835308  1.454906e-03\n"
     ]
    }
   ],
   "source": [
    "# cluster by village\n",
    "model2 <- lm.cluster(data = d1, IncomeLab_HH ~ D_HH + pov_HH, cluster = d1$villid)\n",
    "summary(model2)"
   ]
  },
  {
   "cell_type": "markdown",
   "metadata": {},
   "source": [
    "Comparing `model1` and `model2`, while the magnitude of the coefficient remains almost the same (229), the standard error increases from 266 in `model1` to 324 in the clustered `model2`.\n",
    "\n",
    "However, both `model1` and `model2` fail to reject H0 at 90% confidence level:\n",
    "\n",
    "\n",
    "Model | P-value of D_HH | Comment\n",
    "--- | --- | ---\n",
    "`model1` | 0.389　| > 0.1\n",
    "`model2` | 0.48 | > 0.1\n",
    "\n",
    "Based on the output from the two regressions, PROGRESA did not impact income levels significantly."
   ]
  },
  {
   "cell_type": "markdown",
   "metadata": {},
   "source": [
    "### Exercise 5.1:\n",
    "\n",
    "<!--\n",
    "Conduct a two-sided t-test to compare if household income is different by the treatment\n",
    "assignment. Are the results same as those from the regression analysis?Open the PanelPROGRESA_97_99year.csv; this is the same dataset as that\n",
    "used previously. We assume that the villages (villid) were randomly assigned PROGRESA (D).\n",
    "However, the families in the study villages had a choice whether to participate in the program; we\n",
    "indicate participants with D_HH. In reality there was an eligibility criterion to participate in\n",
    "PROGRESA in the selected villages, but for this exercise we will assume that all households in\n",
    "treatment villages were eligible. Now, cross-tabulate the frequency of households assigned to the\n",
    "treatment groups and their actual participation. What is the level of compliance?\n",
    "Now estimate the effect of D and D_HH on household income (IncomeLab_HH) in year 1998. Which\n",
    "effect is larger in magnitude (ignore their statistical significance)? Do you think that either effect is\n",
    "measured causally?\n",
    "-->"
   ]
  },
  {
   "cell_type": "code",
   "execution_count": 10,
   "metadata": {},
   "outputs": [
    {
     "data": {
      "text/html": [
       "<table>\n",
       "<thead><tr><th scope=col>year</th><th scope=col>villid</th><th scope=col>geopolid</th><th scope=col>hogid</th><th scope=col>pov_HH</th><th scope=col>D</th><th scope=col>D_HH</th><th scope=col>IncomeLab_HH</th><th scope=col>famsize</th><th scope=col>eduhead</th><th scope=col>agehead</th><th scope=col>sexhead</th></tr></thead>\n",
       "<tbody>\n",
       "\t<tr><td>1998    </td><td>13030105</td><td>13      </td><td>1       </td><td>poor    </td><td>Treated </td><td>NA      </td><td>  NA    </td><td>2       </td><td>NA      </td><td>70      </td><td>Male    </td></tr>\n",
       "\t<tr><td>1998    </td><td>13030024</td><td>13      </td><td>2       </td><td>Non poor</td><td>Control </td><td> 0      </td><td>9000    </td><td>3       </td><td>NA      </td><td>27      </td><td>Male    </td></tr>\n",
       "</tbody>\n",
       "</table>\n"
      ],
      "text/latex": [
       "\\begin{tabular}{r|llllllllllll}\n",
       " year & villid & geopolid & hogid & pov\\_HH & D & D\\_HH & IncomeLab\\_HH & famsize & eduhead & agehead & sexhead\\\\\n",
       "\\hline\n",
       "\t 1998     & 13030105 & 13       & 1        & poor     & Treated  & NA       &   NA     & 2        & NA       & 70       & Male    \\\\\n",
       "\t 1998     & 13030024 & 13       & 2        & Non poor & Control  &  0       & 9000     & 3        & NA       & 27       & Male    \\\\\n",
       "\\end{tabular}\n"
      ],
      "text/markdown": [
       "\n",
       "year | villid | geopolid | hogid | pov_HH | D | D_HH | IncomeLab_HH | famsize | eduhead | agehead | sexhead | \n",
       "|---|---|\n",
       "| 1998     | 13030105 | 13       | 1        | poor     | Treated  | NA       |   NA     | 2        | NA       | 70       | Male     | \n",
       "| 1998     | 13030024 | 13       | 2        | Non poor | Control  |  0       | 9000     | 3        | NA       | 27       | Male     | \n",
       "\n",
       "\n"
      ],
      "text/plain": [
       "  year villid   geopolid hogid pov_HH   D       D_HH IncomeLab_HH famsize\n",
       "1 1998 13030105 13       1     poor     Treated NA     NA         2      \n",
       "2 1998 13030024 13       2     Non poor Control  0   9000         3      \n",
       "  eduhead agehead sexhead\n",
       "1 NA      70      Male   \n",
       "2 NA      27      Male   "
      ]
     },
     "metadata": {},
     "output_type": "display_data"
    },
    {
     "data": {
      "text/html": [
       "<ol class=list-inline>\n",
       "\t<li>&lt;NA&gt;</li>\n",
       "\t<li>0</li>\n",
       "\t<li>1</li>\n",
       "</ol>\n"
      ],
      "text/latex": [
       "\\begin{enumerate*}\n",
       "\\item <NA>\n",
       "\\item 0\n",
       "\\item 1\n",
       "\\end{enumerate*}\n"
      ],
      "text/markdown": [
       "1. &lt;NA&gt;\n",
       "2. 0\n",
       "3. 1\n",
       "\n",
       "\n"
      ],
      "text/plain": [
       "[1] NA  0  1"
      ]
     },
     "metadata": {},
     "output_type": "display_data"
    }
   ],
   "source": [
    "d2 <- read.csv(\"../Data/PanelPROGRESA_97_99year.csv\")\n",
    "head(d2, 2)\n",
    "unique(d2$D_HH)"
   ]
  },
  {
   "cell_type": "code",
   "execution_count": 11,
   "metadata": {
    "collapsed": true
   },
   "outputs": [],
   "source": [
    "d2_trt <- d2 %>% filter(D == 'Treated') %>% select(D, D_HH) %>% na.omit"
   ]
  },
  {
   "cell_type": "markdown",
   "metadata": {},
   "source": [
    "##### Level of compliance = Actual participation / Assigned to Treat"
   ]
  },
  {
   "cell_type": "code",
   "execution_count": 12,
   "metadata": {},
   "outputs": [
    {
     "data": {
      "text/html": [
       "'The level of compliance in treatment group is 15011 / 41840 = 36%'"
      ],
      "text/latex": [
       "'The level of compliance in treatment group is 15011 / 41840 = 36\\%'"
      ],
      "text/markdown": [
       "'The level of compliance in treatment group is 15011 / 41840 = 36%'"
      ],
      "text/plain": [
       "[1] \"The level of compliance in treatment group is 15011 / 41840 = 36%\""
      ]
     },
     "metadata": {},
     "output_type": "display_data"
    }
   ],
   "source": [
    "paste0(\"The level of compliance in treatment group is \",\n",
    "       nrow(filter(d2_trt, D_HH == 1)), \" / \", nrow(d2_trt), \" = \",\n",
    "    round(nrow(filter(d2_trt, D_HH == 1))*100 / nrow(d2_trt)), \"%\")"
   ]
  },
  {
   "cell_type": "markdown",
   "metadata": {},
   "source": [
    "Or use `CrossTable` function from `gmodels` package:"
   ]
  },
  {
   "cell_type": "code",
   "execution_count": 13,
   "metadata": {},
   "outputs": [
    {
     "name": "stdout",
     "output_type": "stream",
     "text": [
      "\n",
      " \n",
      "   Cell Contents\n",
      "|-------------------------|\n",
      "|                       N |\n",
      "|         N / Table Total |\n",
      "|-------------------------|\n",
      "\n",
      " \n",
      "Total Observations in Table:  41840 \n",
      "\n",
      " \n",
      "             | d2_trt$D_HH \n",
      "    d2_trt$D |         0 |         1 | Row Total | \n",
      "-------------|-----------|-----------|-----------|\n",
      "     Treated |     26829 |     15011 |     41840 | \n",
      "             |     0.641 |     0.359 |           | \n",
      "-------------|-----------|-----------|-----------|\n",
      "Column Total |     26829 |     15011 |     41840 | \n",
      "-------------|-----------|-----------|-----------|\n",
      "\n",
      " \n"
     ]
    }
   ],
   "source": [
    "CrossTable(d2_trt$D, d2_trt$D_HH, prop.t = TRUE, prop.chisq = FALSE)"
   ]
  },
  {
   "cell_type": "markdown",
   "metadata": {},
   "source": [
    "The result is the same, 0.359 (36%)"
   ]
  },
  {
   "cell_type": "markdown",
   "metadata": {},
   "source": [
    "##### Effect of `D` and `D_HH` on `IncomeLab_HH` in year 1998"
   ]
  },
  {
   "cell_type": "code",
   "execution_count": 14,
   "metadata": {},
   "outputs": [
    {
     "data": {
      "text/plain": [
       "\n",
       "Call:\n",
       "lm(formula = IncomeLab_HH ~ D, data = filter(d2, year == 1998))\n",
       "\n",
       "Residuals:\n",
       "   Min     1Q Median     3Q    Max \n",
       " -1725   -890   -627    -27 748266 \n",
       "\n",
       "Coefficients:\n",
       "            Estimate Std. Error t value Pr(>|t|)    \n",
       "(Intercept)   1733.6      119.3  14.537   <2e-16 ***\n",
       "DTreated      -206.2      152.5  -1.352    0.176    \n",
       "---\n",
       "Signif. codes:  0 ‘***’ 0.001 ‘**’ 0.01 ‘*’ 0.05 ‘.’ 0.1 ‘ ’ 1\n",
       "\n",
       "Residual standard error: 9942 on 17877 degrees of freedom\n",
       "  (6192 observations deleted due to missingness)\n",
       "Multiple R-squared:  0.0001023,\tAdjusted R-squared:  4.633e-05 \n",
       "F-statistic: 1.828 on 1 and 17877 DF,  p-value: 0.1763\n"
      ]
     },
     "metadata": {},
     "output_type": "display_data"
    }
   ],
   "source": [
    "model3 <- lm(data = filter(d2, year == 1998), IncomeLab_HH ~ D)\n",
    "summary(model3)"
   ]
  },
  {
   "cell_type": "code",
   "execution_count": 15,
   "metadata": {},
   "outputs": [
    {
     "data": {
      "text/plain": [
       "\n",
       "Call:\n",
       "lm(formula = IncomeLab_HH ~ D_HH, data = filter(d2, year == 1998))\n",
       "\n",
       "Residuals:\n",
       "   Min     1Q Median     3Q    Max \n",
       " -1780   -889   -517      8 748211 \n",
       "\n",
       "Coefficients:\n",
       "            Estimate Std. Error t value Pr(>|t|)    \n",
       "(Intercept)   1788.7       92.5  19.337  < 2e-16 ***\n",
       "D_HH          -521.2      163.3  -3.193  0.00141 ** \n",
       "---\n",
       "Signif. codes:  0 ‘***’ 0.001 ‘**’ 0.01 ‘*’ 0.05 ‘.’ 0.1 ‘ ’ 1\n",
       "\n",
       "Residual standard error: 10060 on 17431 degrees of freedom\n",
       "  (6638 observations deleted due to missingness)\n",
       "Multiple R-squared:  0.0005844,\tAdjusted R-squared:  0.0005271 \n",
       "F-statistic: 10.19 on 1 and 17431 DF,  p-value: 0.001412\n"
      ]
     },
     "metadata": {},
     "output_type": "display_data"
    }
   ],
   "source": [
    "model4 <- lm(data = filter(d2, year == 1998), IncomeLab_HH ~ D_HH)\n",
    "summary(model4)"
   ]
  },
  {
   "cell_type": "markdown",
   "metadata": {},
   "source": [
    "**Which effect is larger in magnitude?**\n",
    "\n",
    "The coefficient of `D_HH` is larger than that of `D` in magnitude.\n",
    " \n",
    "**Are the two effects measured causally?**\n",
    "\n",
    "At 90% confidence level, the p-value of `D` is 0.48 (> 0.1), not statistically significant; the p-value of `D_HH` is 0.002 (< 0.1), statistically significant.    \n",
    "\n",
    "1. `D`(ITT) is measured causally because the selection of treatment or control is supposed to be random;\n",
    "2. `D_HH`(TOT) is note measured causally because those who actually take up PROGRESA may be the poorer families, with lower income at the baseline. There is selection bias."
   ]
  },
  {
   "cell_type": "markdown",
   "metadata": {},
   "source": [
    "### Exercise 5.2:\n",
    "\n",
    "<!--\n",
    "In R, specify a 2SLS model to estimate the ATET or TOT effects of PROGRESA\n",
    "participation on household income levels in 1999. The IV for D_HH should be D. Please read the\n",
    "help for command ivreg. Now use D and pov_HH as IVs for D_HH and estimate the TOT/ATET. Are the\n",
    "results same or different? Why?\n",
    "-->"
   ]
  },
  {
   "cell_type": "code",
   "execution_count": 16,
   "metadata": {},
   "outputs": [
    {
     "data": {
      "text/plain": [
       "\n",
       "Call:\n",
       "lm(formula = IncomeLab_HH ~ D_HH, data = d1)\n",
       "\n",
       "Residuals:\n",
       "    Min      1Q  Median      3Q     Max \n",
       "  -1977   -1094    -699     -99 1801006 \n",
       "\n",
       "Coefficients:\n",
       "            Estimate Std. Error t value Pr(>|t|)    \n",
       "(Intercept)  1898.63     144.12  13.174   <2e-16 ***\n",
       "D_HH           94.89     238.57   0.398    0.691    \n",
       "---\n",
       "Signif. codes:  0 ‘***’ 0.001 ‘**’ 0.01 ‘*’ 0.05 ‘.’ 0.1 ‘ ’ 1\n",
       "\n",
       "Residual standard error: 15570 on 18368 degrees of freedom\n",
       "  (4893 observations deleted due to missingness)\n",
       "Multiple R-squared:  8.612e-06,\tAdjusted R-squared:  -4.583e-05 \n",
       "F-statistic: 0.1582 on 1 and 18368 DF,  p-value: 0.6908\n"
      ]
     },
     "metadata": {},
     "output_type": "display_data"
    }
   ],
   "source": [
    "# simple linear regression\n",
    "summary(lm(IncomeLab_HH ~ D_HH, data = d1))"
   ]
  },
  {
   "cell_type": "code",
   "execution_count": 17,
   "metadata": {},
   "outputs": [
    {
     "data": {
      "text/plain": [
       "\n",
       "Call:\n",
       "ivreg(formula = IncomeLab_HH ~ D_HH | D, data = d1)\n",
       "\n",
       "Residuals:\n",
       "       Min         1Q     Median         3Q        Max \n",
       "  -2101.33   -1077.09    -630.50     -27.09 1800882.00 \n",
       "\n",
       "Coefficients:\n",
       "            Estimate Std. Error t value Pr(>|t|)    \n",
       "(Intercept)   1827.1      176.1  10.378   <2e-16 ***\n",
       "D_HH           290.9      365.6   0.796    0.426    \n",
       "---\n",
       "Signif. codes:  0 ‘***’ 0.001 ‘**’ 0.01 ‘*’ 0.05 ‘.’ 0.1 ‘ ’ 1\n",
       "\n",
       "Residual standard error: 15570 on 18368 degrees of freedom\n",
       "Multiple R-Squared: -2.814e-05,\tAdjusted R-squared: -8.258e-05 \n",
       "Wald test: 0.633 on 1 and 18368 DF,  p-value: 0.4263 \n"
      ]
     },
     "metadata": {},
     "output_type": "display_data"
    }
   ],
   "source": [
    "# `ivreg` function from `AER` package\n",
    "# use D as IV for D_HH\n",
    "iv_model1 <- ivreg(IncomeLab_HH ~ D_HH | D, data = d1)\n",
    "summary(iv_model1)"
   ]
  },
  {
   "cell_type": "code",
   "execution_count": 18,
   "metadata": {},
   "outputs": [
    {
     "data": {
      "text/plain": [
       "\n",
       "Call:\n",
       "ivreg(formula = IncomeLab_HH ~ D_HH | D + pov_HH, data = d1)\n",
       "\n",
       "Residuals:\n",
       "      Min        1Q    Median        3Q       Max \n",
       "  -1949.9   -1052.0    -734.8    -134.8 1801065.2 \n",
       "\n",
       "Coefficients:\n",
       "            Estimate Std. Error t value Pr(>|t|)    \n",
       "(Intercept)  1951.98     166.72  11.708   <2e-16 ***\n",
       "D_HH          -17.23     316.33  -0.054    0.957    \n",
       "---\n",
       "Signif. codes:  0 ‘***’ 0.001 ‘**’ 0.01 ‘*’ 0.05 ‘.’ 0.1 ‘ ’ 1\n",
       "\n",
       "Residual standard error: 15750 on 17940 degrees of freedom\n",
       "Multiple R-Squared: -2.77e-06,\tAdjusted R-squared: -5.851e-05 \n",
       "Wald test: 0.002966 on 1 and 17940 DF,  p-value: 0.9566 \n"
      ]
     },
     "metadata": {},
     "output_type": "display_data"
    }
   ],
   "source": [
    "# use D and pov_HH as IVs for D\n",
    "iv_model2 <- ivreg(IncomeLab_HH ~ D_HH | D + pov_HH, data = d1)\n",
    "summary(iv_model2)"
   ]
  },
  {
   "cell_type": "markdown",
   "metadata": {},
   "source": [
    "Comparing the two models, the results are different. Ignoring the statistical significance, in `iv_model1`, the coefficient of `D_HH` is 290 while that in `iv_model2` is -17.23.\n",
    "\n",
    "`pov_HH` is a bad instrumental variable (IV) in `iv_model2`. It is hard to remove the confounding factors."
   ]
  }
 ],
 "metadata": {
  "kernelspec": {
   "display_name": "R",
   "language": "R",
   "name": "ir"
  },
  "language_info": {
   "codemirror_mode": "r",
   "file_extension": ".r",
   "mimetype": "text/x-r-source",
   "name": "R",
   "pygments_lexer": "r",
   "version": "3.4.3"
  }
 },
 "nbformat": 4,
 "nbformat_minor": 2
}
