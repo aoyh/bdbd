{
 "cells": [
  {
   "cell_type": "markdown",
   "metadata": {},
   "source": [
    "# Solutions PS1\n",
    "## Exercise 4.1\n",
    "Open PanelPROGRESA_97_99year.csv. This dataset is a repeated cross-section  of different waves of the ENCEL survey for March and October 1998 and November 1999. It also includes the baseline data collected in 1997. We have used this or part of this dataset previous modules as well. \n",
    "\n",
    "Let’s assume that we expect PROGRESA (D_HH) to change the income of the household (IncomeLabHH) in 1999. Specify a regression model in R as discussed above and restrict the data to be used from year 1999 (variable year). What is the impact of the intervention on income levels? Is it statistically significant? How do you interpret the coefficient?\n",
    "\n",
    "### Answer Key\n",
    "See the R code and output below. We find that PROGRESA participation by  the household (D_HH) did not change the household income levels in 1999 statistically significantly at alpha= 0.1. Remember, these causal inferences are based on the assumption that the treatment was effectively randomized by the study organizers"
   ]
  },
  {
   "cell_type": "code",
   "execution_count": 1,
   "metadata": {},
   "outputs": [
    {
     "data": {
      "text/plain": [
       "\n",
       "Call:\n",
       "lm(formula = IncomeLab_HH ~ D_HH, data = PanelPROGRESA_97_99year[which(PanelPROGRESA_97_99year$year == \n",
       "    1999), ])\n",
       "\n",
       "Residuals:\n",
       "    Min      1Q  Median      3Q     Max \n",
       "  -1977   -1094    -699     -99 1801006 \n",
       "\n",
       "Coefficients:\n",
       "            Estimate Std. Error t value Pr(>|t|)    \n",
       "(Intercept)  1898.63     144.12  13.174   <2e-16 ***\n",
       "D_HH           94.89     238.57   0.398    0.691    \n",
       "---\n",
       "Signif. codes:  0 ‘***’ 0.001 ‘**’ 0.01 ‘*’ 0.05 ‘.’ 0.1 ‘ ’ 1\n",
       "\n",
       "Residual standard error: 15570 on 18368 degrees of freedom\n",
       "  (4893 observations deleted due to missingness)\n",
       "Multiple R-squared:  8.612e-06,\tAdjusted R-squared:  -4.583e-05 \n",
       "F-statistic: 0.1582 on 1 and 18368 DF,  p-value: 0.6908\n"
      ]
     },
     "metadata": {},
     "output_type": "display_data"
    }
   ],
   "source": [
    "# setwd(\"/home/jovyan/mba217-2/Data\")\n",
    "PanelPROGRESA_97_99year <- read.csv(\"../../Data/PanelPROGRESA_97_99year.csv\")\n",
    "model<-lm(IncomeLab_HH ~ D_HH, data = PanelPROGRESA_97_99year[which(PanelPROGRESA_97_99year$year == 1999), ])\n",
    "summary(model)"
   ]
  },
  {
   "cell_type": "markdown",
   "metadata": {},
   "source": [
    "## Exercise 4.2\n",
    "Conduct a two-sided t-test to compare if household income is different by the treatment assignment. Are the results same as those from the regression analysis?\n",
    "\n",
    "### Answer Key\n",
    "See the code and output below. We find that the magnitude (group mean difference) and significance of the causal effect is precisely the same as that in the regression above. Indeed, OLS just performed a t-test for us."
   ]
  },
  {
   "cell_type": "code",
   "execution_count": 2,
   "metadata": {},
   "outputs": [
    {
     "data": {
      "text/plain": [
       "\n",
       "\tTwo Sample t-test\n",
       "\n",
       "data:  IncomeLab_HH by D_HH\n",
       "t = -0.39773, df = 18368, p-value = 0.6908\n",
       "alternative hypothesis: true difference in means is not equal to 0\n",
       "95 percent confidence interval:\n",
       " -562.5125  372.7393\n",
       "sample estimates:\n",
       "mean in group 0 mean in group 1 \n",
       "       1898.628        1993.514 \n"
      ]
     },
     "metadata": {},
     "output_type": "display_data"
    }
   ],
   "source": [
    "t.test(IncomeLab_HH ~ D_HH, data = PanelPROGRESA_97_99year[which(PanelPROGRESA_97_99year$year == 1999), ], var.equal = TRUE ,alternative = \"two.sided\")"
   ]
  },
  {
   "cell_type": "markdown",
   "metadata": {},
   "source": [
    "## Exercise 4.3\n",
    "As a demonstration, let’s assume that poverty status of a household (pov_HH) is a confounder and we should control for it in the regression analysis. Specify a regression model in R that tests the effect of PROGRESA on income, controlling for poverty status of the household and remembering to restrict the data to be used from year 1999 (variable year). \n",
    "\n",
    "Now, specify a separate regression model, this time clustering the standard errors at the village level. We can most easily accomplish this using the lm.cluster function in R (see code below). You will need to install and load the packages miceadds and multiwayvcov to use this command. \n",
    "\n",
    "What happens to the effect size (magnitude of the coefficient) and the standard errors when comparing output from the two models?   Based on the output from these regressions, did PROGRESA significantly impact income levels? \n",
    "\n",
    "### Answer Key\n",
    "See code below.  The effect size does not change-- the treatment effect is estimated as a 229 peso increase in income but is not statistically significant.  The standard error is higher however (making the p value higher).  This accounts for the fact that treatment was assigned at the village level and income is correlated within villages.  Based on this analysis, PROGRESA did not significantly impact income levels."
   ]
  },
  {
   "cell_type": "code",
   "execution_count": 3,
   "metadata": {},
   "outputs": [
    {
     "name": "stderr",
     "output_type": "stream",
     "text": [
      "Loading required package: miceadds\n",
      "Loading required package: mice\n",
      "Loading required package: lattice\n",
      "* miceadds 2.9-15 (2017-12-18 11:50:04)\n",
      "Loading required package: multiwayvcov\n"
     ]
    },
    {
     "data": {
      "text/plain": [
       "\n",
       "Call:\n",
       "lm(formula = IncomeLab_HH ~ D_HH + pov_HH, data = PROGRESA_99)\n",
       "\n",
       "Residuals:\n",
       "    Min      1Q  Median      3Q     Max \n",
       "  -2188   -1094    -714     -31 1801006 \n",
       "\n",
       "Coefficients:\n",
       "            Estimate Std. Error t value Pr(>|t|)    \n",
       "(Intercept)   2204.4      252.4   8.735   <2e-16 ***\n",
       "D_HH           229.0      266.0   0.861    0.389    \n",
       "pov_HHpoor    -440.0      312.2  -1.409    0.159    \n",
       "---\n",
       "Signif. codes:  0 ‘***’ 0.001 ‘**’ 0.01 ‘*’ 0.05 ‘.’ 0.1 ‘ ’ 1\n",
       "\n",
       "Residual standard error: 15750 on 17939 degrees of freedom\n",
       "  (5321 observations deleted due to missingness)\n",
       "Multiple R-squared:  0.0001162,\tAdjusted R-squared:  4.757e-06 \n",
       "F-statistic: 1.043 on 2 and 17939 DF,  p-value: 0.3525\n"
      ]
     },
     "metadata": {},
     "output_type": "display_data"
    },
    {
     "name": "stdout",
     "output_type": "stream",
     "text": [
      "R^2 = 0.00012 \n",
      "\n",
      "             Estimate Std. Error    t value      Pr(>|t|)\n",
      "(Intercept) 2204.4456   75.01622 29.3862515 8.230176e-190\n",
      "D_HH         229.0350  324.93091  0.7048728  4.808894e-01\n",
      "pov_HHpoor  -439.9662  138.20071 -3.1835308  1.454906e-03\n"
     ]
    }
   ],
   "source": [
    "require(miceadds)\n",
    "require(multiwayvcov)\n",
    "PROGRESA_99 <- PanelPROGRESA_97_99year[which(PanelPROGRESA_97_99year$year== 1999), ]\n",
    "model1 <- lm(IncomeLab_HH ~ D_HH+pov_HH, data = PROGRESA_99)\n",
    "summary(model1)\n",
    "model2 <- lm.cluster(data = PROGRESA_99, formula=IncomeLab_HH ~ D_HH+pov_HH, cluster=PROGRESA_99$villid)\n",
    "summary(model2)"
   ]
  },
  {
   "cell_type": "markdown",
   "metadata": {},
   "source": [
    "## Exercise 5.1\n",
    "Open the PanelPROGRESA_97_99year.csv; this is the same dataset as that used previously. We assume that the villages (villid) were randomly assigned PROGRESA (D). However, the families in the study villages had a choice whether to participate in the program; we indicate participants with D_HH. In reality there was an eligibility criterion to participate in PROGRESA in the selected villages, but for this exercise we will assume that all households in treatment villages were eligible. Now, cross-tabulate the frequency of households assigned to the treatment groups and their actual participation. What is the level of compliance?\n",
    "\n",
    "Now estimate the effect of D and D_HH on household income (IncomeLab_HH) in year 1998. Which effect is larger in magnitude (ignore their statistical significance)? Do you think that either effect is measured causally?\n",
    "\n",
    "### Answer Key\n",
    "See code and output below. The table shows that approximately 50% of households in the treatment group actually participated in PROGRESA, whereas there are no households from the control group who participated in PROGRESA as per the study protocol. We also find by comparing the output from the regressions that ITT effects (regression of D on Income) are smaller than the per- actual-treatment-status (“treatment on the treated”; TOT) effect, which will be explained in the next section. The ITT effect is likely causal, because the confounders between people “offered” PROGRESA and those who were not can be expected to be well-balanced at the baseline and thus the groups are exchangeable. However, the households who chose to participate may be in more need of the program or find it more convenient to access than those who did not, so that there can be systematic differences or “selection bias” between the people who participated in progress and the people who did not participate. Since the program was randomized, the ITT effect is theoretically protected from selection bias, even though it underestimates the “true impact” of the intervention. Enrollment in the program (D_HH), on the other hand, was not randomized, and therefore the TOT effect can be subject to selection biases."
   ]
  },
  {
   "cell_type": "code",
   "execution_count": 6,
   "metadata": {},
   "outputs": [
    {
     "name": "stdout",
     "output_type": "stream",
     "text": [
      "\n",
      " \n",
      "   Cell Contents\n",
      "|-------------------------|\n",
      "|                       N |\n",
      "|           N / Row Total |\n",
      "|-------------------------|\n",
      "\n",
      " \n",
      "Total Observations in Table:  23405 \n",
      "\n",
      " \n",
      "              | PROGRESA_98$D_HH \n",
      "PROGRESA_98$D |         0 |         1 | Row Total | \n",
      "--------------|-----------|-----------|-----------|\n",
      "      Control |      9216 |         0 |      9216 | \n",
      "              |     1.000 |     0.000 |     0.394 | \n",
      "--------------|-----------|-----------|-----------|\n",
      "      Treated |      7061 |      7128 |     14189 | \n",
      "              |     0.498 |     0.502 |     0.606 | \n",
      "--------------|-----------|-----------|-----------|\n",
      " Column Total |     16277 |      7128 |     23405 | \n",
      "--------------|-----------|-----------|-----------|\n",
      "\n",
      " \n"
     ]
    },
    {
     "data": {
      "text/plain": [
       "\n",
       "Call:\n",
       "lm(formula = IncomeLab_HH ~ D, data = PROGRESA_98)\n",
       "\n",
       "Residuals:\n",
       "   Min     1Q Median     3Q    Max \n",
       " -1725   -890   -627    -27 748266 \n",
       "\n",
       "Coefficients:\n",
       "            Estimate Std. Error t value Pr(>|t|)    \n",
       "(Intercept)   1733.6      119.3  14.537   <2e-16 ***\n",
       "DTreated      -206.2      152.5  -1.352    0.176    \n",
       "---\n",
       "Signif. codes:  0 ‘***’ 0.001 ‘**’ 0.01 ‘*’ 0.05 ‘.’ 0.1 ‘ ’ 1\n",
       "\n",
       "Residual standard error: 9942 on 17877 degrees of freedom\n",
       "  (6192 observations deleted due to missingness)\n",
       "Multiple R-squared:  0.0001023,\tAdjusted R-squared:  4.633e-05 \n",
       "F-statistic: 1.828 on 1 and 17877 DF,  p-value: 0.1763\n"
      ]
     },
     "metadata": {},
     "output_type": "display_data"
    },
    {
     "data": {
      "text/plain": [
       "\n",
       "Call:\n",
       "lm(formula = IncomeLab_HH ~ D_HH, data = PROGRESA_98)\n",
       "\n",
       "Residuals:\n",
       "   Min     1Q Median     3Q    Max \n",
       " -1780   -889   -517      8 748211 \n",
       "\n",
       "Coefficients:\n",
       "            Estimate Std. Error t value Pr(>|t|)    \n",
       "(Intercept)   1788.7       92.5  19.337  < 2e-16 ***\n",
       "D_HH          -521.2      163.3  -3.193  0.00141 ** \n",
       "---\n",
       "Signif. codes:  0 ‘***’ 0.001 ‘**’ 0.01 ‘*’ 0.05 ‘.’ 0.1 ‘ ’ 1\n",
       "\n",
       "Residual standard error: 10060 on 17431 degrees of freedom\n",
       "  (6638 observations deleted due to missingness)\n",
       "Multiple R-squared:  0.0005844,\tAdjusted R-squared:  0.0005271 \n",
       "F-statistic: 10.19 on 1 and 17431 DF,  p-value: 0.001412\n"
      ]
     },
     "metadata": {},
     "output_type": "display_data"
    }
   ],
   "source": [
    "require(gmodels)\n",
    "PROGRESA_98 <- subset(PanelPROGRESA_97_99year, year == 1998)\n",
    "CrossTable(PROGRESA_98$D, PROGRESA_98$D_HH, prop.c = FALSE, prop.t = FALSE, prop.chisq = FALSE)\n",
    "model1 <- lm(IncomeLab_HH ~ D, data = PROGRESA_98)\n",
    "summary(model1)\n",
    "model2<- lm(IncomeLab_HH ~ D_HH, data = PROGRESA_98)\n",
    "summary(model2)"
   ]
  },
  {
   "cell_type": "markdown",
   "metadata": {},
   "source": [
    "## Exercise 5.2\n",
    "In R, specify a 2SLS model to estimate the ATET or TOT effects of PROGRESA participation on household income levels in 1999. The IV for D_HH should be D. Please read the help for command ivreg. Now use D and pov_HH as IVs for D and estimate the TOT/ATET.  Are the results same or different? Why?\n",
    "\n",
    "### Answer Key\n",
    "Note that PROGRESA once again is not found to have a positive TOT effect on household income, though we will see more nuanced results in future modules. \n",
    "\n",
    "We find that the coefficient of D_HH is different between the two models though it is statistically insignificant in both models. This happens because in the IV / 2SLS method, the strength with which the IVs are associated with the endogenous participation variable is highly relevant to the estimated 2SLS coefficients. Also, pov_HH may be correlated with unmeasured confounders in the error term, so it may be a bad IV in any case.\n",
    "\n",
    "Overall, in applying the IV/2SLS method it is critical that you find a good IV. How strongly IVs are associated with the endogenous treatment is important, and we must be able to convincingly argue that the IVs are not correlated with measured or unmeasured confounders. For the latter, no statistical tests can be adequate; we will have to rely on compelling and logical arguments. Often  the findings based on IV/2SLS methods are criticized because the IV selection is not well motivated or justified."
   ]
  },
  {
   "cell_type": "code",
   "execution_count": 7,
   "metadata": {},
   "outputs": [
    {
     "name": "stderr",
     "output_type": "stream",
     "text": [
      "Loading required package: AER\n",
      "Loading required package: car\n",
      "Loading required package: lmtest\n",
      "Loading required package: zoo\n",
      "\n",
      "Attaching package: ‘zoo’\n",
      "\n",
      "The following objects are masked from ‘package:base’:\n",
      "\n",
      "    as.Date, as.Date.numeric\n",
      "\n",
      "Loading required package: sandwich\n",
      "Loading required package: survival\n"
     ]
    },
    {
     "data": {
      "text/plain": [
       "\n",
       "Call:\n",
       "ivreg(formula = IncomeLab_HH ~ D_HH | D, data = PROGRESA_99)\n",
       "\n",
       "Residuals:\n",
       "       Min         1Q     Median         3Q        Max \n",
       "  -2101.33   -1077.09    -630.50     -27.09 1800882.00 \n",
       "\n",
       "Coefficients:\n",
       "            Estimate Std. Error t value Pr(>|t|)    \n",
       "(Intercept)   1827.1      176.1  10.378   <2e-16 ***\n",
       "D_HH           290.9      365.6   0.796    0.426    \n",
       "---\n",
       "Signif. codes:  0 ‘***’ 0.001 ‘**’ 0.01 ‘*’ 0.05 ‘.’ 0.1 ‘ ’ 1\n",
       "\n",
       "Residual standard error: 15570 on 18368 degrees of freedom\n",
       "Multiple R-Squared: -2.814e-05,\tAdjusted R-squared: -8.258e-05 \n",
       "Wald test: 0.633 on 1 and 18368 DF,  p-value: 0.4263 \n"
      ]
     },
     "metadata": {},
     "output_type": "display_data"
    },
    {
     "data": {
      "text/plain": [
       "\n",
       "Call:\n",
       "ivreg(formula = IncomeLab_HH ~ D_HH | D + pov_HH, data = PROGRESA_99)\n",
       "\n",
       "Residuals:\n",
       "      Min        1Q    Median        3Q       Max \n",
       "  -1949.9   -1052.0    -734.8    -134.8 1801065.2 \n",
       "\n",
       "Coefficients:\n",
       "            Estimate Std. Error t value Pr(>|t|)    \n",
       "(Intercept)  1951.98     166.72  11.708   <2e-16 ***\n",
       "D_HH          -17.23     316.33  -0.054    0.957    \n",
       "---\n",
       "Signif. codes:  0 ‘***’ 0.001 ‘**’ 0.01 ‘*’ 0.05 ‘.’ 0.1 ‘ ’ 1\n",
       "\n",
       "Residual standard error: 15750 on 17940 degrees of freedom\n",
       "Multiple R-Squared: -2.77e-06,\tAdjusted R-squared: -5.851e-05 \n",
       "Wald test: 0.002966 on 1 and 17940 DF,  p-value: 0.9566 \n"
      ]
     },
     "metadata": {},
     "output_type": "display_data"
    }
   ],
   "source": [
    "require(AER)\n",
    "iv_model_1 <- ivreg(IncomeLab_HH ~ D_HH|D, data = PROGRESA_99)\n",
    "summary(iv_model_1)\n",
    "iv_model_2 <- ivreg(IncomeLab_HH ~ D_HH|D + pov_HH, data = PROGRESA_99)\n",
    "summary(iv_model_2)"
   ]
  }
 ],
 "metadata": {
  "kernelspec": {
   "display_name": "R",
   "language": "R",
   "name": "ir"
  },
  "language_info": {
   "codemirror_mode": "r",
   "file_extension": ".r",
   "mimetype": "text/x-r-source",
   "name": "R",
   "pygments_lexer": "r",
   "version": "3.4.3"
  }
 },
 "nbformat": 4,
 "nbformat_minor": 2
}
