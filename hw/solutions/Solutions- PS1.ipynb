{
 "cells": [
  {
   "cell_type": "markdown",
   "metadata": {},
   "source": [
    "# Solutions PS1\n",
    "\n",
    "### Exercise 1\n",
    "From the regression output in Figure 4, state the relationship between income and  years of education – is it increasing or decreasing, and at what rate? Also assess whether this association is statistically significant. Comment on whether you would conclude that more  education causes increase in the income levels of individuals.\n",
    "\n",
    "### Answer Key\n",
    "We find that mean income levels increase as the years of education increase based on available data; for each additional year of education, mean income increases by about 92 pesos. The standard error of this correlation is 1.37 pesos, and the p-value indicates that the rate is statistically significantly different from zero at p < 0.001. However, we cannot infer the existence of a causal relationship based only on this regression model. It is possible, for example, that other factors—such as father’s education, region, age, sex and perhaps a number of unmeasured factors– could cause both higher income and higher education, which could spuriously yield similar regression coefficients.\n",
    "\n",
    "### Exercise 2\n",
    "Copy and run the following command text in R. We will be asking R to draw different distributions using functions from the ggplot2  and stats packages. You should use the help command (?) for these commands and the distribution functions to better understand them. Although these commands are not necessary for effective policy evaluation, they provide good practice of the R skills we have been building throughout this course"
   ]
  },
  {
   "cell_type": "code",
   "execution_count": null,
   "metadata": {},
   "outputs": [],
   "source": [
    "require(ggplot2)\n",
    "#NORMAL DISTRIBUTION\n",
    "normal <- ggplot(data.frame(x = c(80, 120)), aes(x)) +\n",
    "  stat_function(fun = dnorm, args = list(mean = 100, sd = 10), colour = \"red\") + ylab(\"\") +\n",
    "  scale_y_continuous(breaks = NULL) + \n",
    "  ggtitle(\"Normal density with mean=100 and s.d=5\")\n",
    "normal\n",
    "#STANDARD NORMAL DISTRIBUTION\n",
    "std_normal <-  ggplot(data.frame(x = c(-4, 4)), aes(x)) +\n",
    "  stat_function(fun = dnorm, args = list(mean = 0, sd = 1), colour = \"navy\") + ylab(\"\") +\n",
    "  scale_y_continuous(breaks = NULL) + \n",
    "  ggtitle(\"Standard normal density\")\n",
    "std_normal\n",
    "\n",
    "#CHI-SQUARE DISTRIBUTION\n",
    "chisq <- ggplot(data.frame(x = c(0, 100)), aes(x)) +\n",
    "  stat_function(fun = dchisq, args = list(df = 20), colour = \"black\") + ylab(\"\") +\n",
    "  scale_y_continuous(breaks = NULL) + \n",
    "  ggtitle(\"Chi-sq distribution\")\n",
    "chisq\n",
    "\n",
    "#STUDENTS T DISTRIBUTION\n",
    "students_t <-  ggplot(data.frame(x = c(-4, 4)), aes(x)) +\n",
    "  stat_function(fun = dt, args = list(df = 8), colour = \"green\") + ylab(\"\") +\n",
    " scale_y_continuous(breaks = NULL) + \n",
    " ggtitle(\"Student's t density\")\n",
    "students_t\n",
    "\n",
    "#F-DISTRIBUTION\n",
    "f <-  ggplot(data.frame(x = c(0, 5)), aes(x)) +\n",
    "    stat_function(fun = df, args = list(df1 = 5, df2 = 10), aes(colour = \"F(5,10)\")) + \n",
    "    stat_function(fun = df, args = list(df1 = 25, df2 = 50), aes(colour = \"F(25,50)\")) +\n",
    "    stat_function(fun = df, args = list(df1 = 50, df2 = 100), aes(colour = \"F(50,100)\")) +\n",
    "    ylab(\"F-density\") +\n",
    "    scale_y_continuous(breaks = NULL) + \n",
    "    ggtitle(\"F-distribution density\")\n",
    "f"
   ]
  },
  {
   "cell_type": "markdown",
   "metadata": {},
   "source": [
    "### Exercise 2.3\n",
    "Load EPH_2006.csv. Run a t-test to assess if the income is different by sex of the person in R. Follows the 4 steps described above and interpret the findings.\n",
    "\n",
    "1.\tH0: the income for males = the income for females H1: the income for males ≠ the income for females Alternatively, to demonstrate one-sided t-test: H1: the income for males > the income for females\n",
    "\n",
    "2.\tTest the hypothesis with significance level of 0.05 or Type-I error of 5%\n",
    "\n",
    "3.\tFind the relevant means, standard errors of the means, t statistic, and degrees of freedom from the output of the ttset below. Also find the critical t-value."
   ]
  },
  {
   "cell_type": "code",
   "execution_count": null,
   "metadata": {},
   "outputs": [],
   "source": [
    "# setwd(\"/home/jovyan/mba217-2/Data\")\n",
    "EPH_2006 <- read.csv(\"../../Data/EPH_2006.csv\")\n",
    "t.test(EPH_2006$income ~ EPH_2006$male, var.equal = TRUE)\n",
    "qt(0.025, 172)"
   ]
  },
  {
   "cell_type": "markdown",
   "metadata": {},
   "source": [
    "You will find that the critical t-value for alpha = 0.05 is 1.96, same as that for a standard normal distribution because the sample size is very large. Also note the p-values.\n",
    "\n",
    "Step 4: We reject the null hypothesis that the mean income for males and females is equal at alpha = 0.05. The p-value is < 0.0001, so the probability of that the difference in incomes is the  result of sampling error is less than 0.01%."
   ]
  }
 ],
 "metadata": {
  "kernelspec": {
   "display_name": "R",
   "language": "R",
   "name": "ir"
  },
  "language_info": {
   "codemirror_mode": "r",
   "file_extension": ".r",
   "mimetype": "text/x-r-source",
   "name": "R",
   "pygments_lexer": "r",
   "version": "3.4.3"
  }
 },
 "nbformat": 4,
 "nbformat_minor": 2
}
