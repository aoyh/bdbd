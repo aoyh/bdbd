{
 "cells": [
  {
   "cell_type": "markdown",
   "metadata": {},
   "source": [
    "http://dplyr.tidyverse.org/reference/tally.html"
   ]
  },
  {
   "cell_type": "code",
   "execution_count": 1,
   "metadata": {},
   "outputs": [
    {
     "name": "stderr",
     "output_type": "stream",
     "text": [
      "\n",
      "Attaching package: ‘dplyr’\n",
      "\n",
      "The following objects are masked from ‘package:stats’:\n",
      "\n",
      "    filter, lag\n",
      "\n",
      "The following objects are masked from ‘package:base’:\n",
      "\n",
      "    intersect, setdiff, setequal, union\n",
      "\n"
     ]
    }
   ],
   "source": [
    "library(dplyr)"
   ]
  },
  {
   "cell_type": "code",
   "execution_count": 3,
   "metadata": {},
   "outputs": [
    {
     "data": {
      "text/html": [
       "<table>\n",
       "<thead><tr><th scope=col>n</th></tr></thead>\n",
       "<tbody>\n",
       "\t<tr><td>32</td></tr>\n",
       "</tbody>\n",
       "</table>\n"
      ],
      "text/latex": [
       "\\begin{tabular}{r|l}\n",
       " n\\\\\n",
       "\\hline\n",
       "\t 32\\\\\n",
       "\\end{tabular}\n"
      ],
      "text/markdown": [
       "\n",
       "n | \n",
       "|---|\n",
       "| 32 | \n",
       "\n",
       "\n"
      ],
      "text/plain": [
       "  n \n",
       "1 32"
      ]
     },
     "metadata": {},
     "output_type": "display_data"
    }
   ],
   "source": [
    "# tally() is short-hand for summarise()\n",
    "mtcars %>% tally()"
   ]
  },
  {
   "cell_type": "code",
   "execution_count": 4,
   "metadata": {},
   "outputs": [
    {
     "data": {
      "text/html": [
       "<table>\n",
       "<thead><tr><th scope=col>cyl</th><th scope=col>n</th></tr></thead>\n",
       "<tbody>\n",
       "\t<tr><td>4 </td><td>11</td></tr>\n",
       "\t<tr><td>6 </td><td> 7</td></tr>\n",
       "\t<tr><td>8 </td><td>14</td></tr>\n",
       "</tbody>\n",
       "</table>\n"
      ],
      "text/latex": [
       "\\begin{tabular}{r|ll}\n",
       " cyl & n\\\\\n",
       "\\hline\n",
       "\t 4  & 11\\\\\n",
       "\t 6  &  7\\\\\n",
       "\t 8  & 14\\\\\n",
       "\\end{tabular}\n"
      ],
      "text/markdown": [
       "\n",
       "cyl | n | \n",
       "|---|---|---|\n",
       "| 4  | 11 | \n",
       "| 6  |  7 | \n",
       "| 8  | 14 | \n",
       "\n",
       "\n"
      ],
      "text/plain": [
       "  cyl n \n",
       "1 4   11\n",
       "2 6    7\n",
       "3 8   14"
      ]
     },
     "metadata": {},
     "output_type": "display_data"
    }
   ],
   "source": [
    "# count() is a short-hand for group_by() + tally()\n",
    "mtcars %>% count(cyl)"
   ]
  },
  {
   "cell_type": "code",
   "execution_count": 7,
   "metadata": {},
   "outputs": [
    {
     "data": {
      "text/html": [
       "<table>\n",
       "<thead><tr><th scope=col>mpg</th><th scope=col>cyl</th><th scope=col>disp</th><th scope=col>hp</th><th scope=col>drat</th><th scope=col>wt</th><th scope=col>qsec</th><th scope=col>vs</th><th scope=col>am</th><th scope=col>gear</th><th scope=col>carb</th><th scope=col>n</th></tr></thead>\n",
       "<tbody>\n",
       "\t<tr><td>21   </td><td>6    </td><td>160  </td><td>110  </td><td>3.9  </td><td>2.62 </td><td>16.46</td><td>0    </td><td>1    </td><td>4    </td><td>4    </td><td>32   </td></tr>\n",
       "</tbody>\n",
       "</table>\n"
      ],
      "text/latex": [
       "\\begin{tabular}{r|llllllllllll}\n",
       " mpg & cyl & disp & hp & drat & wt & qsec & vs & am & gear & carb & n\\\\\n",
       "\\hline\n",
       "\t 21    & 6     & 160   & 110   & 3.9   & 2.62  & 16.46 & 0     & 1     & 4     & 4     & 32   \\\\\n",
       "\\end{tabular}\n"
      ],
      "text/markdown": [
       "\n",
       "mpg | cyl | disp | hp | drat | wt | qsec | vs | am | gear | carb | n | \n",
       "|---|\n",
       "| 21    | 6     | 160   | 110   | 3.9   | 2.62  | 16.46 | 0     | 1     | 4     | 4     | 32    | \n",
       "\n",
       "\n"
      ],
      "text/plain": [
       "  mpg cyl disp hp  drat wt   qsec  vs am gear carb n \n",
       "1 21  6   160  110 3.9  2.62 16.46 0  1  4    4    32"
      ]
     },
     "metadata": {},
     "output_type": "display_data"
    }
   ],
   "source": [
    "# add_tally() is short-hand for mutate()\n",
    "mtcars %>% add_tally() %>% head(1)"
   ]
  },
  {
   "cell_type": "code",
   "execution_count": 9,
   "metadata": {},
   "outputs": [
    {
     "data": {
      "text/html": [
       "<table>\n",
       "<thead><tr><th scope=col>mpg</th><th scope=col>cyl</th><th scope=col>disp</th><th scope=col>hp</th><th scope=col>drat</th><th scope=col>wt</th><th scope=col>qsec</th><th scope=col>vs</th><th scope=col>am</th><th scope=col>gear</th><th scope=col>carb</th><th scope=col>n</th></tr></thead>\n",
       "<tbody>\n",
       "\t<tr><td>21   </td><td>6    </td><td>160  </td><td>110  </td><td>3.9  </td><td>2.62 </td><td>16.46</td><td>0    </td><td>1    </td><td>4    </td><td>4    </td><td>7    </td></tr>\n",
       "</tbody>\n",
       "</table>\n"
      ],
      "text/latex": [
       "\\begin{tabular}{r|llllllllllll}\n",
       " mpg & cyl & disp & hp & drat & wt & qsec & vs & am & gear & carb & n\\\\\n",
       "\\hline\n",
       "\t 21    & 6     & 160   & 110   & 3.9   & 2.62  & 16.46 & 0     & 1     & 4     & 4     & 7    \\\\\n",
       "\\end{tabular}\n"
      ],
      "text/markdown": [
       "\n",
       "mpg | cyl | disp | hp | drat | wt | qsec | vs | am | gear | carb | n | \n",
       "|---|\n",
       "| 21    | 6     | 160   | 110   | 3.9   | 2.62  | 16.46 | 0     | 1     | 4     | 4     | 7     | \n",
       "\n",
       "\n"
      ],
      "text/plain": [
       "  mpg cyl disp hp  drat wt   qsec  vs am gear carb n\n",
       "1 21  6   160  110 3.9  2.62 16.46 0  1  4    4    7"
      ]
     },
     "metadata": {},
     "output_type": "display_data"
    }
   ],
   "source": [
    "mtcars %>% add_count(cyl) %>% head(1)"
   ]
  },
  {
   "cell_type": "code",
   "execution_count": 11,
   "metadata": {},
   "outputs": [
    {
     "data": {
      "text/html": [
       "<table>\n",
       "<thead><tr><th scope=col>species</th><th scope=col>homeworld</th><th scope=col>n</th></tr></thead>\n",
       "<tbody>\n",
       "\t<tr><td>Human   </td><td>Tatooine</td><td>8       </td></tr>\n",
       "\t<tr><td>Human   </td><td>Naboo   </td><td>5       </td></tr>\n",
       "</tbody>\n",
       "</table>\n"
      ],
      "text/latex": [
       "\\begin{tabular}{r|lll}\n",
       " species & homeworld & n\\\\\n",
       "\\hline\n",
       "\t Human    & Tatooine & 8       \\\\\n",
       "\t Human    & Naboo    & 5       \\\\\n",
       "\\end{tabular}\n"
      ],
      "text/markdown": [
       "\n",
       "species | homeworld | n | \n",
       "|---|---|\n",
       "| Human    | Tatooine | 8        | \n",
       "| Human    | Naboo    | 5        | \n",
       "\n",
       "\n"
      ],
      "text/plain": [
       "  species homeworld n\n",
       "1 Human   Tatooine  8\n",
       "2 Human   Naboo     5"
      ]
     },
     "metadata": {},
     "output_type": "display_data"
    }
   ],
   "source": [
    "# count and tally are designed so that you can call\n",
    "# them repeatedly, each time rolling up a level of detail\n",
    "species <- starwars %>% count(species, homeworld, sort = TRUE)\n",
    "species %>% head(2)"
   ]
  },
  {
   "cell_type": "code",
   "execution_count": 13,
   "metadata": {},
   "outputs": [
    {
     "data": {
      "text/html": [
       "<table>\n",
       "<thead><tr><th scope=col>species</th><th scope=col>nn</th></tr></thead>\n",
       "<tbody>\n",
       "\t<tr><td>Human</td><td>16   </td></tr>\n",
       "\t<tr><td>Droid</td><td> 3   </td></tr>\n",
       "</tbody>\n",
       "</table>\n"
      ],
      "text/latex": [
       "\\begin{tabular}{r|ll}\n",
       " species & nn\\\\\n",
       "\\hline\n",
       "\t Human & 16   \\\\\n",
       "\t Droid &  3   \\\\\n",
       "\\end{tabular}\n"
      ],
      "text/markdown": [
       "\n",
       "species | nn | \n",
       "|---|---|\n",
       "| Human | 16    | \n",
       "| Droid |  3    | \n",
       "\n",
       "\n"
      ],
      "text/plain": [
       "  species nn\n",
       "1 Human   16\n",
       "2 Droid    3"
      ]
     },
     "metadata": {},
     "output_type": "display_data"
    }
   ],
   "source": [
    "species %>% count(species, sort = TRUE) %>% head(2)"
   ]
  },
  {
   "cell_type": "code",
   "execution_count": 15,
   "metadata": {},
   "outputs": [
    {
     "data": {
      "text/html": [
       "<table>\n",
       "<thead><tr><th scope=col>name</th><th scope=col>height</th><th scope=col>mass</th><th scope=col>hair_color</th><th scope=col>skin_color</th><th scope=col>eye_color</th><th scope=col>birth_year</th><th scope=col>gender</th><th scope=col>homeworld</th><th scope=col>species</th><th scope=col>films</th><th scope=col>vehicles</th><th scope=col>starships</th><th scope=col>n</th></tr></thead>\n",
       "<tbody>\n",
       "\t<tr><td>Greedo               </td><td>173                  </td><td>  74                 </td><td>NA                   </td><td>green                </td><td>black                </td><td> 44                  </td><td>male                 </td><td>Rodia                </td><td>Rodian               </td><td>A New Hope           </td><td>                     </td><td>                     </td><td>1                    </td></tr>\n",
       "\t<tr><td>Jabba Desilijic Tiure                                     </td><td>175                                                       </td><td>1358                                                      </td><td>NA                                                        </td><td>green-tan, brown                                          </td><td>orange                                                    </td><td>600                                                       </td><td>hermaphrodite                                             </td><td>Nal Hutta                                                 </td><td>Hutt                                                      </td><td>The Phantom Menace, Return of the Jedi, A New Hope        </td><td>                                                          </td><td>                                                          </td><td>1                                                         </td></tr>\n",
       "</tbody>\n",
       "</table>\n"
      ],
      "text/latex": [
       "\\begin{tabular}{r|llllllllllllll}\n",
       " name & height & mass & hair\\_color & skin\\_color & eye\\_color & birth\\_year & gender & homeworld & species & films & vehicles & starships & n\\\\\n",
       "\\hline\n",
       "\t Greedo                & 173                   &   74                  & NA                    & green                 & black                 &  44                   & male                  & Rodia                 & Rodian                & A New Hope            &                       &                       & 1                    \\\\\n",
       "\t Jabba Desilijic Tiure                                      & 175                                                        & 1358                                                       & NA                                                         & green-tan, brown                                           & orange                                                     & 600                                                        & hermaphrodite                                              & Nal Hutta                                                  & Hutt                                                       & The Phantom Menace, Return of the Jedi, A New Hope         &                                                            &                                                            & 1                                                         \\\\\n",
       "\\end{tabular}\n"
      ],
      "text/markdown": [
       "\n",
       "name | height | mass | hair_color | skin_color | eye_color | birth_year | gender | homeworld | species | films | vehicles | starships | n | \n",
       "|---|---|\n",
       "| Greedo                | 173                   |   74                  | NA                    | green                 | black                 |  44                   | male                  | Rodia                 | Rodian                | A New Hope            |                       |                       | 1                     | \n",
       "| Jabba Desilijic Tiure                                      | 175                                                        | 1358                                                       | NA                                                         | green-tan, brown                                           | orange                                                     | 600                                                        | hermaphrodite                                              | Nal Hutta                                                  | Hutt                                                       | The Phantom Menace, Return of the Jedi, A New Hope         |                                                            |                                                            | 1                                                          | \n",
       "\n",
       "\n"
      ],
      "text/plain": [
       "  name                  height mass hair_color skin_color       eye_color\n",
       "1 Greedo                173      74 NA         green            black    \n",
       "2 Jabba Desilijic Tiure 175    1358 NA         green-tan, brown orange   \n",
       "  birth_year gender        homeworld species\n",
       "1  44        male          Rodia     Rodian \n",
       "2 600        hermaphrodite Nal Hutta Hutt   \n",
       "  films                                                      vehicles starships\n",
       "1 A New Hope                                                                   \n",
       "2 The Phantom Menace, Return of the Jedi, A New Hope                           \n",
       "  n\n",
       "1 1\n",
       "2 1"
      ]
     },
     "metadata": {},
     "output_type": "display_data"
    }
   ],
   "source": [
    "# add_count() is useful for groupwise filtering\n",
    "# e.g.: show only species that have a single member\n",
    "starwars %>%\n",
    "  add_count(species) %>%\n",
    "  filter(n == 1) %>% head(2)"
   ]
  },
  {
   "cell_type": "code",
   "execution_count": null,
   "metadata": {
    "collapsed": true
   },
   "outputs": [],
   "source": []
  }
 ],
 "metadata": {
  "kernelspec": {
   "display_name": "R",
   "language": "R",
   "name": "ir"
  },
  "language_info": {
   "codemirror_mode": "r",
   "file_extension": ".r",
   "mimetype": "text/x-r-source",
   "name": "R",
   "pygments_lexer": "r",
   "version": "3.4.3"
  }
 },
 "nbformat": 4,
 "nbformat_minor": 2
}
