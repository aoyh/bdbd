{
 "cells": [
  {
   "cell_type": "markdown",
   "metadata": {},
   "source": [
    "# Assignment 1: Exercises 2.1-2.3\n",
    "Aaron Ou"
   ]
  },
  {
   "cell_type": "markdown",
   "metadata": {},
   "source": [
    "**Exercise 2.1**: From the regression output in Figure 4, state the relationship between income and\n",
    "years of education – is it increasing or decreasing, and at what rate? Also assess whether this association\n",
    "is statistically significant. Comment on whether you would conclude that more education causes\n",
    "increase in the income levels of individuals."
   ]
  },
  {
   "cell_type": "code",
   "execution_count": null,
   "metadata": {},
   "outputs": [],
   "source": []
  },
  {
   "cell_type": "markdown",
   "metadata": {},
   "source": [
    "**Exercise 2.2**: Copy and run the following command text in R. We will be asking R to draw different\n",
    "distributions using functions from the ggplot2 and stats packages. You should use the help command\n",
    "(?) for these commands and the distribution functions to better understand them. Although these\n",
    "commands are not necessary for effective policy evaluation, they provide good practice of the R skills\n",
    "we have been building throughout this course."
   ]
  },
  {
   "cell_type": "code",
   "execution_count": null,
   "metadata": {},
   "outputs": [],
   "source": []
  },
  {
   "cell_type": "markdown",
   "metadata": {},
   "source": [
    "**Exercise 2.3**: Copy and run the following command text in R. We will be asking R to draw different\n",
    "distributions using functions from the ggplot2 and stats packages. You should use the help command\n",
    "(?) for these c: Load EPH_2006.csv. Run a t-test to assess if the income is different by sex of the person in R.\n",
    "Follows the 4 steps described above and interpret the findings."
   ]
  },
  {
   "cell_type": "code",
   "execution_count": null,
   "metadata": {},
   "outputs": [],
   "source": []
  }
 ],
 "metadata": {
  "kernelspec": {
   "display_name": "R",
   "language": "R",
   "name": "ir"
  },
  "language_info": {
   "codemirror_mode": "r",
   "file_extension": ".r",
   "mimetype": "text/x-r-source",
   "name": "R",
   "pygments_lexer": "r",
   "version": "3.3.2"
  }
 },
 "nbformat": 4,
 "nbformat_minor": 2
}
