{
 "cells": [
  {
   "cell_type": "code",
   "execution_count": 27,
   "metadata": {},
   "outputs": [
    {
     "name": "stderr",
     "output_type": "stream",
     "text": [
      "\n",
      "Attaching package: ‘dplyr’\n",
      "\n",
      "The following objects are masked from ‘package:stats’:\n",
      "\n",
      "    filter, lag\n",
      "\n",
      "The following objects are masked from ‘package:base’:\n",
      "\n",
      "    intersect, setdiff, setequal, union\n",
      "\n"
     ]
    }
   ],
   "source": [
    "library(dplyr)"
   ]
  },
  {
   "cell_type": "code",
   "execution_count": 7,
   "metadata": {},
   "outputs": [
    {
     "data": {
      "text/plain": [
       "\n",
       "\tTwo Sample t-test\n",
       "\n",
       "data:  1:10 and 1:10\n",
       "t = 0, df = 18, p-value = 1\n",
       "alternative hypothesis: true difference in means is not equal to 0\n",
       "95 percent confidence interval:\n",
       " -2.844662  2.844662\n",
       "sample estimates:\n",
       "mean of x mean of y \n",
       "      5.5       5.5 \n"
      ]
     },
     "metadata": {},
     "output_type": "display_data"
    }
   ],
   "source": [
    "t.test(1:10, 1:10, var.equal = T) "
   ]
  },
  {
   "cell_type": "code",
   "execution_count": 4,
   "metadata": {},
   "outputs": [
    {
     "data": {
      "text/plain": [
       "\n",
       "\tWelch Two Sample t-test\n",
       "\n",
       "data:  1:10 and c(7:20)\n",
       "t = -5.4349, df = 21.982, p-value = 1.855e-05\n",
       "alternative hypothesis: true difference in means is not equal to 0\n",
       "95 percent confidence interval:\n",
       " -11.052802  -4.947198\n",
       "sample estimates:\n",
       "mean of x mean of y \n",
       "      5.5      13.5 \n"
      ]
     },
     "metadata": {},
     "output_type": "display_data"
    }
   ],
   "source": [
    "t.test(1:10, y = c(7:20)) "
   ]
  },
  {
   "cell_type": "code",
   "execution_count": 8,
   "metadata": {},
   "outputs": [
    {
     "data": {
      "text/plain": [
       "\n",
       "\tTwo Sample t-test\n",
       "\n",
       "data:  1:10 and c(7:20)\n",
       "t = -5.1473, df = 22, p-value = 3.691e-05\n",
       "alternative hypothesis: true difference in means is not equal to 0\n",
       "95 percent confidence interval:\n",
       " -11.223245  -4.776755\n",
       "sample estimates:\n",
       "mean of x mean of y \n",
       "      5.5      13.5 \n"
      ]
     },
     "metadata": {},
     "output_type": "display_data"
    },
    {
     "data": {
      "text/plain": [
       "\n",
       "\tWelch Two Sample t-test\n",
       "\n",
       "data:  1:10 and c(7:20, 200)\n",
       "t = -1.6329, df = 14.165, p-value = 0.1245\n",
       "alternative hypothesis: true difference in means is not equal to 0\n",
       "95 percent confidence interval:\n",
       " -47.242900   6.376233\n",
       "sample estimates:\n",
       "mean of x mean of y \n",
       "  5.50000  25.93333 \n"
      ]
     },
     "metadata": {},
     "output_type": "display_data"
    }
   ],
   "source": [
    "t.test(1:10, y = c(7:20), var.equal = T)      # P = .00001855\n",
    "t.test(1:10, y = c(7:20, 200)) # P = .1245    -- NOT significant anymore"
   ]
  },
  {
   "cell_type": "code",
   "execution_count": 12,
   "metadata": {},
   "outputs": [
    {
     "data": {
      "image/png": "[encoded data removed]",
      "text/plain": [
       "plot without title"
      ]
     },
     "metadata": {},
     "output_type": "display_data"
    }
   ],
   "source": [
    "## Classical example: Student's sleep data\n",
    "plot(extra ~ group, data = sleep)"
   ]
  },
  {
   "cell_type": "code",
   "execution_count": 14,
   "metadata": {},
   "outputs": [
    {
     "data": {
      "text/plain": [
       "\n",
       "\tWelch Two Sample t-test\n",
       "\n",
       "data:  extra[group == 1] and extra[group == 2]\n",
       "t = -1.8608, df = 17.776, p-value = 0.07939\n",
       "alternative hypothesis: true difference in means is not equal to 0\n",
       "95 percent confidence interval:\n",
       " -3.3654832  0.2054832\n",
       "sample estimates:\n",
       "mean of x mean of y \n",
       "     0.75      2.33 \n"
      ]
     },
     "metadata": {},
     "output_type": "display_data"
    }
   ],
   "source": [
    "## Traditional interface\n",
    "with(sleep, t.test(extra[group == 1], extra[group == 2]))"
   ]
  },
  {
   "cell_type": "code",
   "execution_count": 16,
   "metadata": {},
   "outputs": [
    {
     "data": {
      "text/plain": [
       "\n",
       "\tTwo Sample t-test\n",
       "\n",
       "data:  extra by group\n",
       "t = -1.8608, df = 18, p-value = 0.07919\n",
       "alternative hypothesis: true difference in means is not equal to 0\n",
       "95 percent confidence interval:\n",
       " -3.363874  0.203874\n",
       "sample estimates:\n",
       "mean in group 1 mean in group 2 \n",
       "           0.75            2.33 \n"
      ]
     },
     "metadata": {},
     "output_type": "display_data"
    }
   ],
   "source": [
    "## Formula interface\n",
    "t.test(extra ~ group, data = sleep, var.equal = T)"
   ]
  },
  {
   "cell_type": "markdown",
   "metadata": {},
   "source": [
    "### Example of t-test"
   ]
  },
  {
   "cell_type": "code",
   "execution_count": 19,
   "metadata": {},
   "outputs": [
    {
     "name": "stdout",
     "output_type": "stream",
     "text": [
      "'data.frame':\t1200 obs. of  8 variables:\n",
      " $ villid   : int  1001106 1001106 1001106 1001106 1001106 1001106 1001106 1001106 1001106 1001106 ...\n",
      " $ hogid    : Factor w/ 1200 levels \"0101103002.0639\",..: 10 11 12 13 14 15 16 17 18 19 ...\n",
      " $ D_HH     : int  1 1 1 1 1 1 1 1 1 1 ...\n",
      " $ IncomeLab: int  NA NA NA 3200 NA 4320 4800 NA NA 3200 ...\n",
      " $ famsize  : int  6 6 6 5 5 5 5 6 6 3 ...\n",
      " $ agehead  : int  29 43 43 25 40 40 39 45 42 22 ...\n",
      " $ sexhead  : Factor w/ 2 levels \"Female\",\"Male\": 1 2 2 1 2 2 2 1 2 2 ...\n",
      " $ pov_HH   : Factor w/ 2 levels \"no pobre\",\"pobre\": 2 1 1 2 1 1 1 2 1 2 ...\n"
     ]
    }
   ],
   "source": [
    "MyFirstData <- read.csv('../Data/MyFirstData.csv', header = TRUE)\n",
    "str(MyFirstData)"
   ]
  },
  {
   "cell_type": "code",
   "execution_count": 58,
   "metadata": {
    "collapsed": true
   },
   "outputs": [],
   "source": [
    "?standard.error"
   ]
  },
  {
   "cell_type": "code",
   "execution_count": 46,
   "metadata": {},
   "outputs": [
    {
     "data": {
      "text/plain": [
       "\n",
       "\tTwo Sample t-test\n",
       "\n",
       "data:  IncomeLab by D_HH\n",
       "t = 2.7327, df = 172, p-value = 0.006938\n",
       "alternative hypothesis: true difference in means is not equal to 0\n",
       "95 percent confidence interval:\n",
       "  305.1836 1892.7926\n",
       "sample estimates:\n",
       "mean in group 0 mean in group 1 \n",
       "       3044.894        1945.906 \n"
      ]
     },
     "metadata": {},
     "output_type": "display_data"
    },
    {
     "name": "stdout",
     "output_type": "stream",
     "text": [
      "List of 9\n",
      " $ statistic  : Named num 2.73\n",
      "  ..- attr(*, \"names\")= chr \"t\"\n",
      " $ parameter  : Named num 172\n",
      "  ..- attr(*, \"names\")= chr \"df\"\n",
      " $ p.value    : num 0.00694\n",
      " $ conf.int   : atomic [1:2] 305 1893\n",
      "  ..- attr(*, \"conf.level\")= num 0.95\n",
      " $ estimate   : Named num [1:2] 3045 1946\n",
      "  ..- attr(*, \"names\")= chr [1:2] \"mean in group 0\" \"mean in group 1\"\n",
      " $ null.value : Named num 0\n",
      "  ..- attr(*, \"names\")= chr \"difference in means\"\n",
      " $ alternative: chr \"two.sided\"\n",
      " $ method     : chr \" Two Sample t-test\"\n",
      " $ data.name  : chr \"IncomeLab by D_HH\"\n",
      " - attr(*, \"class\")= chr \"htest\"\n"
     ]
    }
   ],
   "source": [
    "t_values <- t.test(IncomeLab ~ D_HH, data = MyFirstData, var.equal = T)\n",
    "t_values\n",
    "str(t_values)"
   ]
  },
  {
   "cell_type": "code",
   "execution_count": 37,
   "metadata": {},
   "outputs": [
    {
     "data": {
      "text/html": [
       "172"
      ],
      "text/latex": [
       "172"
      ],
      "text/markdown": [
       "172"
      ],
      "text/plain": [
       "[1] 172"
      ]
     },
     "metadata": {},
     "output_type": "display_data"
    }
   ],
   "source": [
    "# Or Calculate df manually\n",
    "# degress of freedom = number of valid values (excluding NA) - 2\n",
    "df <- MyFirstData %>% filter(!is.na(IncomeLab), !is.na(D_HH)) %>% nrow\n",
    "df <- df - 2\n",
    "df"
   ]
  },
  {
   "cell_type": "code",
   "execution_count": 1,
   "metadata": {},
   "outputs": [
    {
     "data": {
      "text/html": [
       "1.9738521694945"
      ],
      "text/latex": [
       "1.9738521694945"
      ],
      "text/markdown": [
       "1.9738521694945"
      ],
      "text/plain": [
       "[1] 1.973852"
      ]
     },
     "metadata": {},
     "output_type": "display_data"
    }
   ],
   "source": [
    "# critical t-value for a distribution with degrees of freedom of (174-2=172)\n",
    "# for a two-sided test at significance level of 5%\n",
    "qt(0.975, 172)"
   ]
  },
  {
   "cell_type": "markdown",
   "metadata": {},
   "source": [
    "Since the t-statistic (2.7327) is larger than the critical t-value (-1.974), we reject the null hypothesis with 95% confidence, say that there is difference between the two groups."
   ]
  },
  {
   "cell_type": "code",
   "execution_count": 56,
   "metadata": {},
   "outputs": [
    {
     "name": "stdout",
     "output_type": "stream",
     "text": [
      "[1] \"Reject H0 at 95% confidence level, the two groups are different\"\n"
     ]
    }
   ],
   "source": [
    "# Automate the interpretation\n",
    "# Reject H0 = (The difference is) statistically significant\n",
    "if(t_values$statistic > qt(0.025, t_values$parameter))\n",
    "   print(\"Reject H0 at 95% confidence level, the two groups are different\") else\n",
    "   print(\"No difference\")"
   ]
  }
 ],
 "metadata": {
  "kernelspec": {
   "display_name": "R",
   "language": "R",
   "name": "ir"
  },
  "language_info": {
   "codemirror_mode": "r",
   "file_extension": ".r",
   "mimetype": "text/x-r-source",
   "name": "R",
   "pygments_lexer": "r",
   "version": "3.4.3"
  }
 },
 "nbformat": 4,
 "nbformat_minor": 2
}
