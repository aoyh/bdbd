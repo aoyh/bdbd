{
 "cells": [
  {
   "cell_type": "code",
   "execution_count": 46,
   "metadata": {
    "collapsed": true
   },
   "outputs": [],
   "source": [
    "library(ggplot2)\n",
    "library(repr)\n",
    "options(repr.plot.width = 4, repr.plot.height = 3)"
   ]
  },
  {
   "cell_type": "code",
   "execution_count": 21,
   "metadata": {},
   "outputs": [
    {
     "data": {
      "text/plain": [
       "   Min. 1st Qu.  Median    Mean 3rd Qu.    Max. \n",
       "   1.00    3.00    4.00    3.68    5.00    6.00 "
      ]
     },
     "metadata": {},
     "output_type": "display_data"
    }
   ],
   "source": [
    "set.seed(3254)\n",
    "dice_rolls_100 <- as.integer(runif(100, 1, 7))\n",
    "summary(dice_rolls_100)"
   ]
  },
  {
   "cell_type": "code",
   "execution_count": 25,
   "metadata": {},
   "outputs": [
    {
     "data": {
      "text/plain": [
       "   Min. 1st Qu.  Median    Mean 3rd Qu.    Max. \n",
       "   1.00    2.00    3.00    3.49    5.00    6.00 "
      ]
     },
     "metadata": {},
     "output_type": "display_data"
    }
   ],
   "source": [
    "dice_rolls_1000 <- round(runif(1000, 1, 6), 0)\n",
    "summary(dice_rolls_1000)"
   ]
  },
  {
   "cell_type": "code",
   "execution_count": 27,
   "metadata": {},
   "outputs": [
    {
     "data": {
      "text/plain": [
       "   Min. 1st Qu.  Median    Mean 3rd Qu.    Max. \n",
       "  1.000   2.000   3.000   3.483   5.000   6.000 "
      ]
     },
     "metadata": {},
     "output_type": "display_data"
    }
   ],
   "source": [
    "dice_rolls_50000 <- floor(runif(50000, 1, 7))\n",
    "summary(dice_rolls_50000)"
   ]
  },
  {
   "cell_type": "code",
   "execution_count": 38,
   "metadata": {},
   "outputs": [
    {
     "data": {
      "image/png": "[encoded data removed]",
      "text/plain": [
       "Plot with title “Probability Distribution”"
      ]
     },
     "metadata": {},
     "output_type": "display_data"
    }
   ],
   "source": [
    "hist(dice_rolls_50000, freq = FALSE, col = 'blue',\n",
    "     main = 'Probability Distribution', xlab = 'Dice Value', ylab = 'Probability')"
   ]
  },
  {
   "cell_type": "markdown",
   "metadata": {},
   "source": [
    "## Randomly select 200 rolls from 50,000 population, repeat 400 times"
   ]
  },
  {
   "cell_type": "code",
   "execution_count": 41,
   "metadata": {},
   "outputs": [
    {
     "data": {
      "text/html": [
       "200"
      ],
      "text/latex": [
       "200"
      ],
      "text/markdown": [
       "200"
      ],
      "text/plain": [
       "[1] 200"
      ]
     },
     "metadata": {},
     "output_type": "display_data"
    },
    {
     "data": {
      "text/html": [
       "3.74"
      ],
      "text/latex": [
       "3.74"
      ],
      "text/markdown": [
       "3.74"
      ],
      "text/plain": [
       "[1] 3.74"
      ]
     },
     "metadata": {},
     "output_type": "display_data"
    }
   ],
   "source": [
    "length(sample(dice_rolls_50000, 200))\n",
    "mean(sample(dice_rolls_50000, 200))\n",
    " "
   ]
  },
  {
   "cell_type": "code",
   "execution_count": 44,
   "metadata": {},
   "outputs": [
    {
     "data": {
      "text/html": [
       "<table>\n",
       "<thead><tr><th scope=col>means</th></tr></thead>\n",
       "<tbody>\n",
       "\t<tr><td>3.425</td></tr>\n",
       "\t<tr><td>3.675</td></tr>\n",
       "\t<tr><td>3.550</td></tr>\n",
       "\t<tr><td>3.445</td></tr>\n",
       "\t<tr><td>3.470</td></tr>\n",
       "\t<tr><td>3.500</td></tr>\n",
       "</tbody>\n",
       "</table>\n"
      ],
      "text/latex": [
       "\\begin{tabular}{r|l}\n",
       " means\\\\\n",
       "\\hline\n",
       "\t 3.425\\\\\n",
       "\t 3.675\\\\\n",
       "\t 3.550\\\\\n",
       "\t 3.445\\\\\n",
       "\t 3.470\\\\\n",
       "\t 3.500\\\\\n",
       "\\end{tabular}\n"
      ],
      "text/markdown": [
       "\n",
       "means | \n",
       "|---|---|---|---|---|---|\n",
       "| 3.425 | \n",
       "| 3.675 | \n",
       "| 3.550 | \n",
       "| 3.445 | \n",
       "| 3.470 | \n",
       "| 3.500 | \n",
       "\n",
       "\n"
      ],
      "text/plain": [
       "  means\n",
       "1 3.425\n",
       "2 3.675\n",
       "3 3.550\n",
       "4 3.445\n",
       "5 3.470\n",
       "6 3.500"
      ]
     },
     "metadata": {},
     "output_type": "display_data"
    }
   ],
   "source": [
    "sampleMeans <- data.frame(means = replicate(400, mean(sample(dice_rolls_50000, 200))))\n",
    "head(sampleMeans)"
   ]
  },
  {
   "cell_type": "code",
   "execution_count": 54,
   "metadata": {},
   "outputs": [
    {
     "data": {},
     "metadata": {},
     "output_type": "display_data"
    },
    {
     "data": {
      "image/png": "[encoded data removed]",
      "text/plain": [
       "plot without title"
      ]
     },
     "metadata": {},
     "output_type": "display_data"
    }
   ],
   "source": [
    "ggplot(sampleMeans, aes(means)) +\n",
    "  geom_histogram(breaks = seq(1, 6, 0.05), fill = \"orange\", color = \"white\") + \n",
    "  scale_x_continuous(breaks = seq(1, 6, 0.5))"
   ]
  }
 ],
 "metadata": {
  "kernelspec": {
   "display_name": "R",
   "language": "R",
   "name": "ir"
  },
  "language_info": {
   "codemirror_mode": "r",
   "file_extension": ".r",
   "mimetype": "text/x-r-source",
   "name": "R",
   "pygments_lexer": "r",
   "version": "3.4.3"
  }
 },
 "nbformat": 4,
 "nbformat_minor": 2
}
