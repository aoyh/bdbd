{
 "cells": [
  {
   "cell_type": "markdown",
   "metadata": {},
   "source": [
    "# Assignment 3: Exercises 6.1, 7.1, 8.1\n",
    "Aaron Ou | 2018-03-06"
   ]
  },
  {
   "cell_type": "markdown",
   "metadata": {},
   "source": [
    "### 6.1 a:\n",
    "\n",
    "<!--(a) Estimate the minimum detectable effect for a two sided comparison of means with sample size of 440,\n",
    "standard deviation of 10.2, significance level of 0.05, and power of 80%. What happens to the MDE if you increase\n",
    "the sample size?\n",
    "-->"
   ]
  },
  {
   "cell_type": "code",
   "execution_count": 1,
   "metadata": {},
   "outputs": [
    {
     "data": {
      "text/plain": [
       "\n",
       "     Two-sample t test power calculation \n",
       "\n",
       "              n = 440\n",
       "          delta = 1.92873\n",
       "             sd = 10.2\n",
       "      sig.level = 0.05\n",
       "          power = 0.8\n",
       "    alternative = two.sided\n",
       "\n",
       "NOTE: n is number in *each* group\n"
      ]
     },
     "metadata": {},
     "output_type": "display_data"
    }
   ],
   "source": [
    "# n = 440, sd = 10.2, sig.level = 0.05, power = 80%\n",
    "power.t.test(n = 440, delta = NULL, sd = 10.2, sig.level = 0.05, power = 0.8,\n",
    "             type = \"two.sample\",\n",
    "             alternative = \"two.sided\",\n",
    "             strict = FALSE)"
   ]
  },
  {
   "cell_type": "markdown",
   "metadata": {},
   "source": [
    "If the sample size increases, the MDE will decrease."
   ]
  },
  {
   "cell_type": "markdown",
   "metadata": {},
   "source": [
    "### 6.1 b:\n",
    "\n",
    "<!--\n",
    "(b) Estimate the statistical power for a two sided comparison of means test with significance level of 0.10, sample\n",
    "size of 20500, and standard deviation of 1010, and MDE of 250. What happens to the statistical power if you\n",
    "increase the standard deviation?\n",
    "-->"
   ]
  },
  {
   "cell_type": "code",
   "execution_count": 2,
   "metadata": {},
   "outputs": [
    {
     "data": {
      "text/plain": [
       "\n",
       "     Two-sample t test power calculation \n",
       "\n",
       "              n = 20500\n",
       "          delta = 250\n",
       "             sd = 1010\n",
       "      sig.level = 0.1\n",
       "          power = 1\n",
       "    alternative = two.sided\n",
       "\n",
       "NOTE: n is number in *each* group\n"
      ]
     },
     "metadata": {},
     "output_type": "display_data"
    }
   ],
   "source": [
    "# n = 20500, sig.level  = 0.1, sd = 1010, MDE = 250\n",
    "power.t.test(n = 20500, delta = 250, sd = 1010, sig.level = 0.1, power = NULL,\n",
    "             type = \"two.sample\",\n",
    "             alternative = \"two.sided\",\n",
    "             strict = FALSE)"
   ]
  },
  {
   "cell_type": "markdown",
   "metadata": {},
   "source": [
    "If the standard deviation increases, statistical power will decrease."
   ]
  },
  {
   "cell_type": "markdown",
   "metadata": {},
   "source": [
    "### 6.1 c:\n",
    "\n",
    "<!--\n",
    "(c) Estimate the required sample size for significance level of 0.05, power of 80% standard deviation of 0.65 and\n",
    "MDE of .03. What happens to the required sample size when you increase the power?\n",
    "-->"
   ]
  },
  {
   "cell_type": "code",
   "execution_count": 3,
   "metadata": {},
   "outputs": [
    {
     "data": {
      "text/plain": [
       "\n",
       "     Two-sample t test power calculation \n",
       "\n",
       "              n = 7370.186\n",
       "          delta = 0.03\n",
       "             sd = 0.65\n",
       "      sig.level = 0.05\n",
       "          power = 0.8\n",
       "    alternative = two.sided\n",
       "\n",
       "NOTE: n is number in *each* group\n"
      ]
     },
     "metadata": {},
     "output_type": "display_data"
    }
   ],
   "source": [
    "# n = NULL, sig.level = 0.05, power = 0.8, sd = 0.65, MDE = .03\n",
    "power.t.test(n = NULL, sig.level = 0.05, power = 0.8, sd = 0.65, delta = 0.03,\n",
    "             type = \"two.sample\",\n",
    "             alternative = \"two.sided\",\n",
    "             strict = FALSE)"
   ]
  },
  {
   "cell_type": "markdown",
   "metadata": {},
   "source": [
    "A required sample size of 7370.\n",
    "If the power increases, the required sample size will have to increase too to maintain the same MDE."
   ]
  }
 ],
 "metadata": {
  "kernelspec": {
   "display_name": "R",
   "language": "R",
   "name": "ir"
  },
  "language_info": {
   "codemirror_mode": "r",
   "file_extension": ".r",
   "mimetype": "text/x-r-source",
   "name": "R",
   "pygments_lexer": "r",
   "version": "3.4.3"
  }
 },
 "nbformat": 4,
 "nbformat_minor": 2
}
