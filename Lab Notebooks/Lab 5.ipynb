{
 "cells": [
  {
   "cell_type": "markdown",
   "metadata": {},
   "source": [
    "# Lab 5\n",
    "## Randomized Promotion\n",
    "2/13/2018\n",
    "\n",
    "### Announcements:\n",
    "Reminder that the next problem set is due at the start of lecture next week (February 21).  Solutions for the last problem set are posted!  Grades should be up in bcourses within 1-2 weeks.  A reminder on problem set submission:\n",
    "* Jupyter notebook or R script only\n",
    "* Only assigned exercises\n",
    "* Submit by 9:30am for full credit\n",
    "\n",
    "### Plan for Today's Lab\n",
    "1. Quick discussion of instrumental variables applications (5-10 minutes)\n",
    "2. Checking compliance in R- crosstab (5 minutes)\n",
    "3. IV Regressions in R (5-10 minutes)\n",
    "\n",
    "## 1-Discussion\n",
    "Instrumental variabes are extremely useful when trying test products or programs in the real world, especially in the following situations:\n",
    "### Imperfect Compliance \n",
    "This was discussed in lecture: not everyone does what you tell them to!  It's important to understand that if we try to compare those who received the treatment directly to those who did not (instead of those who were randomly assigned to receive the treatment), our intervention is no longer randomly assigned!  Our estimates may be biased upwards or downwards.  Example: only very poor families choose to take up PROGRESA, so those who are assigned to receive the program but choose not comply to are wealthier/otherwise better off.\n",
    "### Imperfect Compliance By Design\n",
    "Sometimes, you may design an experiment in such a way that you know not everyone in your randomized group will receive the treatment.  For example, you may not be able to limit the sample of randomization only to people who are eligible. Example: Oregon Health Study \n",
    "### Encouragement or \"nudge\" designs\n",
    "It's important to understand the distinction here between the interpretation of the (a) first stage (b) intent to treat effect (c) local average treatment effect/treatment on the treated. With nudges or encouragement programs, we might actually care more about the intent to treat effect, because this is the true effect of the program (esp for cost effectiveness purposes).  In that case IV isn't really necessary.\n",
    "\n",
    "While the LATE/TOT can be interpretted casaully, we must remember that it is *local*.  This means that it is estimating the effect *for the group that was actually treated*.  So, we can't extrapolate what the effect would be for the group that was encouraged but didn't take up the treatment if we could somehow force them to take it up. (example: nudge to improve enrollment vs autoenrollment)\n",
    "\n",
    "### Natural experiments\n",
    "We can also use IV in to analyze the effect of programs/products when we're not able to run an experiment.  We just have to find something that randomly induces variation in exposure to the program/product/thing we're trying to understand the effect of. Example: Use years with bad flu season to estimate effects of school absenses on test scores\n"
   ]
  },
  {
   "cell_type": "code",
   "execution_count": 2,
   "metadata": {},
   "outputs": [
    {
     "name": "stderr",
     "output_type": "stream",
     "text": [
      "Installing package into ‘/home/aoyh/R/x86_64-pc-linux-gnu-library/3.4’\n",
      "(as ‘lib’ is unspecified)\n",
      "Loading required package: car\n",
      "\n",
      "Attaching package: ‘car’\n",
      "\n",
      "The following object is masked from ‘package:dplyr’:\n",
      "\n",
      "    recode\n",
      "\n",
      "Loading required package: lmtest\n",
      "Loading required package: zoo\n",
      "\n",
      "Attaching package: ‘zoo’\n",
      "\n",
      "The following objects are masked from ‘package:base’:\n",
      "\n",
      "    as.Date, as.Date.numeric\n",
      "\n",
      "Loading required package: sandwich\n",
      "Loading required package: survival\n"
     ]
    },
    {
     "name": "stdout",
     "output_type": "stream",
     "text": [
      "'data.frame':\t71411 obs. of  12 variables:\n",
      " $ year        : int  1998 1998 1999 1998 1999 1998 1999 1998 1999 1998 ...\n",
      " $ villid      : int  13030105 13030024 13030024 13030024 13030024 13030105 13030105 13030105 13030105 13030006 ...\n",
      " $ geopolid    : int  13 13 13 13 13 13 13 13 13 13 ...\n",
      " $ hogid       : int  1 2 2 3 3 4 4 5 5 6 ...\n",
      " $ pov_HH      : Factor w/ 2 levels \"Non poor\",\"poor\": 2 1 1 1 1 2 2 2 2 1 ...\n",
      " $ D           : Factor w/ 2 levels \"Control\",\"Treated\": 2 1 1 1 1 2 2 2 2 2 ...\n",
      " $ D_HH        : int  NA 0 0 0 0 NA NA NA NA 0 ...\n",
      " $ IncomeLab_HH: num  NA 9000 1200 1200 900 ...\n",
      " $ famsize     : int  2 3 3 3 3 5 5 2 2 4 ...\n",
      " $ eduhead     : int  NA NA NA NA NA NA NA NA NA NA ...\n",
      " $ agehead     : int  70 27 29 55 55 26 27 NA 47 60 ...\n",
      " $ sexhead     : Factor w/ 2 levels \"Female\",\"Male\": 2 2 2 2 2 2 2 2 2 1 ...\n"
     ]
    }
   ],
   "source": [
    "# Clear Environment \n",
    "rm(list = ls())\n",
    "\n",
    "# Load required packages\n",
    "library(dplyr)\n",
    "library(ggplot2)\n",
    "install.packages(\"gmodels\")\n",
    "library(gmodels)\n",
    "library(AER)\n",
    "\n",
    "# Set working directory to the location of your data files\n",
    "setwd(\"../Data\")\n",
    "\n",
    "# read the file\n",
    "PanelPROGRESA_97_99year <- read.csv(\"PanelPROGRESA_97_99year.csv\")\n",
    "str(PanelPROGRESA_97_99year)"
   ]
  },
  {
   "cell_type": "markdown",
   "metadata": {},
   "source": [
    "## 2-Checking Compliance\n",
    "Here we'll just create a table to check for compliance.  Quick discussion: do we still care about compliance if we can use IV to correct for it?"
   ]
  },
  {
   "cell_type": "code",
   "execution_count": 3,
   "metadata": {},
   "outputs": [
    {
     "name": "stdout",
     "output_type": "stream",
     "text": [
      "\n",
      " \n",
      "   Cell Contents\n",
      "|-------------------------|\n",
      "|                       N |\n",
      "|           N / Row Total |\n",
      "|-------------------------|\n",
      "\n",
      " \n",
      "Total Observations in Table:  22124 \n",
      "\n",
      " \n",
      "                   | PanelPROGRESA_99$D_HH \n",
      "PanelPROGRESA_99$D |         0 |         1 | Row Total | \n",
      "-------------------|-----------|-----------|-----------|\n",
      "           Control |      9329 |         0 |      9329 | \n",
      "                   |     1.000 |     0.000 |     0.422 | \n",
      "-------------------|-----------|-----------|-----------|\n",
      "           Treated |      4912 |      7883 |     12795 | \n",
      "                   |     0.384 |     0.616 |     0.578 | \n",
      "-------------------|-----------|-----------|-----------|\n",
      "      Column Total |     14241 |      7883 |     22124 | \n",
      "-------------------|-----------|-----------|-----------|\n",
      "\n",
      " \n"
     ]
    }
   ],
   "source": [
    "# Creating a subset for the year 1999\n",
    "PanelPROGRESA_99 <- subset(PanelPROGRESA_97_99year, year == 1999)\n",
    "# Checkout the CrossTable command\n",
    "?CrossTable\n",
    "# Setting a bunch of defaults to false, because we only need row - proportions\n",
    "CrossTable(PanelPROGRESA_99$D, PanelPROGRESA_99$D_HH, prop.c = FALSE, prop.t = FALSE, prop.chisq = FALSE)\n",
    "\n"
   ]
  },
  {
   "cell_type": "markdown",
   "metadata": {},
   "source": [
    "## 3-IV Regressions\n",
    "If we don't use any control variables, we can just use LATE=ITT/Compliance.  However, we'll often want to include control variables to increase precision or if our treatment is only random conditional on that variable. Remember that controlling for a variable (including the variable on the right hand side of a regression) allows us to estimate the effect of a treatment *holding constant* the control.  In this case, we'll need to use two stage least squares, which just means that we're technically running two regressions (though R does this automatically with one command):\n",
    "### Regression 1\n",
    "$ C_i=\\alpha+\\beta A_i +X_i +\\epsilon_i$\n",
    "\n",
    "$\\alpha$ is constant\n",
    "\n",
    "$ C_i $ is indicator for complied with treatment\n",
    "\n",
    "$ \\beta $ is likelihood of taking up treatment given that individual was assigned\n",
    "\n",
    "$ A_i $ is indicator for assigned to treatment\n",
    "\n",
    "$ \\epsilon_i $ is error term\n",
    "\n",
    "### Regression 2\n",
    "$ Y_i=\\gamma+\\delta \\hat C_i +X_i+\\tau_i$\n",
    "\n",
    "$ Y_i $ is outcome\n",
    "\n",
    "$\\gamma $ is contant\n",
    "\n",
    "$ \\delta $ is effect of treatment\n",
    "\n",
    "$ \\hat C_i $ is predicted compliace from equation 1\n",
    "\n",
    "$ X_i $ is control variables\n",
    "\n",
    "$\\tau_i$ is error term"
   ]
  },
  {
   "cell_type": "code",
   "execution_count": 5,
   "metadata": {},
   "outputs": [
    {
     "data": {
      "text/plain": [
       "\n",
       "Call:\n",
       "ivreg(formula = IncomeLab_HH ~ D_HH | D + eduhead, data = PanelPROGRESA_99)\n",
       "\n",
       "Residuals:\n",
       "       Min         1Q     Median         3Q        Max \n",
       "  -2153.24   -1004.04    -669.90      45.96 1800830.10 \n",
       "\n",
       "Coefficients:\n",
       "            Estimate Std. Error t value Pr(>|t|)    \n",
       "(Intercept)   1754.0      178.2   9.843   <2e-16 ***\n",
       "D_HH           415.9      355.9   1.168    0.243    \n",
       "---\n",
       "Signif. codes:  0 ‘***’ 0.001 ‘**’ 0.01 ‘*’ 0.05 ‘.’ 0.1 ‘ ’ 1\n",
       "\n",
       "Residual standard error: 14700 on 16981 degrees of freedom\n",
       "Multiple R-Squared: -6.532e-05,\tAdjusted R-squared: -0.0001242 \n",
       "Wald test: 1.365 on 1 and 16981 DF,  p-value: 0.2426 \n"
      ]
     },
     "metadata": {},
     "output_type": "display_data"
    },
    {
     "data": {
      "text/plain": [
       "\n",
       "Call:\n",
       "ivreg(formula = IncomeLab_HH ~ D_HH + eduhead | D + eduhead, \n",
       "    data = PanelPROGRESA_99)\n",
       "\n",
       "Residuals:\n",
       "       Min         1Q     Median         3Q        Max \n",
       "  -2247.35   -1072.35    -662.86      26.67 1800727.65 \n",
       "\n",
       "Coefficients:\n",
       "            Estimate Std. Error t value Pr(>|t|)    \n",
       "(Intercept)  1862.86     213.63   8.720   <2e-16 ***\n",
       "D_HH          409.50     355.98   1.150    0.250    \n",
       "eduhead       -37.22      40.30  -0.924    0.356    \n",
       "---\n",
       "Signif. codes:  0 ‘***’ 0.001 ‘**’ 0.01 ‘*’ 0.05 ‘.’ 0.1 ‘ ’ 1\n",
       "\n",
       "Residual standard error: 14700 on 16980 degrees of freedom\n",
       "Multiple R-Squared: -1.119e-05,\tAdjusted R-squared: -0.000129 \n",
       "Wald test: 1.109 on 2 and 16980 DF,  p-value: 0.3299 \n"
      ]
     },
     "metadata": {},
     "output_type": "display_data"
    }
   ],
   "source": [
    "# 2SLS (Two-Stage-Least-Squares) Regression or Instrumental Variable Regression\n",
    "#include D and eduhead as instruments-- assumes eduhead affects probability of treatment\n",
    "iv_model <- ivreg(IncomeLab_HH ~ D_HH |D + eduhead, data = PanelPROGRESA_99)\n",
    "summary(iv_model)\n",
    "#also includes eduhead in second regression-- effect of treatment holding eduhead constant\n",
    "#if eduhead included in second regresion (control when assessing effect of treatment)...\n",
    "#it must be included as an instrument in first regression\n",
    "iv_model2 <- ivreg(IncomeLab_HH ~ D_HH+eduhead | D +eduhead, data = PanelPROGRESA_99)\n",
    "summary(iv_model2)"
   ]
  },
  {
   "cell_type": "code",
   "execution_count": 6,
   "metadata": {
    "collapsed": true
   },
   "outputs": [],
   "source": [
    "?ivreg"
   ]
  }
 ],
 "metadata": {
  "kernelspec": {
   "display_name": "R",
   "language": "R",
   "name": "ir"
  },
  "language_info": {
   "codemirror_mode": "r",
   "file_extension": ".r",
   "mimetype": "text/x-r-source",
   "name": "R",
   "pygments_lexer": "r",
   "version": "3.4.3"
  }
 },
 "nbformat": 4,
 "nbformat_minor": 2
}
