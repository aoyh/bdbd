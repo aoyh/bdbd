{
 "cells": [
  {
   "cell_type": "markdown",
   "metadata": {},
   "source": [
    "# Lab 13 (Module 12)\n",
    "## Tree Models\n",
    "4/25/2018\n",
    "\n",
    "### Announcements:\n",
    "* Reminder: Problem Set due April 25th today, late submissions accepted only until May 1. \n",
    "* Next week will be a review session.  I'll plan to do an additional recorded review session the day before the exam during office hours time-- 1pm-3pm.\n",
    "\n",
    "\n",
    "### Plan for Today's Lab\n",
    "1. Simple Classification Trees + R example (10 min)\n",
    "2. Random Forest + R example (10 min)\n",
    "3. Boosting + R example (10 min)\n",
    "\n",
    "## 1-Simple Classification Trees\n",
    "To illustrate the process of building a classification tree, we will consider the case where we have a binary outcome with two predictor varables X1 and X2.\n",
    "Roughly speaking, there are two steps.\n",
    "1. We divide the  set of possible values for X1 and X2 J distinct and non-overlapping regions, R1, R2,...,RJ .\n",
    "2. For every observation that falls into a given region, we make the same prediction, which is 1 if more than 50% of the outcome values for the training observations in that region are equal to 1, and 0 otherwise.\n",
    "\n",
    "The goal is choose regions of X1 and X2 that minimize the number of incorrect predictions (1 when true value is 0, or 0 when true value is 1). Unfortunately, it is computationally infeasible to consider every possible partition of our predictor variables.  \n",
    "\n",
    "For this reason, we take a top-down, greedy approach that is known as recursive binary splitting. This means that we consider X1 and X2 and all possible \"cuts\" of each variable. If our variables were age and gender, gender would have one cutpoint, and age would have a number of cutpoints equal to the number of ages in the dataset. Then we pick the variable and cutpoint such that the resulting tree of two branches has the lowest number of incorrect predictions.\n",
    "\n",
    "Next, we repeat the process, looking for the best predictor and cutpoint in order to split the data further so as to minimize the number of incorrect predictions in each of the resulting regions. However, this time, we split one of the two previously identified regions to get 3 regions. The process continues until a stopping criterion is reached; for instance, we may continue until no region contains more than five observations.\n",
    "\n",
    "The process described above may produce good predictions on the training set, but is likely to overfit the data, leading to poor test set performance. We can \"prune\" the tree to prevent this issue.  See ISL for further details on pruning.\n",
    "\n",
    "We'll illustrate in R this with a dataset where observations are passengers on the Titanic.  The dataset contains variables that give some information about each passenger such as class, gender, age and whether they survived the shipwreck.  First, we'll load relevant dataset and packages.  We'll also create a test and training dataset."
   ]
  },
  {
   "cell_type": "markdown",
   "metadata": {},
   "source": [
    "### search \"Titanic ML\""
   ]
  },
  {
   "cell_type": "code",
   "execution_count": 2,
   "metadata": {},
   "outputs": [
    {
     "name": "stdout",
     "output_type": "stream",
     "text": [
      "\f"
     ]
    },
    {
     "name": "stderr",
     "output_type": "stream",
     "text": [
      "Loading required package: party\n",
      "Loading required package: grid\n",
      "Loading required package: mvtnorm\n",
      "Loading required package: modeltools\n",
      "Loading required package: stats4\n",
      "Loading required package: strucchange\n",
      "Loading required package: zoo\n",
      "\n",
      "Attaching package: ‘zoo’\n",
      "\n",
      "The following objects are masked from ‘package:base’:\n",
      "\n",
      "    as.Date, as.Date.numeric\n",
      "\n",
      "Loading required package: sandwich\n",
      "Loading required package: gbm\n",
      "Loading required package: survival\n",
      "Loading required package: lattice\n",
      "Loading required package: splines\n",
      "Loading required package: parallel\n",
      "Loaded gbm 2.1.3\n"
     ]
    }
   ],
   "source": [
    "# set working directory\n",
    "# setwd(\"/home/jovyan/mba217-2/Data\")\n",
    "\n",
    "# Clear Environment \n",
    "rm(list = ls())\n",
    "# Clear Console\n",
    "cat('\\014')\n",
    "\n",
    "#install required packages\n",
    "#install.packages(c(\"randomForest\",\"party\", \"gbm\"))\n",
    "# Load required packages\n",
    "require(dplyr)\n",
    "# require(ggplot2)\n",
    "# For the tree functions\n",
    "require(rpart) # rpart()\n",
    "require(party)\n",
    "# For Random Forest\n",
    "require(randomForest) # randomForest()\n",
    "# For Boosting\n",
    "require(gbm)\n"
   ]
  },
  {
   "cell_type": "code",
   "execution_count": 3,
   "metadata": {},
   "outputs": [
    {
     "data": {
      "text/html": [
       "<ol class=list-inline>\n",
       "\t<li>'survived'</li>\n",
       "\t<li>'pclass'</li>\n",
       "\t<li>'sex'</li>\n",
       "\t<li>'age'</li>\n",
       "\t<li>'sibsp'</li>\n",
       "</ol>\n"
      ],
      "text/latex": [
       "\\begin{enumerate*}\n",
       "\\item 'survived'\n",
       "\\item 'pclass'\n",
       "\\item 'sex'\n",
       "\\item 'age'\n",
       "\\item 'sibsp'\n",
       "\\end{enumerate*}\n"
      ],
      "text/markdown": [
       "1. 'survived'\n",
       "2. 'pclass'\n",
       "3. 'sex'\n",
       "4. 'age'\n",
       "5. 'sibsp'\n",
       "\n",
       "\n"
      ],
      "text/plain": [
       "[1] \"survived\" \"pclass\"   \"sex\"      \"age\"      \"sibsp\"   "
      ]
     },
     "metadata": {},
     "output_type": "display_data"
    },
    {
     "data": {
      "text/html": [
       "<ol class=list-inline>\n",
       "\t<li>1046</li>\n",
       "\t<li>5</li>\n",
       "</ol>\n"
      ],
      "text/latex": [
       "\\begin{enumerate*}\n",
       "\\item 1046\n",
       "\\item 5\n",
       "\\end{enumerate*}\n"
      ],
      "text/markdown": [
       "1. 1046\n",
       "2. 5\n",
       "\n",
       "\n"
      ],
      "text/plain": [
       "[1] 1046    5"
      ]
     },
     "metadata": {},
     "output_type": "display_data"
    }
   ],
   "source": [
    "# Read the data and remove observations with missing data\n",
    "Titanic <- read.csv(\"../Data/Titanic.csv\", header = TRUE)\n",
    "# remove obs with missing data, and select a few predictors\n",
    "Titanic <- na.omit(Titanic[,c(\"survived\",\"pclass\",\"sex\",\"age\",\"sibsp\")])\n",
    "attach(Titanic)\n",
    "names(Titanic)\n",
    "dim(Titanic)\n",
    "\n",
    "# for reproducibility\n",
    "set.seed(1234)\n",
    "\n",
    "# create train and test sets (~40% for training, ~60% for testing)\n",
    "Titanic$randu <- runif(nrow(Titanic),0,1)\n",
    "Titanic.train <- Titanic[Titanic$randu < .4,]\n",
    "Titanic.test <- Titanic[Titanic$randu >= .4,]"
   ]
  },
  {
   "cell_type": "markdown",
   "metadata": {},
   "source": [
    "Now we use the function rpart to create a simple tree using only the age and class variables.  This automatically performs the recursive binary splitting process for us.  Below, we see that it makes the correct prediction about 65% of the time in the test dataset.  CP=0.05 is the pruning parameter.  Typically we'd use cross validation to select the optimal pruning parameter, but we're keeping it simple here and just picking one."
   ]
  },
  {
   "cell_type": "code",
   "execution_count": 4,
   "metadata": {},
   "outputs": [
    {
     "data": {
      "text/html": [
       "0.349606299212598"
      ],
      "text/latex": [
       "0.349606299212598"
      ],
      "text/markdown": [
       "0.349606299212598"
      ],
      "text/plain": [
       "[1] 0.3496063"
      ]
     },
     "metadata": {},
     "output_type": "display_data"
    }
   ],
   "source": [
    "# Simple classification tree using rpart on training data\n",
    "simp.tree <- rpart(as.factor(survived) ~ pclass + age, data = Titanic.train, method=\"class\", cp=.05)\n",
    "# Fit model to test data and calculate MSE, which is just % incorrect predictions\n",
    "Titanic.test$pred<-predict(simp.tree, Titanic.test, type = c( \"class\"))\n",
    "Titanic.test$pred<-ifelse(Titanic.test$pred==\"1\", 1, 0)\n",
    "mean((Titanic.test$pred-Titanic.test$survived)^2)"
   ]
  },
  {
   "cell_type": "markdown",
   "metadata": {},
   "source": [
    "Next, we can fit the model to the full dataset and generate a picture of the actual tree.  For the condition at each node, TRUE goes to the left, and FALSE to the right.  The 0 or 1 at the bottom of the node is the prediction for that node, and the number below that is Survive=0/Survive=1."
   ]
  },
  {
   "cell_type": "code",
   "execution_count": 5,
   "metadata": {},
   "outputs": [
    {
     "data": {
      "image/png": "[encoded data removed]",
      "text/plain": [
       "plot without title"
      ]
     },
     "metadata": {},
     "output_type": "display_data"
    }
   ],
   "source": [
    "# plot model on full dataset\n",
    "simp.tree.full <- rpart(as.factor(survived) ~ pclass + age, data = Titanic, method=\"class\", cp=.05)\n",
    "plot(simp.tree.full, uniform = TRUE) # plot tree\n",
    "text(simp.tree.full, use.n = TRUE, all = TRUE, cex = 0.6, main = \"Titanic\") # add labels to tree"
   ]
  },
  {
   "cell_type": "markdown",
   "metadata": {},
   "source": [
    "## 2-Random Forest\n",
    "Random forests is a technique that uses multiple trees.  A typical procedure uses the following steps:\n",
    " 1. Choose a bootstrap sample of the observations and start to grow a tree.\n",
    " 2. At each node of the tree, choose a random sample of the predictors to make the next decision. Do not prune the trees.\n",
    " 3. Repeat this process many times to grow a forest of trees.\n",
    " 4. In order to determine the classification of a new observation, have each tree make a classification and use a majority vote for the final prediction.\n",
    " \n",
    "We'll illustrate this below using the titanic dataset again.  R fits a random forest using a single command.  We'll calculate the error rate again, this time using the confusion matrix."
   ]
  },
  {
   "cell_type": "code",
   "execution_count": 15,
   "metadata": {},
   "outputs": [
    {
     "data": {
      "text/plain": [
       "       \n",
       "pred.rf   0   1\n",
       "      0 335  82\n",
       "      1  44 174"
      ]
     },
     "metadata": {},
     "output_type": "display_data"
    },
    {
     "data": {
      "text/html": [
       "0.198425196850394"
      ],
      "text/latex": [
       "0.198425196850394"
      ],
      "text/markdown": [
       "0.198425196850394"
      ],
      "text/plain": [
       "[1] 0.1984252"
      ]
     },
     "metadata": {},
     "output_type": "display_data"
    },
    {
     "data": {
      "text/html": [
       "0.198425196850394"
      ],
      "text/latex": [
       "0.198425196850394"
      ],
      "text/markdown": [
       "0.198425196850394"
      ],
      "text/plain": [
       "[1] 0.1984252"
      ]
     },
     "metadata": {},
     "output_type": "display_data"
    },
    {
     "data": {
      "text/html": [
       "<table>\n",
       "<thead><tr><th></th><th scope=col>MeanDecreaseGini</th></tr></thead>\n",
       "<tbody>\n",
       "\t<tr><th scope=row>pclass</th><td>23.184489</td></tr>\n",
       "\t<tr><th scope=row>sex</th><td>45.836664</td></tr>\n",
       "\t<tr><th scope=row>age</th><td>15.945779</td></tr>\n",
       "\t<tr><th scope=row>sibsp</th><td> 6.797071</td></tr>\n",
       "</tbody>\n",
       "</table>\n"
      ],
      "text/latex": [
       "\\begin{tabular}{r|l}\n",
       "  & MeanDecreaseGini\\\\\n",
       "\\hline\n",
       "\tpclass & 23.184489\\\\\n",
       "\tsex & 45.836664\\\\\n",
       "\tage & 15.945779\\\\\n",
       "\tsibsp &  6.797071\\\\\n",
       "\\end{tabular}\n"
      ],
      "text/markdown": [
       "\n",
       "| <!--/--> | MeanDecreaseGini | \n",
       "|---|---|---|---|\n",
       "| pclass | 23.184489 | \n",
       "| sex | 45.836664 | \n",
       "| age | 15.945779 | \n",
       "| sibsp |  6.797071 | \n",
       "\n",
       "\n"
      ],
      "text/plain": [
       "       MeanDecreaseGini\n",
       "pclass 23.184489       \n",
       "sex    45.836664       \n",
       "age    15.945779       \n",
       "sibsp   6.797071       "
      ]
     },
     "metadata": {},
     "output_type": "display_data"
    }
   ],
   "source": [
    "#### Random Forests #####\n",
    "# It is important to set seed to for replicating results as there's a lot of randomization that happens in Random Forests\n",
    "set.seed(1234)\n",
    "\n",
    "#Fit the training data\n",
    "# nodesize is minimum size of terminal nodes\n",
    "# mtry is number of variables randomly sampled as candidates at each split\n",
    "# ntree is the number of bootstrap samples\n",
    "model.rf <- randomForest(as.factor(survived) ~ pclass + sex + age + sibsp,\n",
    "                         data = Titanic.train, mtry = 2, nodesize = 30, ntree = 500)\n",
    "#predict outcomes on the test data\n",
    "pred.rf <- predict(model.rf, newdata = Titanic.test)\n",
    "#compare actual and predicted outcomes\n",
    "conf.rf <- table(pred.rf, Titanic.test$survived)\n",
    "conf.rf\n",
    "#calculate the error rate\n",
    "(conf.rf[1,2]+conf.rf[2,1])/sum(conf.rf)\n",
    "# or equivalent to \n",
    "mean(pred.rf != Titanic.test$survived)\n",
    "#total decrease in node impurities from splitting on the variable, averaged over all trees\n",
    "importance(model.rf)"
   ]
  },
  {
   "cell_type": "markdown",
   "metadata": {},
   "source": [
    "## 3-Boosting\n",
    "Boosting involves repeated estimation where misclassified observations are given increasing weight in each repetition. The final estimate is then a vote or an average estimate across the repeated estimates.  \n",
    "\n",
    "First, an initial tree is fit.  Given that model, we fit a decision tree to the residuals. That is, we fit a tree using R= (1= misclassified positive, -1=misclassified negative), rather than the outcome Y , as the response. We then add this new decision tree into the fitted function in order to update the residuals. \n",
    "\n",
    "Boosting has three tuning parameters:\n",
    "1. The number of trees B. Unlike bagging and random forests, boosting can overfit if B is too large, although this overfitting tends to occur slowly if at all. We use cross-validation to select B.\n",
    "2. The shrinkage parameter λ, a small positive number. This controls the rate at which boosting learns. Typical values are 0.01 or 0.001, and the right choice can depend on the problem. Very small λ can require using a very large value of B in order to achieve good performance.\n",
    "3. The number d of splits in each tree or the \"interaction depth\", controls the interaction order of the boosted model, since d splits can involve at most d variables.  Typically 1 or 2 is a good choice, and we can compare using the test error rate."
   ]
  },
  {
   "cell_type": "code",
   "execution_count": 10,
   "metadata": {},
   "outputs": [
    {
     "data": {
      "text/plain": [
       "          \n",
       "pred.boost   0   1\n",
       "         0 324  78\n",
       "         1  55 178"
      ]
     },
     "metadata": {},
     "output_type": "display_data"
    },
    {
     "data": {
      "text/html": [
       "0.209448818897638"
      ],
      "text/latex": [
       "0.209448818897638"
      ],
      "text/markdown": [
       "0.209448818897638"
      ],
      "text/plain": [
       "[1] 0.2094488"
      ]
     },
     "metadata": {},
     "output_type": "display_data"
    },
    {
     "data": {
      "text/html": [
       "0.209448818897638"
      ],
      "text/latex": [
       "0.209448818897638"
      ],
      "text/markdown": [
       "0.209448818897638"
      ],
      "text/plain": [
       "[1] 0.2094488"
      ]
     },
     "metadata": {},
     "output_type": "display_data"
    }
   ],
   "source": [
    "### Boosting #####\n",
    "model.boost <- gbm(survived ~ pclass + sex + age + sibsp,\n",
    "                 data = Titanic.train,\n",
    "                 distribution = \"bernoulli\",\n",
    "                 n.trees = 10000,\n",
    "                 shrinkage = 0.001,\n",
    "                 interaction.depth = 1)\n",
    "\n",
    "pred.boost <- predict(model.boost, newdata = Titanic.test, type =\"response\", n.trees=1000)\n",
    "pred.boost <- ifelse(pred.boost >=0.5 , 1, 0)\n",
    "conf.boost <- table(pred.boost, Titanic.test$survived)\n",
    "conf.boost\n",
    "(conf.boost[1,2]+conf.boost[2,1])/sum(conf.boost)\n",
    "# or\n",
    "mean(pred.boost != Titanic.test$survived)"
   ]
  }
 ],
 "metadata": {
  "kernelspec": {
   "display_name": "R",
   "language": "R",
   "name": "ir"
  },
  "language_info": {
   "codemirror_mode": "r",
   "file_extension": ".r",
   "mimetype": "text/x-r-source",
   "name": "R",
   "pygments_lexer": "r",
   "version": "3.4.4"
  }
 },
 "nbformat": 4,
 "nbformat_minor": 2
}
