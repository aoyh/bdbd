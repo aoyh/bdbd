{
 "cells": [
  {
   "cell_type": "markdown",
   "metadata": {},
   "source": [
    "# Lab 7\n",
    "## Regression Discontinuity\n",
    "2/28/2018\n",
    "\n",
    "### Announcements:\n",
    "* Office hours for the month of March will be 2pm-4pm Tuesdays in room N355.\n",
    "* Please see the course syllabus for our re-grade policy.  I do not grade your assignments/exams, and cannot address specific questions about grades.  See the rubric announced on bcourses (and sent over email) for a general guide.\n",
    "* Apologies for the lag in posting module 7.  The person responsible for writing the module was delayed in completing it due to illness, but we will hopefully have it posted by the end of this week.  Everything you need to complete today's section of the next problem set can be found in this notebook, including the problem set question.  Take a look at the module later as an additional resource, but core skills will be covered here.\n",
    "\n",
    "### Plan for Today's Lab\n",
    "1. Quick discussion of RD and when it's appropriate (5-10 minutes)\n",
    "2. Graphical RD analysis (5-10 minutes)\n",
    "3. Regression for a sharp RD (5-10 minutes)\n",
    "\n",
    "## 1- Discussion\n",
    "RD is useful in any situation where a \"cutoff\" is used to assign treatment.  One of the biggest concerns with this strategy for identifying a causal effect is that people just above/below the cutoff have selected into their position relative to the cutoff.  For example consider a program that automatically gives out a scholarships for students scoring above a certain cutoff on the SATs.  If we were to estimate the effect of the scholarship on probability of attending college using an RD approach, what concerns might we have about the validity of our approach?"
   ]
  },
  {
   "cell_type": "code",
   "execution_count": 1,
   "metadata": {},
   "outputs": [
    {
     "name": "stdout",
     "output_type": "stream",
     "text": [
      "\f"
     ]
    },
    {
     "name": "stderr",
     "output_type": "stream",
     "text": [
      "Loading required package: dplyr\n",
      "\n",
      "Attaching package: ‘dplyr’\n",
      "\n",
      "The following objects are masked from ‘package:stats’:\n",
      "\n",
      "    filter, lag\n",
      "\n",
      "The following objects are masked from ‘package:base’:\n",
      "\n",
      "    intersect, setdiff, setequal, union\n",
      "\n",
      "Loading required package: ggplot2\n",
      "Loading required package: miceadds\n",
      "Loading required package: mice\n",
      "Loading required package: lattice\n",
      "* miceadds 2.9-15 (2017-12-18 11:50:04)\n",
      "Loading required package: multiwayvcov\n"
     ]
    }
   ],
   "source": [
    "# Clear Environment \n",
    "rm(list = ls())\n",
    "# Clear Console\n",
    "cat('\\014')\n",
    "\n",
    "# Load required packages\n",
    "require(dplyr)\n",
    "require(ggplot2)\n",
    "require(miceadds)\n",
    "require(multiwayvcov)\n",
    "\n",
    "\n",
    "# Set working directory to the location of your data files/\n",
    "# setwd(\"/home/jovyan/mba217-2/Data\")\n",
    "\n",
    "# Read the data \n",
    "# This is the same dataset we have been using, but with additional variables for the RD\n",
    "# Data has already been limited to treatment group only in 1999 (endline)\n",
    "PROGRESA_RD <- read.csv('../Data/PROGRESA_RD.csv')"
   ]
  },
  {
   "cell_type": "markdown",
   "metadata": {},
   "source": [
    "## 2-Graphical RD analysis\n",
    "In  most cases, we want to start RD analysis by examining the data visually.  We'll do this by \"binning\" the forcing variable (the variable for which a cutoff determines assignment to treatment), which just means that we'll group it into a value range.  For example, all values (0 to less than 10) would be set to 0, all values (10 to less than 20) would be set to 10.  \n",
    "\n",
    "We will also limit the data to a range around the forcing variable-- we want to focus on data close to the cutoff.\n",
    "\n",
    "Here, we'll consider the PROGRESA RCT again.  In addition to treatment being randomly assigned to villages, individuals within treatment villages were only eligible to receive the transfer program if they were below a cutoff of a poverty index created by the Mexican government.  In our data, the households value for the index relative to the cutoff is represented by the variable z.  Households with z<=0 were eligible for PROGRESA and those with z>0 were not."
   ]
  },
  {
   "cell_type": "code",
   "execution_count": 2,
   "metadata": {},
   "outputs": [
    {
     "data": {
      "text/html": [
       "<ol class=list-inline>\n",
       "\t<li>[0,2]</li>\n",
       "\t<li>[0,2]</li>\n",
       "\t<li>(2,4]</li>\n",
       "\t<li>(2,4]</li>\n",
       "\t<li>(4,6]</li>\n",
       "\t<li>(4,6]</li>\n",
       "\t<li>(6,8]</li>\n",
       "\t<li>(6,8]</li>\n",
       "\t<li>(8,10]</li>\n",
       "\t<li>(8,10]</li>\n",
       "</ol>\n",
       "\n",
       "<details>\n",
       "\t<summary style=display:list-item;cursor:pointer>\n",
       "\t\t<strong>Levels</strong>:\n",
       "\t</summary>\n",
       "\t<ol class=list-inline>\n",
       "\t\t<li>'[0,2]'</li>\n",
       "\t\t<li>'(2,4]'</li>\n",
       "\t\t<li>'(4,6]'</li>\n",
       "\t\t<li>'(6,8]'</li>\n",
       "\t\t<li>'(8,10]'</li>\n",
       "\t</ol>\n",
       "</details>"
      ],
      "text/latex": [
       "\\begin{enumerate*}\n",
       "\\item {[}0,2{]}\n",
       "\\item {[}0,2{]}\n",
       "\\item (2,4{]}\n",
       "\\item (2,4{]}\n",
       "\\item (4,6{]}\n",
       "\\item (4,6{]}\n",
       "\\item (6,8{]}\n",
       "\\item (6,8{]}\n",
       "\\item (8,10{]}\n",
       "\\item (8,10{]}\n",
       "\\end{enumerate*}\n",
       "\n",
       "\\emph{Levels}: \\begin{enumerate*}\n",
       "\\item '{[}0,2{]}'\n",
       "\\item '(2,4{]}'\n",
       "\\item '(4,6{]}'\n",
       "\\item '(6,8{]}'\n",
       "\\item '(8,10{]}'\n",
       "\\end{enumerate*}\n"
      ],
      "text/markdown": [
       "1. [0,2]\n",
       "2. [0,2]\n",
       "3. (2,4]\n",
       "4. (2,4]\n",
       "5. (4,6]\n",
       "6. (4,6]\n",
       "7. (6,8]\n",
       "8. (6,8]\n",
       "9. (8,10]\n",
       "10. (8,10]\n",
       "\n",
       "\n",
       "\n",
       "**Levels**: 1. '[0,2]'\n",
       "2. '(2,4]'\n",
       "3. '(4,6]'\n",
       "4. '(6,8]'\n",
       "5. '(8,10]'\n",
       "\n",
       "\n"
      ],
      "text/plain": [
       " [1] [0,2]  [0,2]  (2,4]  (2,4]  (4,6]  (4,6]  (6,8]  (6,8]  (8,10] (8,10]\n",
       "Levels: [0,2] (2,4] (4,6] (6,8] (8,10]"
      ]
     },
     "metadata": {},
     "output_type": "display_data"
    }
   ],
   "source": [
    "cut_interval(1:10, length = 2)"
   ]
  },
  {
   "cell_type": "code",
   "execution_count": 3,
   "metadata": {},
   "outputs": [
    {
     "data": {
      "text/plain": [
       "   Min. 1st Qu.  Median    Mean 3rd Qu.    Max. \n",
       "-200.00 -110.00  -50.00  -40.52   30.00  190.00 "
      ]
     },
     "metadata": {},
     "output_type": "display_data"
    }
   ],
   "source": [
    "#First we will limit the data households within 200 points of a poverty index cutoff \n",
    "# This cutoff determined assignment to treatment \n",
    "    sampleRD <- subset(PROGRESA_RD,  ( PROGRESA_RD$z>=-200 & PROGRESA_RD$z<=200) ) \n",
    "\n",
    "#Here, we create bins of 10 points on the poverty index\n",
    "    sampleRD<-sampleRD[order(sampleRD$z),]\n",
    "    sampleRD$bin0<-cut_interval(sampleRD$z, length=10, labels = FALSE)\n",
    "    sampleRD$bin<- -210+(sampleRD$bin0*10)\n",
    "    summary(sampleRD$bin)"
   ]
  },
  {
   "cell_type": "code",
   "execution_count": 4,
   "metadata": {},
   "outputs": [
    {
     "data": {
      "text/html": [
       "<table>\n",
       "<thead><tr><th></th><th scope=col>X</th><th scope=col>entidad</th><th scope=col>hogid</th><th scope=col>iid</th><th scope=col>year</th><th scope=col>n002</th><th scope=col>n009</th><th scope=col>enroll_child</th><th scope=col>contba</th><th scope=col>pobreden</th><th scope=col>⋯</th><th scope=col>D</th><th scope=col>pov_HH</th><th scope=col>D_HH</th><th scope=col>uniqhh</th><th scope=col>D_assign</th><th scope=col>maxcut</th><th scope=col>z</th><th scope=col>E</th><th scope=col>bin0</th><th scope=col>bin</th></tr></thead>\n",
       "<tbody>\n",
       "\t<tr><th scope=row>722</th><td>3187   </td><td>13     </td><td>350834 </td><td>3508343</td><td>1999   </td><td>17     </td><td>NA     </td><td>0      </td><td>basal  </td><td>pobre  </td><td>⋯      </td><td>1      </td><td>1      </td><td>1      </td><td>0      </td><td>1      </td><td>753    </td><td>-200   </td><td>1      </td><td>1      </td><td>-200   </td></tr>\n",
       "\t<tr><th scope=row>1483</th><td>7114   </td><td>13     </td><td>350834 </td><td>3508344</td><td>1999   </td><td>13     </td><td>NA     </td><td>si     </td><td>basal  </td><td>pobre  </td><td>⋯      </td><td>1      </td><td>1      </td><td>1      </td><td>1      </td><td>1      </td><td>753    </td><td>-200   </td><td>1      </td><td>1      </td><td>-200   </td></tr>\n",
       "</tbody>\n",
       "</table>\n"
      ],
      "text/latex": [
       "\\begin{tabular}{r|lllllllllllllllllllllllllllllllllllllllll}\n",
       "  & X & entidad & hogid & iid & year & n002 & n009 & enroll\\_child & contba & pobreden & ⋯ & D & pov\\_HH & D\\_HH & uniqhh & D\\_assign & maxcut & z & E & bin0 & bin\\\\\n",
       "\\hline\n",
       "\t722 & 3187    & 13      & 350834  & 3508343 & 1999    & 17      & NA      & 0       & basal   & pobre   & ⋯       & 1       & 1       & 1       & 0       & 1       & 753     & -200    & 1       & 1       & -200   \\\\\n",
       "\t1483 & 7114    & 13      & 350834  & 3508344 & 1999    & 13      & NA      & si      & basal   & pobre   & ⋯       & 1       & 1       & 1       & 1       & 1       & 753     & -200    & 1       & 1       & -200   \\\\\n",
       "\\end{tabular}\n"
      ],
      "text/markdown": [
       "\n",
       "| <!--/--> | X | entidad | hogid | iid | year | n002 | n009 | enroll_child | contba | pobreden | ⋯ | D | pov_HH | D_HH | uniqhh | D_assign | maxcut | z | E | bin0 | bin | \n",
       "|---|---|\n",
       "| 722 | 3187    | 13      | 350834  | 3508343 | 1999    | 17      | NA      | 0       | basal   | pobre   | ⋯       | 1       | 1       | 1       | 0       | 1       | 753     | -200    | 1       | 1       | -200    | \n",
       "| 1483 | 7114    | 13      | 350834  | 3508344 | 1999    | 13      | NA      | si      | basal   | pobre   | ⋯       | 1       | 1       | 1       | 1       | 1       | 753     | -200    | 1       | 1       | -200    | \n",
       "\n",
       "\n"
      ],
      "text/plain": [
       "     X    entidad hogid  iid     year n002 n009 enroll_child contba pobreden ⋯\n",
       "722  3187 13      350834 3508343 1999 17   NA   0            basal  pobre    ⋯\n",
       "1483 7114 13      350834 3508344 1999 13   NA   si           basal  pobre    ⋯\n",
       "     D pov_HH D_HH uniqhh D_assign maxcut z    E bin0 bin \n",
       "722  1 1      1    0      1        753    -200 1 1    -200\n",
       "1483 1 1      1    1      1        753    -200 1 1    -200"
      ]
     },
     "metadata": {},
     "output_type": "display_data"
    },
    {
     "data": {
      "text/html": [
       "<ol class=list-inline>\n",
       "\t<li>-190</li>\n",
       "\t<li>-180</li>\n",
       "\t<li>-170</li>\n",
       "\t<li>-160</li>\n",
       "\t<li>-150</li>\n",
       "\t<li>-140</li>\n",
       "\t<li>-130</li>\n",
       "\t<li>-120</li>\n",
       "\t<li>-110</li>\n",
       "\t<li>-100</li>\n",
       "\t<li>-90</li>\n",
       "\t<li>-80</li>\n",
       "\t<li>-70</li>\n",
       "\t<li>-60</li>\n",
       "\t<li>-50</li>\n",
       "\t<li>-40</li>\n",
       "\t<li>-30</li>\n",
       "\t<li>-20</li>\n",
       "\t<li>-10</li>\n",
       "</ol>\n"
      ],
      "text/latex": [
       "\\begin{enumerate*}\n",
       "\\item -190\n",
       "\\item -180\n",
       "\\item -170\n",
       "\\item -160\n",
       "\\item -150\n",
       "\\item -140\n",
       "\\item -130\n",
       "\\item -120\n",
       "\\item -110\n",
       "\\item -100\n",
       "\\item -90\n",
       "\\item -80\n",
       "\\item -70\n",
       "\\item -60\n",
       "\\item -50\n",
       "\\item -40\n",
       "\\item -30\n",
       "\\item -20\n",
       "\\item -10\n",
       "\\end{enumerate*}\n"
      ],
      "text/markdown": [
       "1. -190\n",
       "2. -180\n",
       "3. -170\n",
       "4. -160\n",
       "5. -150\n",
       "6. -140\n",
       "7. -130\n",
       "8. -120\n",
       "9. -110\n",
       "10. -100\n",
       "11. -90\n",
       "12. -80\n",
       "13. -70\n",
       "14. -60\n",
       "15. -50\n",
       "16. -40\n",
       "17. -30\n",
       "18. -20\n",
       "19. -10\n",
       "\n",
       "\n"
      ],
      "text/plain": [
       " [1] -190 -180 -170 -160 -150 -140 -130 -120 -110 -100  -90  -80  -70  -60  -50\n",
       "[16]  -40  -30  -20  -10"
      ]
     },
     "metadata": {},
     "output_type": "display_data"
    }
   ],
   "source": [
    "head(sampleRD, 2)\n",
    "unique(sampleRD[sampleRD$bin >-200 & sampleRD$bin < 0, \"bin\"])"
   ]
  },
  {
   "cell_type": "markdown",
   "metadata": {},
   "source": [
    "Here, we are going to focus on the variable of child enrollment in school as our outcome.  We want to compare enrollment rates for those just below and above the cutoff, so we calculate the mean enrollment values for each of the bins we created above and plot these means against the forcing variable (relative poverty index).  We will also fit regression lines for below and above the cutoff."
   ]
  },
  {
   "cell_type": "code",
   "execution_count": 5,
   "metadata": {},
   "outputs": [
    {
     "name": "stderr",
     "output_type": "stream",
     "text": [
      "Warning message:\n",
      "“Removed 20 rows containing non-finite values (stat_smooth).”Warning message:\n",
      "“Removed 20 rows containing non-finite values (stat_smooth).”"
     ]
    },
    {
     "data": {},
     "metadata": {},
     "output_type": "display_data"
    },
    {
     "data": {
      "image/png": "[encoded data removed]",
      "text/plain": [
       "plot without title"
      ]
     },
     "metadata": {},
     "output_type": "display_data"
    }
   ],
   "source": [
    "    #Make enroll_child factor variable and limit datset to only relevant variables\n",
    "    sampleRD$enroll_child<-ifelse(sampleRD$enroll_child == \"si\" ,1,0)\n",
    "    v<-c(\"bin\", \"z\", \"enroll_child\")\n",
    "    sampleRD2<-sampleRD[v]\n",
    "    \n",
    "    #collapse dataset to get bin means\n",
    "    aggdata <-aggregate(sampleRD2, by=list(sampleRD2$bin), FUN=mean, na.rm=TRUE)\n",
    "\n",
    "    #create separate variables for below and above cutoff\n",
    "    aggdata$below<-aggdata$enroll_child\n",
    "    aggdata$below[aggdata$bin>=0]<-NA\n",
    "    aggdata$above<-aggdata$enroll_child\n",
    "    aggdata$above[aggdata$bin<0]<-NA\n",
    "\n",
    "    #Plot bin averages \n",
    "    L <- aggdata %>% ggplot(aes(bin, enroll_child)) \n",
    "    P <- geom_point(color='blue')\n",
    "    ## add fit lines for above/below cutoff\n",
    "    L <- L + geom_smooth(color='red',method='lm', formula=y~x, aes(aggdata$bin, aggdata$above))\n",
    "    L <- L + geom_smooth(color='green',method='lm', formula=y~x, aes(aggdata$bin, aggdata$below))\n",
    "    \n",
    "    #Display Plot\n",
    "    L+P + xlab(\"X\") +  ylab(\"Child Enrollment\")"
   ]
  },
  {
   "cell_type": "code",
   "execution_count": 6,
   "metadata": {},
   "outputs": [
    {
     "data": {
      "text/html": [
       "40"
      ],
      "text/latex": [
       "40"
      ],
      "text/markdown": [
       "40"
      ],
      "text/plain": [
       "[1] 40"
      ]
     },
     "metadata": {},
     "output_type": "display_data"
    }
   ],
   "source": [
    "nrow(aggdata)"
   ]
  },
  {
   "cell_type": "code",
   "execution_count": 7,
   "metadata": {},
   "outputs": [
    {
     "data": {
      "text/html": [
       "<table>\n",
       "<thead><tr><th scope=col>bin</th><th scope=col>enroll_child</th><th scope=col>z</th></tr></thead>\n",
       "<tbody>\n",
       "\t<tr><td>TRUE</td><td>TRUE</td><td>TRUE</td></tr>\n",
       "\t<tr><td>TRUE</td><td>TRUE</td><td>TRUE</td></tr>\n",
       "\t<tr><td>TRUE</td><td>TRUE</td><td>TRUE</td></tr>\n",
       "\t<tr><td>TRUE</td><td>TRUE</td><td>TRUE</td></tr>\n",
       "\t<tr><td>TRUE</td><td>TRUE</td><td>TRUE</td></tr>\n",
       "\t<tr><td>TRUE</td><td>TRUE</td><td>TRUE</td></tr>\n",
       "\t<tr><td>TRUE</td><td>TRUE</td><td>TRUE</td></tr>\n",
       "\t<tr><td>TRUE</td><td>TRUE</td><td>TRUE</td></tr>\n",
       "\t<tr><td>TRUE</td><td>TRUE</td><td>TRUE</td></tr>\n",
       "\t<tr><td>TRUE</td><td>TRUE</td><td>TRUE</td></tr>\n",
       "\t<tr><td>TRUE</td><td>TRUE</td><td>TRUE</td></tr>\n",
       "\t<tr><td>TRUE</td><td>TRUE</td><td>TRUE</td></tr>\n",
       "\t<tr><td>TRUE</td><td>TRUE</td><td>TRUE</td></tr>\n",
       "\t<tr><td>TRUE</td><td>TRUE</td><td>TRUE</td></tr>\n",
       "\t<tr><td>TRUE</td><td>TRUE</td><td>TRUE</td></tr>\n",
       "\t<tr><td>TRUE</td><td>TRUE</td><td>TRUE</td></tr>\n",
       "\t<tr><td>TRUE</td><td>TRUE</td><td>TRUE</td></tr>\n",
       "\t<tr><td>TRUE</td><td>TRUE</td><td>TRUE</td></tr>\n",
       "\t<tr><td>TRUE</td><td>TRUE</td><td>TRUE</td></tr>\n",
       "\t<tr><td>TRUE</td><td>TRUE</td><td>TRUE</td></tr>\n",
       "\t<tr><td>TRUE</td><td>TRUE</td><td>TRUE</td></tr>\n",
       "\t<tr><td>TRUE</td><td>TRUE</td><td>TRUE</td></tr>\n",
       "\t<tr><td>TRUE</td><td>TRUE</td><td>TRUE</td></tr>\n",
       "\t<tr><td>TRUE</td><td>TRUE</td><td>TRUE</td></tr>\n",
       "\t<tr><td>TRUE</td><td>TRUE</td><td>TRUE</td></tr>\n",
       "\t<tr><td>TRUE</td><td>TRUE</td><td>TRUE</td></tr>\n",
       "\t<tr><td>TRUE</td><td>TRUE</td><td>TRUE</td></tr>\n",
       "\t<tr><td>TRUE</td><td>TRUE</td><td>TRUE</td></tr>\n",
       "\t<tr><td>TRUE</td><td>TRUE</td><td>TRUE</td></tr>\n",
       "\t<tr><td>TRUE</td><td>TRUE</td><td>TRUE</td></tr>\n",
       "\t<tr><td>TRUE</td><td>TRUE</td><td>TRUE</td></tr>\n",
       "\t<tr><td>TRUE</td><td>TRUE</td><td>TRUE</td></tr>\n",
       "\t<tr><td>TRUE</td><td>TRUE</td><td>TRUE</td></tr>\n",
       "\t<tr><td>TRUE</td><td>TRUE</td><td>TRUE</td></tr>\n",
       "\t<tr><td>TRUE</td><td>TRUE</td><td>TRUE</td></tr>\n",
       "\t<tr><td>TRUE</td><td>TRUE</td><td>TRUE</td></tr>\n",
       "\t<tr><td>TRUE</td><td>TRUE</td><td>TRUE</td></tr>\n",
       "\t<tr><td>TRUE</td><td>TRUE</td><td>TRUE</td></tr>\n",
       "\t<tr><td>TRUE</td><td>TRUE</td><td>TRUE</td></tr>\n",
       "\t<tr><td>TRUE</td><td>TRUE</td><td>TRUE</td></tr>\n",
       "</tbody>\n",
       "</table>\n"
      ],
      "text/latex": [
       "\\begin{tabular}{lll}\n",
       " bin & enroll\\_child & z\\\\\n",
       "\\hline\n",
       "\t TRUE & TRUE & TRUE\\\\\n",
       "\t TRUE & TRUE & TRUE\\\\\n",
       "\t TRUE & TRUE & TRUE\\\\\n",
       "\t TRUE & TRUE & TRUE\\\\\n",
       "\t TRUE & TRUE & TRUE\\\\\n",
       "\t TRUE & TRUE & TRUE\\\\\n",
       "\t TRUE & TRUE & TRUE\\\\\n",
       "\t TRUE & TRUE & TRUE\\\\\n",
       "\t TRUE & TRUE & TRUE\\\\\n",
       "\t TRUE & TRUE & TRUE\\\\\n",
       "\t TRUE & TRUE & TRUE\\\\\n",
       "\t TRUE & TRUE & TRUE\\\\\n",
       "\t TRUE & TRUE & TRUE\\\\\n",
       "\t TRUE & TRUE & TRUE\\\\\n",
       "\t TRUE & TRUE & TRUE\\\\\n",
       "\t TRUE & TRUE & TRUE\\\\\n",
       "\t TRUE & TRUE & TRUE\\\\\n",
       "\t TRUE & TRUE & TRUE\\\\\n",
       "\t TRUE & TRUE & TRUE\\\\\n",
       "\t TRUE & TRUE & TRUE\\\\\n",
       "\t TRUE & TRUE & TRUE\\\\\n",
       "\t TRUE & TRUE & TRUE\\\\\n",
       "\t TRUE & TRUE & TRUE\\\\\n",
       "\t TRUE & TRUE & TRUE\\\\\n",
       "\t TRUE & TRUE & TRUE\\\\\n",
       "\t TRUE & TRUE & TRUE\\\\\n",
       "\t TRUE & TRUE & TRUE\\\\\n",
       "\t TRUE & TRUE & TRUE\\\\\n",
       "\t TRUE & TRUE & TRUE\\\\\n",
       "\t TRUE & TRUE & TRUE\\\\\n",
       "\t TRUE & TRUE & TRUE\\\\\n",
       "\t TRUE & TRUE & TRUE\\\\\n",
       "\t TRUE & TRUE & TRUE\\\\\n",
       "\t TRUE & TRUE & TRUE\\\\\n",
       "\t TRUE & TRUE & TRUE\\\\\n",
       "\t TRUE & TRUE & TRUE\\\\\n",
       "\t TRUE & TRUE & TRUE\\\\\n",
       "\t TRUE & TRUE & TRUE\\\\\n",
       "\t TRUE & TRUE & TRUE\\\\\n",
       "\t TRUE & TRUE & TRUE\\\\\n",
       "\\end{tabular}\n"
      ],
      "text/markdown": [
       "\n",
       "bin | enroll_child | z | \n",
       "|---|---|---|---|---|---|---|---|---|---|---|---|---|---|---|---|---|---|---|---|---|---|---|---|---|---|---|---|---|---|---|---|---|---|---|---|---|---|---|---|\n",
       "| TRUE | TRUE | TRUE | \n",
       "| TRUE | TRUE | TRUE | \n",
       "| TRUE | TRUE | TRUE | \n",
       "| TRUE | TRUE | TRUE | \n",
       "| TRUE | TRUE | TRUE | \n",
       "| TRUE | TRUE | TRUE | \n",
       "| TRUE | TRUE | TRUE | \n",
       "| TRUE | TRUE | TRUE | \n",
       "| TRUE | TRUE | TRUE | \n",
       "| TRUE | TRUE | TRUE | \n",
       "| TRUE | TRUE | TRUE | \n",
       "| TRUE | TRUE | TRUE | \n",
       "| TRUE | TRUE | TRUE | \n",
       "| TRUE | TRUE | TRUE | \n",
       "| TRUE | TRUE | TRUE | \n",
       "| TRUE | TRUE | TRUE | \n",
       "| TRUE | TRUE | TRUE | \n",
       "| TRUE | TRUE | TRUE | \n",
       "| TRUE | TRUE | TRUE | \n",
       "| TRUE | TRUE | TRUE | \n",
       "| TRUE | TRUE | TRUE | \n",
       "| TRUE | TRUE | TRUE | \n",
       "| TRUE | TRUE | TRUE | \n",
       "| TRUE | TRUE | TRUE | \n",
       "| TRUE | TRUE | TRUE | \n",
       "| TRUE | TRUE | TRUE | \n",
       "| TRUE | TRUE | TRUE | \n",
       "| TRUE | TRUE | TRUE | \n",
       "| TRUE | TRUE | TRUE | \n",
       "| TRUE | TRUE | TRUE | \n",
       "| TRUE | TRUE | TRUE | \n",
       "| TRUE | TRUE | TRUE | \n",
       "| TRUE | TRUE | TRUE | \n",
       "| TRUE | TRUE | TRUE | \n",
       "| TRUE | TRUE | TRUE | \n",
       "| TRUE | TRUE | TRUE | \n",
       "| TRUE | TRUE | TRUE | \n",
       "| TRUE | TRUE | TRUE | \n",
       "| TRUE | TRUE | TRUE | \n",
       "| TRUE | TRUE | TRUE | \n",
       "\n",
       "\n"
      ],
      "text/plain": [
       "      bin  enroll_child z   \n",
       " [1,] TRUE TRUE         TRUE\n",
       " [2,] TRUE TRUE         TRUE\n",
       " [3,] TRUE TRUE         TRUE\n",
       " [4,] TRUE TRUE         TRUE\n",
       " [5,] TRUE TRUE         TRUE\n",
       " [6,] TRUE TRUE         TRUE\n",
       " [7,] TRUE TRUE         TRUE\n",
       " [8,] TRUE TRUE         TRUE\n",
       " [9,] TRUE TRUE         TRUE\n",
       "[10,] TRUE TRUE         TRUE\n",
       "[11,] TRUE TRUE         TRUE\n",
       "[12,] TRUE TRUE         TRUE\n",
       "[13,] TRUE TRUE         TRUE\n",
       "[14,] TRUE TRUE         TRUE\n",
       "[15,] TRUE TRUE         TRUE\n",
       "[16,] TRUE TRUE         TRUE\n",
       "[17,] TRUE TRUE         TRUE\n",
       "[18,] TRUE TRUE         TRUE\n",
       "[19,] TRUE TRUE         TRUE\n",
       "[20,] TRUE TRUE         TRUE\n",
       "[21,] TRUE TRUE         TRUE\n",
       "[22,] TRUE TRUE         TRUE\n",
       "[23,] TRUE TRUE         TRUE\n",
       "[24,] TRUE TRUE         TRUE\n",
       "[25,] TRUE TRUE         TRUE\n",
       "[26,] TRUE TRUE         TRUE\n",
       "[27,] TRUE TRUE         TRUE\n",
       "[28,] TRUE TRUE         TRUE\n",
       "[29,] TRUE TRUE         TRUE\n",
       "[30,] TRUE TRUE         TRUE\n",
       "[31,] TRUE TRUE         TRUE\n",
       "[32,] TRUE TRUE         TRUE\n",
       "[33,] TRUE TRUE         TRUE\n",
       "[34,] TRUE TRUE         TRUE\n",
       "[35,] TRUE TRUE         TRUE\n",
       "[36,] TRUE TRUE         TRUE\n",
       "[37,] TRUE TRUE         TRUE\n",
       "[38,] TRUE TRUE         TRUE\n",
       "[39,] TRUE TRUE         TRUE\n",
       "[40,] TRUE TRUE         TRUE"
      ]
     },
     "metadata": {},
     "output_type": "display_data"
    }
   ],
   "source": [
    "group_by(sampleRD2, bin) %>%\n",
    "             summarise(enroll_child = mean(enroll_child, na.rm = T),\n",
    "                       z = mean(z, na.rm = T)) %>% ungroup  == aggdata[, c(2,4,3)]"
   ]
  },
  {
   "cell_type": "code",
   "execution_count": 8,
   "metadata": {},
   "outputs": [
    {
     "data": {
      "text/html": [
       "<table>\n",
       "<thead><tr><th scope=col>Group.1</th><th scope=col>bin</th><th scope=col>z</th><th scope=col>enroll_child</th><th scope=col>below</th><th scope=col>above</th></tr></thead>\n",
       "<tbody>\n",
       "\t<tr><td>-200     </td><td>-200     </td><td>-194.5403</td><td>0.5161290</td><td>0.5161290</td><td>NA       </td></tr>\n",
       "\t<tr><td>-190     </td><td>-190     </td><td>-184.5225</td><td>0.4909091</td><td>0.4909091</td><td>NA       </td></tr>\n",
       "\t<tr><td>-180     </td><td>-180     </td><td>-174.8760</td><td>0.6097561</td><td>0.6097561</td><td>NA       </td></tr>\n",
       "\t<tr><td>-170     </td><td>-170     </td><td>-164.7195</td><td>0.6250000</td><td>0.6250000</td><td>NA       </td></tr>\n",
       "\t<tr><td>-160     </td><td>-160     </td><td>-154.6850</td><td>0.5246914</td><td>0.5246914</td><td>NA       </td></tr>\n",
       "\t<tr><td>-150     </td><td>-150     </td><td>-144.7818</td><td>0.5114943</td><td>0.5114943</td><td>NA       </td></tr>\n",
       "</tbody>\n",
       "</table>\n"
      ],
      "text/latex": [
       "\\begin{tabular}{r|llllll}\n",
       " Group.1 & bin & z & enroll\\_child & below & above\\\\\n",
       "\\hline\n",
       "\t -200      & -200      & -194.5403 & 0.5161290 & 0.5161290 & NA       \\\\\n",
       "\t -190      & -190      & -184.5225 & 0.4909091 & 0.4909091 & NA       \\\\\n",
       "\t -180      & -180      & -174.8760 & 0.6097561 & 0.6097561 & NA       \\\\\n",
       "\t -170      & -170      & -164.7195 & 0.6250000 & 0.6250000 & NA       \\\\\n",
       "\t -160      & -160      & -154.6850 & 0.5246914 & 0.5246914 & NA       \\\\\n",
       "\t -150      & -150      & -144.7818 & 0.5114943 & 0.5114943 & NA       \\\\\n",
       "\\end{tabular}\n"
      ],
      "text/markdown": [
       "\n",
       "Group.1 | bin | z | enroll_child | below | above | \n",
       "|---|---|---|---|---|---|\n",
       "| -200      | -200      | -194.5403 | 0.5161290 | 0.5161290 | NA        | \n",
       "| -190      | -190      | -184.5225 | 0.4909091 | 0.4909091 | NA        | \n",
       "| -180      | -180      | -174.8760 | 0.6097561 | 0.6097561 | NA        | \n",
       "| -170      | -170      | -164.7195 | 0.6250000 | 0.6250000 | NA        | \n",
       "| -160      | -160      | -154.6850 | 0.5246914 | 0.5246914 | NA        | \n",
       "| -150      | -150      | -144.7818 | 0.5114943 | 0.5114943 | NA        | \n",
       "\n",
       "\n"
      ],
      "text/plain": [
       "  Group.1 bin  z         enroll_child below     above\n",
       "1 -200    -200 -194.5403 0.5161290    0.5161290 NA   \n",
       "2 -190    -190 -184.5225 0.4909091    0.4909091 NA   \n",
       "3 -180    -180 -174.8760 0.6097561    0.6097561 NA   \n",
       "4 -170    -170 -164.7195 0.6250000    0.6250000 NA   \n",
       "5 -160    -160 -154.6850 0.5246914    0.5246914 NA   \n",
       "6 -150    -150 -144.7818 0.5114943    0.5114943 NA   "
      ]
     },
     "metadata": {},
     "output_type": "display_data"
    }
   ],
   "source": [
    "head(aggdata)"
   ]
  },
  {
   "cell_type": "markdown",
   "metadata": {},
   "source": [
    "## 3- Regression for a Sharp RD\n",
    "If we assume that everyone below the cutoff received treatment and everyone above did not receive treatment, we can run a regression using an indicator for \"below the cutoff\" as the independent variable, that estimates the treatment effect on the dependent variable.  We also control for the forcing variable (X, the poverty index) and should try doing this linearly and with other functional forms (e.g. quadratic)  Again, we want to make sure we limit the data to be relatively close to the cutoff (we've already limited to +-200).  "
   ]
  },
  {
   "cell_type": "code",
   "execution_count": 12,
   "metadata": {},
   "outputs": [
    {
     "data": {
      "text/html": [
       "<table>\n",
       "<thead><tr><th></th><th scope=col>z</th><th scope=col>pov_HH</th></tr></thead>\n",
       "<tbody>\n",
       "\t<tr><th scope=row>722</th><td>-200</td><td>1   </td></tr>\n",
       "\t<tr><th scope=row>1483</th><td>-200</td><td>1   </td></tr>\n",
       "</tbody>\n",
       "</table>\n"
      ],
      "text/latex": [
       "\\begin{tabular}{r|ll}\n",
       "  & z & pov\\_HH\\\\\n",
       "\\hline\n",
       "\t722 & -200 & 1   \\\\\n",
       "\t1483 & -200 & 1   \\\\\n",
       "\\end{tabular}\n"
      ],
      "text/markdown": [
       "\n",
       "| <!--/--> | z | pov_HH | \n",
       "|---|---|\n",
       "| 722 | -200 | 1    | \n",
       "| 1483 | -200 | 1    | \n",
       "\n",
       "\n"
      ],
      "text/plain": [
       "     z    pov_HH\n",
       "722  -200 1     \n",
       "1483 -200 1     "
      ]
     },
     "metadata": {},
     "output_type": "display_data"
    },
    {
     "data": {
      "text/html": [
       "<table>\n",
       "<thead><tr><th></th><th scope=col>z</th><th scope=col>pov_HH</th></tr></thead>\n",
       "<tbody>\n",
       "\t<tr><th scope=row>435</th><td>0</td><td>1</td></tr>\n",
       "\t<tr><th scope=row>1479</th><td>0</td><td>1</td></tr>\n",
       "</tbody>\n",
       "</table>\n"
      ],
      "text/latex": [
       "\\begin{tabular}{r|ll}\n",
       "  & z & pov\\_HH\\\\\n",
       "\\hline\n",
       "\t435 & 0 & 1\\\\\n",
       "\t1479 & 0 & 1\\\\\n",
       "\\end{tabular}\n"
      ],
      "text/markdown": [
       "\n",
       "| <!--/--> | z | pov_HH | \n",
       "|---|---|\n",
       "| 435 | 0 | 1 | \n",
       "| 1479 | 0 | 1 | \n",
       "\n",
       "\n"
      ],
      "text/plain": [
       "     z pov_HH\n",
       "435  0 1     \n",
       "1479 0 1     "
      ]
     },
     "metadata": {},
     "output_type": "display_data"
    },
    {
     "data": {
      "text/plain": [
       "       z               pov_HH      \n",
       " Min.   :-200.00   Min.   :0.0000  \n",
       " 1st Qu.:-109.00   1st Qu.:0.0000  \n",
       " Median : -41.50   Median :1.0000  \n",
       " Mean   : -35.31   Mean   :0.6403  \n",
       " 3rd Qu.:  30.77   3rd Qu.:1.0000  \n",
       " Max.   : 200.00   Max.   :1.0000  "
      ]
     },
     "metadata": {},
     "output_type": "display_data"
    }
   ],
   "source": [
    "head(sampleRD[, c(\"z\", \"pov_HH\")], 2)\n",
    "head(sampleRD[sampleRD$z == 0, c(\"z\", \"pov_HH\")], 2)\n",
    "summary(sampleRD[, c(\"z\", \"pov_HH\")])"
   ]
  },
  {
   "cell_type": "code",
   "execution_count": 10,
   "metadata": {},
   "outputs": [
    {
     "name": "stdout",
     "output_type": "stream",
     "text": [
      "R^2 = 0.00119 \n",
      "\n",
      "                 Estimate   Std. Error    t value      Pr(>|t|)\n",
      "(Intercept)  4.943732e-01 0.0195547719 25.2814633 5.108385e-141\n",
      "pov_HH       2.953866e-02 0.0281280015  1.0501512  2.936486e-01\n",
      "z           -3.816885e-05 0.0001534685 -0.2487079  8.035867e-01\n",
      "R^2 = 0.00178 \n",
      "\n",
      "                Estimate   Std. Error    t value      Pr(>|t|)\n",
      "(Intercept) 4.789523e-01 2.252099e-02 21.2669323 2.298280e-100\n",
      "pov_HH      3.885764e-02 2.869374e-02  1.3542201  1.756662e-01\n",
      "z           5.639947e-05 1.648254e-04  0.3421771  7.322176e-01\n",
      "z2          1.285038e-06 8.800953e-07  1.4601123  1.442592e-01\n"
     ]
    }
   ],
   "source": [
    "    #Cluster at the village level and inlude a linear control for z\n",
    "　# lm.cluster(data = sampleRD, formula= enroll_child ~ z, cluster=sampleRD$villid)\n",
    "    #pov_HH=1 is the indicator for being below the cutoff\n",
    "    model <- lm.cluster(data = sampleRD, formula= enroll_child ~ pov_HH+z, cluster=sampleRD$villid)\n",
    "    summary(model)\n",
    "    #next, try a quadratic control for z\n",
    "    sampleRD$z2<-sampleRD$z^2\n",
    "    model2 <- lm.cluster(data = sampleRD, formula= enroll_child ~ pov_HH+z+z2, cluster=sampleRD$villid)\n",
    "    summary(model2)"
   ]
  },
  {
   "cell_type": "markdown",
   "metadata": {},
   "source": [
    "## Problem Set Question 7.1\n",
    "(a) Repeat what we've done above (Graph and Sharp RD regressions) for at least two separate versions, varying the choice for the values of Z we include in the sample (band size-- something other than +-200) in one version, and the bin size in another (something other than 10).  Interpret the results of the graphs and regression.  What effect do the selected bin and band size have on the results?  \n",
    "(b) In the above analysis, we compare household within treatment villages.  Describe at least one reason we might be concerned that a comparison of households below and above the cutoff to identify the treatment effect of PROGRESA might lead to a biased result."
   ]
  }
 ],
 "metadata": {
  "kernelspec": {
   "display_name": "R",
   "language": "R",
   "name": "ir"
  },
  "language_info": {
   "codemirror_mode": "r",
   "file_extension": ".r",
   "mimetype": "text/x-r-source",
   "name": "R",
   "pygments_lexer": "r",
   "version": "3.4.3"
  }
 },
 "nbformat": 4,
 "nbformat_minor": 2
}
