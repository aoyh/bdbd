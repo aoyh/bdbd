{
 "cells": [
  {
   "cell_type": "markdown",
   "metadata": {},
   "source": [
    "# Lab 1 \n",
    "1/17/2018"
   ]
  },
  {
   "cell_type": "markdown",
   "metadata": {},
   "source": [
    "## 1-Basics\n",
    " Use the # symbol to add comments to the script"
   ]
  },
  {
   "cell_type": "code",
   "execution_count": null,
   "metadata": {
    "scrolled": true
   },
   "outputs": [],
   "source": [
    "  # Clear the workspace\n",
    "  rm(list = ls())\n",
    "\n",
    "  # Clear the console\n",
    "  cat('\\014')\n",
    "  \n",
    "  # The help function\n",
    "  ?setwd\n",
    "  help(setwd)"
   ]
  },
  {
   "cell_type": "markdown",
   "metadata": {},
   "source": [
    "User written open-source packages are needed for specific functionality in R (e.g. nice graphics).  However, we need to manually install these packages (once) and load them at the beginning of every script.  Packages have been pre-loaded in Jupyter notebooks."
   ]
  },
  {
   "cell_type": "code",
   "execution_count": null,
   "metadata": {
    "scrolled": true
   },
   "outputs": [],
   "source": [
    "  #Install packages\n",
    "  #install.packages('ggplot2')\n",
    "  \n",
    "  # Load required packages\n",
    "  library(ggplot2)"
   ]
  },
  {
   "cell_type": "markdown",
   "metadata": {},
   "source": [
    "In order to read our data into R, it can be helpful to set a working directory to indicate the location of the data."
   ]
  },
  {
   "cell_type": "code",
   "execution_count": null,
   "metadata": {
    "scrolled": true
   },
   "outputs": [],
   "source": [
    "# Set working directory \n",
    "  getwd()\n",
    "  setwd(\"/home/jovyan/mba217-2/Data\")\n",
    "# Reading data into R from a CSV file\n",
    "#  ?read.table # delete the # at the beginning of this line to view the help entry for the \"read\" command\n",
    "  MyFirstData <- read.csv('MyFirstData.csv', header = TRUE)"
   ]
  },
  {
   "cell_type": "markdown",
   "metadata": {},
   "source": [
    "Once it's read in, we can use several commands to describe the data"
   ]
  },
  {
   "cell_type": "code",
   "execution_count": null,
   "metadata": {
    "scrolled": true
   },
   "outputs": [],
   "source": [
    "# Structure of the Data\n",
    "  str(MyFirstData)\n",
    "  \n",
    "  # Summary of the Data\n",
    "  summary(MyFirstData)\n",
    "  \n",
    "  # Variable Names\n",
    "  colnames(MyFirstData)\n",
    "  \n",
    "  #Number of Observations\n",
    "  nrow(MyFirstData)"
   ]
  },
  {
   "cell_type": "markdown",
   "metadata": {},
   "source": [
    "## 2-DATA PROCESSING\n",
    "In addition to loading in a dataset as described above, we can also create our own data in R.  "
   ]
  },
  {
   "cell_type": "code",
   "execution_count": null,
   "metadata": {
    "scrolled": true
   },
   "outputs": [],
   "source": [
    " # Using the : operator\n",
    "  1:30\n",
    "  \n",
    "  # Assign to a vector\n",
    "  x <- 1:30\n",
    "  x\n",
    "  \n",
    "  # using the seq function\n",
    "  x_seq <- seq(1, 5, 0.5)\n",
    "  x_seq\n",
    "  \n",
    "  # using the c function\n",
    "  x_vector <- c(1, 1.5, 2, 2.5, 3, 3.5, 4, 4.5, 5)\n",
    "  x_vector"
   ]
  },
  {
   "cell_type": "code",
   "execution_count": null,
   "metadata": {
    "scrolled": true
   },
   "outputs": [],
   "source": [
    " # creating identical elements using rep\n",
    "  rep(1, 30)\n",
    "  x_rep<-rep(1, 30)\n",
    "  \n",
    "  # Generating factor levels using gl\n",
    "  gl(3, 5)\n",
    "  gl(3, 5, length=30)\n",
    "  gl(2, 6, label=c(\"Male\", \"Female\"))"
   ]
  },
  {
   "cell_type": "markdown",
   "metadata": {},
   "source": [
    "Sometimes, we want to generate numbers randomly from a particular distribution.  See the lab readings for more examples.  "
   ]
  },
  {
   "cell_type": "code",
   "execution_count": null,
   "metadata": {
    "scrolled": true
   },
   "outputs": [],
   "source": [
    " #Generating random numbers from a standard normal distribution\n",
    "  rnorm(15, mean=0, sd=1)"
   ]
  },
  {
   "cell_type": "markdown",
   "metadata": {},
   "source": [
    "The objects generated above are vectors.  They have two arguments: mode and length. Elements have a value depending on the mode specified as argument, e.g. 0 if numeric, FALSE if logical.\n",
    "\n",
    "Factors are another type of object.  These include not only the values of the corresponding categorical variable, but also the different possible levels of that variable.\n",
    "\n",
    "Dataframes are yet another type of object.  In addition to loading dataframes from a file (as shown above with read.csv), we can also create them directly. "
   ]
  },
  {
   "cell_type": "code",
   "execution_count": null,
   "metadata": {
    "scrolled": true
   },
   "outputs": [],
   "source": [
    "  #Factors\n",
    "  factor(1:3)\n",
    "  factor(1:3, levels=1:5) \n",
    "  factor(1:3, labels=c(\"A\", \"B\", \"C\"))\n",
    "  factor(1:5, exclude=4) \n",
    "\n",
    "\n",
    "  # Data Frames\n",
    "  x <- 1:4; n <- 10; M <- c(10, 35); y <- 2:4\n",
    "  data.frame(x, n) \n",
    "  cats<-data.frame(x,   M)\n",
    "  data.frame(x,  y) # this should throw an error\n"
   ]
  },
  {
   "cell_type": "markdown",
   "metadata": {},
   "source": [
    "# 3-ACCESSING DATA"
   ]
  },
  {
   "cell_type": "code",
   "execution_count": null,
   "metadata": {
    "scrolled": true
   },
   "outputs": [],
   "source": [
    "# Simple, one element\n",
    "  x <- 1:5\n",
    "  x[3]\n",
    "# Making changes to an element using index\n",
    "  x[3] <- 20\n",
    "  x\n",
    "# Vector indices to access more than one element\n",
    "  i <- c(1, 3)\n",
    "  x[i]\n",
    "  "
   ]
  },
  {
   "cell_type": "markdown",
   "metadata": {},
   "source": [
    "Now, we want to create a poor_male variable, which will be defined as 1 if the household is categorized as poor (pov_HH == 1) and the head of the household is male (sexhead is Male), and 0 otherwise"
   ]
  },
  {
   "cell_type": "code",
   "execution_count": null,
   "metadata": {
    "scrolled": true
   },
   "outputs": [],
   "source": [
    "  MyFirstData$poor_male <- ifelse(MyFirstData$pov_HH == 'pobre' & MyFirstData$sexhead == 'Male', 1, 0)\n",
    "  \n",
    "  #tabulate the observations\n",
    "  table(MyFirstData$poor_male)"
   ]
  },
  {
   "cell_type": "markdown",
   "metadata": {},
   "source": [
    "# 4-VISUALIZING DATA\n",
    "Make sure that the ggplot2 package is included at the top of the script.  Below, we show an example of a scatterplot using ggplot.  \"geom\" can be used to denote different types of graphs such as a line graph."
   ]
  },
  {
   "cell_type": "code",
   "execution_count": null,
   "metadata": {
    "scrolled": true
   },
   "outputs": [],
   "source": [
    "  ggplot(MyFirstData, aes(x = agehead, y=famsize)) + geom_point()\n",
    "  ?geom_line  "
   ]
  },
  {
   "cell_type": "markdown",
   "metadata": {},
   "source": [
    "We can use a direct function or ggplot to create a histogram.  Notice that changing the options in the function allows you to customize the graph.  Use the help function to learn more about the options for each command"
   ]
  },
  {
   "cell_type": "code",
   "execution_count": null,
   "metadata": {
    "scrolled": true
   },
   "outputs": [],
   "source": [
    "  # Base Graphics\n",
    "  ?hist\n",
    "  hist(MyFirstData$famsize)\n",
    "  hist(MyFirstData$famsize, col = \"blue\", main = \"Histogram of family size\")\n",
    "  # ggplot2\n",
    "  ggplot(MyFirstData, aes(x = famsize)) + geom_histogram(fill = \"blue\") + ggtitle(\"Histogram of family size\")\n",
    "  \n",
    "  "
   ]
  },
  {
   "cell_type": "markdown",
   "metadata": {},
   "source": [
    "Kernal density plots offer a smoother, fitted density plot-- an estimate of the population density as opposed to an exact description of the sample (as for histograms).\n"
   ]
  },
  {
   "cell_type": "code",
   "execution_count": null,
   "metadata": {
    "scrolled": true
   },
   "outputs": [],
   "source": [
    "  # Base Graphics\n",
    "  plot(density(MyFirstData$IncomeLab, na.rm = TRUE), main=\"Density of Income\", xlab=\"Income\")\n",
    "  # ggplot2\n",
    "  ggplot(MyFirstData, aes(x=IncomeLab)) + geom_density()\n",
    "  "
   ]
  }
 ],
 "metadata": {
  "kernelspec": {
   "display_name": "R",
   "language": "R",
   "name": "ir"
  },
  "language_info": {
   "codemirror_mode": "r",
   "file_extension": ".r",
   "mimetype": "text/x-r-source",
   "name": "R",
   "pygments_lexer": "r",
   "version": "3.3.2"
  }
 },
 "nbformat": 4,
 "nbformat_minor": 2
}
