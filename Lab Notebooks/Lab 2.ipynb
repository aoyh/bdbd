{
 "cells": [
  {
   "cell_type": "markdown",
   "metadata": {},
   "source": [
    "# Lab 2\n",
    "## Statistical Inference\n",
    "1/23/2018"
   ]
  },
  {
   "cell_type": "markdown",
   "metadata": {},
   "source": [
    "## 0-Preamble\n",
    "It's good practice to start each script with a standard set of commands."
   ]
  },
  {
   "cell_type": "code",
   "execution_count": 1,
   "metadata": {},
   "outputs": [
    {
     "name": "stdout",
     "output_type": "stream",
     "text": [
      "\f"
     ]
    },
    {
     "name": "stderr",
     "output_type": "stream",
     "text": [
      "\n",
      "Attaching package: ‘dplyr’\n",
      "\n",
      "The following objects are masked from ‘package:stats’:\n",
      "\n",
      "    filter, lag\n",
      "\n",
      "The following objects are masked from ‘package:base’:\n",
      "\n",
      "    intersect, setdiff, setequal, union\n",
      "\n",
      "\n",
      "Attaching package: ‘car’\n",
      "\n",
      "The following object is masked from ‘package:dplyr’:\n",
      "\n",
      "    recode\n",
      "\n",
      "Loading required package: zoo\n",
      "\n",
      "Attaching package: ‘zoo’\n",
      "\n",
      "The following objects are masked from ‘package:base’:\n",
      "\n",
      "    as.Date, as.Date.numeric\n",
      "\n"
     ]
    }
   ],
   "source": [
    "  # Clear Environment \n",
    "  rm(list = ls())\n",
    "  # Clear Console\n",
    "  cat('\\014')\n",
    "  \n",
    "  # Set working directory to the location of your data files/\n",
    "  setwd(\"/home/jovyan/mba217-2/Data\")\n",
    "  \n",
    "  \n",
    "  # A very useful R package for data transformation and manipulation\n",
    "  library(dplyr)\n",
    "  # Plotting system for R\n",
    "  library(ggplot2)\n",
    "  # For VIF\n",
    "  library(car)\n",
    "  # For the Breusch-Pagan test\n",
    "  library(lmtest)\n",
    "\n",
    "  # read file\n",
    "  EPH_2006 <- read.csv(\"EPH_2006.csv\")"
   ]
  },
  {
   "cell_type": "code",
   "execution_count": 3,
   "metadata": {},
   "outputs": [
    {
     "data": {
      "text/html": [
       "<table>\n",
       "<thead><tr><th scope=col>id</th><th scope=col>age</th><th scope=col>male</th><th scope=col>eduyears</th><th scope=col>employed</th><th scope=col>income</th></tr></thead>\n",
       "<tbody>\n",
       "\t<tr><td>1   </td><td>55  </td><td>0   </td><td>14.0</td><td>1   </td><td>1000</td></tr>\n",
       "\t<tr><td>1   </td><td>26  </td><td>0   </td><td>14.0</td><td>1   </td><td>1200</td></tr>\n",
       "\t<tr><td>2   </td><td>34  </td><td>1   </td><td>12.5</td><td>1   </td><td>  NA</td></tr>\n",
       "\t<tr><td>2   </td><td>37  </td><td>0   </td><td>17.0</td><td>1   </td><td>  NA</td></tr>\n",
       "\t<tr><td>3   </td><td>24  </td><td>0   </td><td>12.5</td><td>1   </td><td> 150</td></tr>\n",
       "\t<tr><td>4   </td><td>47  </td><td>0   </td><td>12.5</td><td>1   </td><td> 300</td></tr>\n",
       "</tbody>\n",
       "</table>\n"
      ],
      "text/latex": [
       "\\begin{tabular}{r|llllll}\n",
       " id & age & male & eduyears & employed & income\\\\\n",
       "\\hline\n",
       "\t 1    & 55   & 0    & 14.0 & 1    & 1000\\\\\n",
       "\t 1    & 26   & 0    & 14.0 & 1    & 1200\\\\\n",
       "\t 2    & 34   & 1    & 12.5 & 1    &   NA\\\\\n",
       "\t 2    & 37   & 0    & 17.0 & 1    &   NA\\\\\n",
       "\t 3    & 24   & 0    & 12.5 & 1    &  150\\\\\n",
       "\t 4    & 47   & 0    & 12.5 & 1    &  300\\\\\n",
       "\\end{tabular}\n"
      ],
      "text/markdown": [
       "\n",
       "id | age | male | eduyears | employed | income | \n",
       "|---|---|---|---|---|---|\n",
       "| 1    | 55   | 0    | 14.0 | 1    | 1000 | \n",
       "| 1    | 26   | 0    | 14.0 | 1    | 1200 | \n",
       "| 2    | 34   | 1    | 12.5 | 1    |   NA | \n",
       "| 2    | 37   | 0    | 17.0 | 1    |   NA | \n",
       "| 3    | 24   | 0    | 12.5 | 1    |  150 | \n",
       "| 4    | 47   | 0    | 12.5 | 1    |  300 | \n",
       "\n",
       "\n"
      ],
      "text/plain": [
       "  id age male eduyears employed income\n",
       "1 1  55  0    14.0     1        1000  \n",
       "2 1  26  0    14.0     1        1200  \n",
       "3 2  34  1    12.5     1          NA  \n",
       "4 2  37  0    17.0     1          NA  \n",
       "5 3  24  0    12.5     1         150  \n",
       "6 4  47  0    12.5     1         300  "
      ]
     },
     "metadata": {},
     "output_type": "display_data"
    }
   ],
   "source": [
    "head(EPH_2006)"
   ]
  },
  {
   "cell_type": "markdown",
   "metadata": {},
   "source": [
    "## 1-Descriptive Statistics\n",
    "We'll use some commands from the previous lab to describe the data, and also some new ones."
   ]
  },
  {
   "cell_type": "code",
   "execution_count": 4,
   "metadata": {},
   "outputs": [
    {
     "data": {
      "text/plain": [
       "       id             age             male           eduyears        employed\n",
       " Min.   :    1   Min.   :12.00   Min.   :0.0000   Min.   : 3.50   Min.   :1  \n",
       " 1st Qu.: 9358   1st Qu.:28.00   1st Qu.:0.0000   1st Qu.: 7.00   1st Qu.:1  \n",
       " Median :18635   Median :38.00   Median :1.0000   Median :12.50   Median :1  \n",
       " Mean   :18657   Mean   :39.47   Mean   :0.5842   Mean   :11.24   Mean   :1  \n",
       " 3rd Qu.:27933   3rd Qu.:49.00   3rd Qu.:1.0000   3rd Qu.:14.00   3rd Qu.:1  \n",
       " Max.   :37521   Max.   :98.00   Max.   :1.0000   Max.   :17.00   Max.   :1  \n",
       "                                                                             \n",
       "     income     \n",
       " Min.   :    3  \n",
       " 1st Qu.:  440  \n",
       " Median :  800  \n",
       " Mean   : 1117  \n",
       " 3rd Qu.: 1400  \n",
       " Max.   :51370  \n",
       " NA's   :5623   "
      ]
     },
     "metadata": {},
     "output_type": "display_data"
    },
    {
     "name": "stdout",
     "output_type": "stream",
     "text": [
      "'data.frame':\t49663 obs. of  6 variables:\n",
      " $ id      : int  1 1 2 2 3 4 4 4 5 5 ...\n",
      " $ age     : int  55 26 34 37 24 47 21 29 47 22 ...\n",
      " $ male    : int  0 0 1 0 0 0 1 1 0 1 ...\n",
      " $ eduyears: num  14 14 12.5 17 12.5 12.5 17 17 17 17 ...\n",
      " $ employed: int  1 1 1 1 1 1 1 1 1 1 ...\n",
      " $ income  : int  1000 1200 NA NA 150 300 930 930 590 900 ...\n"
     ]
    },
    {
     "data": {
      "text/html": [
       "<table>\n",
       "<thead><tr><th scope=col>eduyears</th><th scope=col>income</th></tr></thead>\n",
       "<tbody>\n",
       "\t<tr><td> 3.5     </td><td> 602.9220</td></tr>\n",
       "\t<tr><td> 7.0     </td><td> 792.4077</td></tr>\n",
       "\t<tr><td> 9.5     </td><td> 888.3266</td></tr>\n",
       "\t<tr><td>12.5     </td><td>1142.2766</td></tr>\n",
       "\t<tr><td>14.0     </td><td>1210.7698</td></tr>\n",
       "\t<tr><td>17.0     </td><td>1872.6635</td></tr>\n",
       "</tbody>\n",
       "</table>\n"
      ],
      "text/latex": [
       "\\begin{tabular}{r|ll}\n",
       " eduyears & income\\\\\n",
       "\\hline\n",
       "\t  3.5      &  602.9220\\\\\n",
       "\t  7.0      &  792.4077\\\\\n",
       "\t  9.5      &  888.3266\\\\\n",
       "\t 12.5      & 1142.2766\\\\\n",
       "\t 14.0      & 1210.7698\\\\\n",
       "\t 17.0      & 1872.6635\\\\\n",
       "\\end{tabular}\n"
      ],
      "text/markdown": [
       "\n",
       "eduyears | income | \n",
       "|---|---|---|---|---|---|\n",
       "|  3.5      |  602.9220 | \n",
       "|  7.0      |  792.4077 | \n",
       "|  9.5      |  888.3266 | \n",
       "| 12.5      | 1142.2766 | \n",
       "| 14.0      | 1210.7698 | \n",
       "| 17.0      | 1872.6635 | \n",
       "\n",
       "\n"
      ],
      "text/plain": [
       "  eduyears income   \n",
       "1  3.5      602.9220\n",
       "2  7.0      792.4077\n",
       "3  9.5      888.3266\n",
       "4 12.5     1142.2766\n",
       "5 14.0     1210.7698\n",
       "6 17.0     1872.6635"
      ]
     },
     "metadata": {},
     "output_type": "display_data"
    },
    {
     "data": {
      "text/html": [
       "<table>\n",
       "<thead><tr><th scope=col>eduyears</th><th scope=col>income</th></tr></thead>\n",
       "<tbody>\n",
       "\t<tr><td> 3.5 </td><td> 3039</td></tr>\n",
       "\t<tr><td> 7.0 </td><td> 9503</td></tr>\n",
       "\t<tr><td> 9.5 </td><td> 8231</td></tr>\n",
       "\t<tr><td>12.5 </td><td>10055</td></tr>\n",
       "\t<tr><td>14.0 </td><td> 5629</td></tr>\n",
       "\t<tr><td>17.0 </td><td> 7583</td></tr>\n",
       "</tbody>\n",
       "</table>\n"
      ],
      "text/latex": [
       "\\begin{tabular}{r|ll}\n",
       " eduyears & income\\\\\n",
       "\\hline\n",
       "\t  3.5  &  3039\\\\\n",
       "\t  7.0  &  9503\\\\\n",
       "\t  9.5  &  8231\\\\\n",
       "\t 12.5  & 10055\\\\\n",
       "\t 14.0  &  5629\\\\\n",
       "\t 17.0  &  7583\\\\\n",
       "\\end{tabular}\n"
      ],
      "text/markdown": [
       "\n",
       "eduyears | income | \n",
       "|---|---|---|---|---|---|\n",
       "|  3.5  |  3039 | \n",
       "|  7.0  |  9503 | \n",
       "|  9.5  |  8231 | \n",
       "| 12.5  | 10055 | \n",
       "| 14.0  |  5629 | \n",
       "| 17.0  |  7583 | \n",
       "\n",
       "\n"
      ],
      "text/plain": [
       "  eduyears income\n",
       "1  3.5      3039 \n",
       "2  7.0      9503 \n",
       "3  9.5      8231 \n",
       "4 12.5     10055 \n",
       "5 14.0      5629 \n",
       "6 17.0      7583 "
      ]
     },
     "metadata": {},
     "output_type": "display_data"
    },
    {
     "data": {
      "text/html": [
       "<table>\n",
       "<thead><tr><th scope=col>eduyears</th><th scope=col>income</th></tr></thead>\n",
       "<tbody>\n",
       "\t<tr><td> 3.5     </td><td>10.304175</td></tr>\n",
       "\t<tr><td> 7.0     </td><td> 8.550399</td></tr>\n",
       "\t<tr><td> 9.5     </td><td> 9.866757</td></tr>\n",
       "\t<tr><td>12.5     </td><td>11.295610</td></tr>\n",
       "\t<tr><td>14.0     </td><td>15.956054</td></tr>\n",
       "\t<tr><td>17.0     </td><td>19.154474</td></tr>\n",
       "</tbody>\n",
       "</table>\n"
      ],
      "text/latex": [
       "\\begin{tabular}{r|ll}\n",
       " eduyears & income\\\\\n",
       "\\hline\n",
       "\t  3.5      & 10.304175\\\\\n",
       "\t  7.0      &  8.550399\\\\\n",
       "\t  9.5      &  9.866757\\\\\n",
       "\t 12.5      & 11.295610\\\\\n",
       "\t 14.0      & 15.956054\\\\\n",
       "\t 17.0      & 19.154474\\\\\n",
       "\\end{tabular}\n"
      ],
      "text/markdown": [
       "\n",
       "eduyears | income | \n",
       "|---|---|---|---|---|---|\n",
       "|  3.5      | 10.304175 | \n",
       "|  7.0      |  8.550399 | \n",
       "|  9.5      |  9.866757 | \n",
       "| 12.5      | 11.295610 | \n",
       "| 14.0      | 15.956054 | \n",
       "| 17.0      | 19.154474 | \n",
       "\n",
       "\n"
      ],
      "text/plain": [
       "  eduyears income   \n",
       "1  3.5     10.304175\n",
       "2  7.0      8.550399\n",
       "3  9.5      9.866757\n",
       "4 12.5     11.295610\n",
       "5 14.0     15.956054\n",
       "6 17.0     19.154474"
      ]
     },
     "metadata": {},
     "output_type": "display_data"
    },
    {
     "data": {
      "text/html": [
       "<table>\n",
       "<thead><tr><th scope=col>eduyears</th><th scope=col>income</th></tr></thead>\n",
       "<tbody>\n",
       "\t<tr><td> 3.5</td><td> 6  </td></tr>\n",
       "\t<tr><td> 7.0</td><td>10  </td></tr>\n",
       "\t<tr><td> 9.5</td><td> 3  </td></tr>\n",
       "\t<tr><td>12.5</td><td>10  </td></tr>\n",
       "\t<tr><td>14.0</td><td>10  </td></tr>\n",
       "\t<tr><td>17.0</td><td>20  </td></tr>\n",
       "</tbody>\n",
       "</table>\n"
      ],
      "text/latex": [
       "\\begin{tabular}{r|ll}\n",
       " eduyears & income\\\\\n",
       "\\hline\n",
       "\t  3.5 &  6  \\\\\n",
       "\t  7.0 & 10  \\\\\n",
       "\t  9.5 &  3  \\\\\n",
       "\t 12.5 & 10  \\\\\n",
       "\t 14.0 & 10  \\\\\n",
       "\t 17.0 & 20  \\\\\n",
       "\\end{tabular}\n"
      ],
      "text/markdown": [
       "\n",
       "eduyears | income | \n",
       "|---|---|---|---|---|---|\n",
       "|  3.5 |  6   | \n",
       "|  7.0 | 10   | \n",
       "|  9.5 |  3   | \n",
       "| 12.5 | 10   | \n",
       "| 14.0 | 10   | \n",
       "| 17.0 | 20   | \n",
       "\n",
       "\n"
      ],
      "text/plain": [
       "  eduyears income\n",
       "1  3.5      6    \n",
       "2  7.0     10    \n",
       "3  9.5      3    \n",
       "4 12.5     10    \n",
       "5 14.0     10    \n",
       "6 17.0     20    "
      ]
     },
     "metadata": {},
     "output_type": "display_data"
    },
    {
     "data": {
      "text/html": [
       "<table>\n",
       "<thead><tr><th scope=col>eduyears</th><th scope=col>income</th></tr></thead>\n",
       "<tbody>\n",
       "\t<tr><td> 3.5 </td><td>11270</td></tr>\n",
       "\t<tr><td> 7.0 </td><td>37000</td></tr>\n",
       "\t<tr><td> 9.5 </td><td>22000</td></tr>\n",
       "\t<tr><td>12.5 </td><td>51370</td></tr>\n",
       "\t<tr><td>14.0 </td><td>30000</td></tr>\n",
       "\t<tr><td>17.0 </td><td>42700</td></tr>\n",
       "</tbody>\n",
       "</table>\n"
      ],
      "text/latex": [
       "\\begin{tabular}{r|ll}\n",
       " eduyears & income\\\\\n",
       "\\hline\n",
       "\t  3.5  & 11270\\\\\n",
       "\t  7.0  & 37000\\\\\n",
       "\t  9.5  & 22000\\\\\n",
       "\t 12.5  & 51370\\\\\n",
       "\t 14.0  & 30000\\\\\n",
       "\t 17.0  & 42700\\\\\n",
       "\\end{tabular}\n"
      ],
      "text/markdown": [
       "\n",
       "eduyears | income | \n",
       "|---|---|---|---|---|---|\n",
       "|  3.5  | 11270 | \n",
       "|  7.0  | 37000 | \n",
       "|  9.5  | 22000 | \n",
       "| 12.5  | 51370 | \n",
       "| 14.0  | 30000 | \n",
       "| 17.0  | 42700 | \n",
       "\n",
       "\n"
      ],
      "text/plain": [
       "  eduyears income\n",
       "1  3.5     11270 \n",
       "2  7.0     37000 \n",
       "3  9.5     22000 \n",
       "4 12.5     51370 \n",
       "5 14.0     30000 \n",
       "6 17.0     42700 "
      ]
     },
     "metadata": {},
     "output_type": "display_data"
    }
   ],
   "source": [
    "  # Descriptive statistics of the data - for every column\n",
    "  summary(EPH_2006)\n",
    "  # Compact display of the structure of the data\n",
    "  str(EPH_2006)\n",
    "  \n",
    "  # Descriptive statistics of Income by different categories of eduyears\n",
    "  # mean\n",
    "  aggregate(income ~ eduyears, data=EPH_2006, mean)\n",
    "  # count of rows \n",
    "  aggregate(income~eduyears, data=EPH_2006, length)\n",
    "  # Std error of mean = std. deviation/square root of n\n",
    "  aggregate(income~eduyears, data=EPH_2006, function(x)sd(x)/sqrt(length(x)))\n",
    "  # min\n",
    "  aggregate(income~eduyears, data=EPH_2006, min)\n",
    "  # max\n",
    "  aggregate(income~eduyears, data=EPH_2006, max)\n",
    "  "
   ]
  },
  {
   "cell_type": "markdown",
   "metadata": {},
   "source": [
    "You can also save conditional means as a variable in the dataset using the line of code below. The \"na.\" option indicates how missing values will be handled.  \"na.rm\" indicates that the mean will be calculated excluding missing values.  "
   ]
  },
  {
   "cell_type": "code",
   "execution_count": null,
   "metadata": {},
   "outputs": [],
   "source": [
    "# Save conditional mean as a variable\n",
    "  EPH_2006 <- EPH_2006 %>% group_by(eduyears) %>% mutate(meanincome = mean(income, na.rm = TRUE))\n",
    " \n",
    "  # rename meanincome to Conditional_Mean_Income\n",
    "  colnames(EPH_2006)[which(colnames(EPH_2006) == 'meanincome')] <- 'Conditional_Mean_Income'\n",
    "  \n",
    "  # Create a unique ID per group\n",
    "  EPH_2006$uniqrecord <- EPH_2006 %>% group_indices(EPH_2006$eduyears)\n",
    "  \n",
    " "
   ]
  },
  {
   "cell_type": "markdown",
   "metadata": {},
   "source": [
    "Now, let's generate some graphs to visualize the conditional means.  You'll use these plots to answer the following homework question: \n",
    "Exercise 2.1 From the regression output in Figure 4, state the relationship between income and  years of education – is it increasing or decreasing, and at what rate? Also assess whether this association is statistically significant. Comment on whether you would conclude that more  education causes increase in the income levels of individuals."
   ]
  },
  {
   "cell_type": "code",
   "execution_count": null,
   "metadata": {},
   "outputs": [],
   "source": [
    " #Plot the mean income per group\n",
    "  p <- EPH_2006 %>% ggplot(aes(uniqrecord, Conditional_Mean_Income)) \n",
    "  p + geom_point() +\n",
    "    xlab(\"Education (years)\") +\n",
    "    ylab(\"Mean Income\")\n",
    "  \n",
    "  # Plot income, mean income per group and fit a line to the mean income\n",
    "  p <- EPH_2006 %>% ggplot(aes(uniqrecord))\n",
    "  p + geom_point(aes(y=income, color=\"Income(pesos)\")) + \n",
    "    geom_point(aes(y=Conditional_Mean_Income, color=\"Mean Income\")) + \n",
    "    ylim(0,2000) +\n",
    "    geom_smooth(aes(y=Conditional_Mean_Income, color=\"Fitted Values\"), method='lm') +\n",
    "    xlab(\"Education (years)\") + ylab(\"Income\")"
   ]
  },
  {
   "cell_type": "markdown",
   "metadata": {},
   "source": [
    "# 2-Distributions & Central Limit Theorem\n",
    "You can also use ggplot to graph distributions with different parameters.  See today's lab readings for further detail"
   ]
  },
  {
   "cell_type": "code",
   "execution_count": null,
   "metadata": {},
   "outputs": [],
   "source": [
    "  # Normal Distribution\n",
    "  normal <- ggplot(data.frame(x = c(80, 120)), aes(x)) +\n",
    "    stat_function(fun = dnorm, args = list(mean = 100, sd = 10), colour = \"red\") + ylab(\"\") +\n",
    "    scale_y_continuous(breaks = NULL) + \n",
    "    ggtitle(\"Normal density with mean=100 and s.d=5\")\n",
    "  normal"
   ]
  },
  {
   "cell_type": "markdown",
   "metadata": {},
   "source": [
    "Here, we are going to demonstrate that taking multiple sample means from random samples of a uniformly distributed variable produces a normal distribution. The Central Limit Theorem (CLT) states that the sampling distribution of the sample mean is approximately normally distributed, regardless of the distribution of the underlying random sample.\n",
    "\n",
    "First we set the seed, so R produces random numbers in the same way so that results are replicable. It is always a good idea to set a seed."
   ]
  },
  {
   "cell_type": "code",
   "execution_count": null,
   "metadata": {},
   "outputs": [],
   "source": [
    "  set.seed(3254)\n",
    "  \n",
    "  dice_rolls_100 <- as.integer(runif(100, 1, 7))\n",
    "  summary(dice_rolls_100)\n",
    "  \n",
    "  dice_rolls_1000 <- as.integer(runif(1000, 1, 7))\n",
    "  summary(dice_rolls_1000)\n",
    "  \n",
    "  dice_rolls_50000 <- as.integer(runif(50000, 1, 7))\n",
    "  summary(dice_rolls_50000)\n",
    "  \n",
    "  # Probability distribution \n",
    "  hist(dice_rolls_50000, freq = FALSE, col = 'blue', main='Probability Distribution', xlab='Dice Value', ylab='Probability')\n",
    "  \n",
    "  # Central Limit Theorem\n",
    "  \n",
    "  # How to Sample from a vector\n",
    "  sample(dice_rolls_50000, 200)\n",
    "  mean(sample(dice_rolls_50000, 200))\n",
    "  \n",
    "  # For CLT, we have to do this 400 times and store it in a data frame\n",
    "  # doing this using replicate\n",
    "  sampleMeans <- as.data.frame(replicate(400, mean(sample(dice_rolls_50000, 200))))\n",
    "  colnames(sampleMeans) <- c('means')\n",
    "  ggplot(sampleMeans, aes(means)) + geom_histogram(breaks=seq(1,6,0.05), fill=\"orange\", color=\"blue\") +\n",
    "    xlim(1,6) \n"
   ]
  },
  {
   "cell_type": "markdown",
   "metadata": {},
   "source": [
    "# 3-Hypothesis Test\n",
    "The critical t-value for a distribution with degrees of freedom of (174 – 2 =) 172 for a two sided test at significance level of 5% can be displayed by the following R command:"
   ]
  },
  {
   "cell_type": "code",
   "execution_count": null,
   "metadata": {},
   "outputs": [],
   "source": [
    "  qt(0.95, 172)\n",
    "\n",
    "  # the t.test function asssumes unequal variances\n",
    "  t.test(EPH_2006$income ~ EPH_2006$male, var.equal = TRUE)\n"
   ]
  },
  {
   "cell_type": "markdown",
   "metadata": {},
   "source": [
    "Work on Exercises 2.1-2.3 before next lab! You should submit a Jupyter notebook file through Bcourses.  Due February 7th.\n",
    "\n"
   ]
  }
 ],
 "metadata": {
  "kernelspec": {
   "display_name": "R",
   "language": "R",
   "name": "ir"
  },
  "language_info": {
   "codemirror_mode": "r",
   "file_extension": ".r",
   "mimetype": "text/x-r-source",
   "name": "R",
   "pygments_lexer": "r",
   "version": "3.3.2"
  }
 },
 "nbformat": 4,
 "nbformat_minor": 2
}
