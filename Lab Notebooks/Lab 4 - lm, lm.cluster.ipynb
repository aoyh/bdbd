{
 "cells": [
  {
   "cell_type": "markdown",
   "metadata": {},
   "source": [
    "# Lab 4\n",
    "## Causal Inference and Randomized Assignment\n",
    "2/7/2018\n",
    "\n",
    "### Announcements:\n",
    "The next problem set is due at the start of lecture on February 21-- guidelines for submitting the previous problem set hold.  Exercises can be found in modules 4-5.  \n",
    "\n",
    "### Plan for Today's Lab\n",
    "1. More regression practice and lm() options (5-10 minutes)\n",
    "2. Clustering (5 minutes)\n",
    "3. Simple Randomization (If time-- 5 minutes)\n"
   ]
  },
  {
   "cell_type": "code",
   "execution_count": 1,
   "metadata": {},
   "outputs": [
    {
     "name": "stderr",
     "output_type": "stream",
     "text": [
      "\n",
      "Attaching package: ‘dplyr’\n",
      "\n",
      "The following objects are masked from ‘package:stats’:\n",
      "\n",
      "    filter, lag\n",
      "\n",
      "The following objects are masked from ‘package:base’:\n",
      "\n",
      "    intersect, setdiff, setequal, union\n",
      "\n",
      "Loading required package: mice\n",
      "Loading required package: lattice\n",
      "* miceadds 2.9-15 (2017-12-18 11:50:04)\n"
     ]
    },
    {
     "name": "stdout",
     "output_type": "stream",
     "text": [
      "'data.frame':\t71411 obs. of  12 variables:\n",
      " $ year        : int  1998 1998 1999 1998 1999 1998 1999 1998 1999 1998 ...\n",
      " $ villid      : int  13030105 13030024 13030024 13030024 13030024 13030105 13030105 13030105 13030105 13030006 ...\n",
      " $ geopolid    : int  13 13 13 13 13 13 13 13 13 13 ...\n",
      " $ hogid       : int  1 2 2 3 3 4 4 5 5 6 ...\n",
      " $ pov_HH      : Factor w/ 2 levels \"Non poor\",\"poor\": 2 1 1 1 1 2 2 2 2 1 ...\n",
      " $ D           : Factor w/ 2 levels \"Control\",\"Treated\": 2 1 1 1 1 2 2 2 2 2 ...\n",
      " $ D_HH        : int  NA 0 0 0 0 NA NA NA NA 0 ...\n",
      " $ IncomeLab_HH: num  NA 9000 1200 1200 900 ...\n",
      " $ famsize     : int  2 3 3 3 3 5 5 2 2 4 ...\n",
      " $ eduhead     : int  NA NA NA NA NA NA NA NA NA NA ...\n",
      " $ agehead     : int  70 27 29 55 55 26 27 NA 47 60 ...\n",
      " $ sexhead     : Factor w/ 2 levels \"Female\",\"Male\": 2 2 2 2 2 2 2 2 2 1 ...\n"
     ]
    }
   ],
   "source": [
    "# Clear Environment \n",
    "rm(list = ls())\n",
    "\n",
    "#install.packages(\"miceadds\")\n",
    "#install.packages(\"multiwayvcov\")\n",
    "\n",
    "# Load required packages\n",
    "library(dplyr)\n",
    "library(ggplot2)\n",
    "library(miceadds)\n",
    "library(multiwayvcov)\n",
    "\n",
    "# Set working directory to the location of your data files\n",
    "# setwd(\"/home/jovyan/mba217-2/Data\")\n",
    "\n",
    "# read the file\n",
    "PanelPROGRESA_97_99year <- read.csv(\"../Data/PanelPROGRESA_97_99year.csv\")\n",
    "str(PanelPROGRESA_97_99year)"
   ]
  },
  {
   "cell_type": "markdown",
   "metadata": {},
   "source": [
    "## 1-Regression Practice\n",
    "When we can assert that treatment assignment is random (or \"as good\" as random) we can use regression to make causal inferences.  As discussed in lecture, PROGRESA was randomly assigned to households over a two year period.  A baseline survey was conducted in 1997, and an endline survey in 1999.  In the problem set, you'll be asked to evaluate the effect of PROGRESA on income.\n",
    "\n",
    "Let's practice by using a regression to analyze the relationship between income and household head education at baseline.  Can we say that education has a causal effect on income?  Additionally, let's practice displaying the results of this regression in a graph.  "
   ]
  },
  {
   "cell_type": "code",
   "execution_count": 3,
   "metadata": {},
   "outputs": [
    {
     "data": {
      "text/plain": [
       "\n",
       "Call:\n",
       "lm(formula = IncomeLab_HH ~ eduhead, data = PROGRESA_97)\n",
       "\n",
       "Residuals:\n",
       "   Min     1Q Median     3Q    Max \n",
       " -1487   -718   -438    197  34662 \n",
       "\n",
       "Coefficients:\n",
       "            Estimate Std. Error t value Pr(>|t|)    \n",
       "(Intercept) 1268.279     15.811  80.215  < 2e-16 ***\n",
       "eduhead       17.381      3.857   4.506 6.63e-06 ***\n",
       "---\n",
       "Signif. codes:  0 ‘***’ 0.001 ‘**’ 0.01 ‘*’ 0.05 ‘.’ 0.1 ‘ ’ 1\n",
       "\n",
       "Residual standard error: 1584 on 20229 degrees of freedom\n",
       "  (3846 observations deleted due to missingness)\n",
       "Multiple R-squared:  0.001003,\tAdjusted R-squared:  0.0009535 \n",
       "F-statistic: 20.31 on 1 and 20229 DF,  p-value: 6.634e-06\n"
      ]
     },
     "metadata": {},
     "output_type": "display_data"
    }
   ],
   "source": [
    "#subset data, baseline only\n",
    "PROGRESA_97 <- PanelPROGRESA_97_99year[which(PanelPROGRESA_97_99year$year == 1997), ]\n",
    "#check balance of income at baseline\n",
    "model <- lm(IncomeLab_HH ~ eduhead, data = PROGRESA_97)\n",
    "summary(model)"
   ]
  },
  {
   "cell_type": "code",
   "execution_count": 4,
   "metadata": {},
   "outputs": [
    {
     "name": "stderr",
     "output_type": "stream",
     "text": [
      "Warning message:\n",
      "“Removed 3846 rows containing non-finite values (stat_smooth).”Warning message:\n",
      "“Removed 125 rows containing missing values (geom_point).”"
     ]
    },
    {
     "data": {},
     "metadata": {},
     "output_type": "display_data"
    },
    {
     "data": {
      "image/png": "[encoded data removed]",
      "text/plain": [
       "plot without title"
      ]
     },
     "metadata": {},
     "output_type": "display_data"
    }
   ],
   "source": [
    "#mean income for each education level\n",
    "PROGRESA_97 <- PROGRESA_97 %>% group_by(eduhead) %>% mutate(meanincome = mean(IncomeLab_HH, na.rm = TRUE))\n",
    "\n",
    "#Use ggplot to make a combined scatterplot with regression line of income by education level\n",
    "L <- PROGRESA_97 %>% ggplot(aes(eduhead, IncomeLab_HH)) \n",
    "L <- L + geom_smooth(color='red',method='lm', formula=y~x)\n",
    "P <- geom_point(color='blue',aes(PROGRESA_97$eduhead, PROGRESA_97$meanincome))\n",
    " L+P + xlab(\"Education (years)\") +  ylab(\"Mean Income\")\n"
   ]
  },
  {
   "cell_type": "markdown",
   "metadata": {},
   "source": [
    "## 2-Clustering\n",
    "One of the assumptions critical for regression analysis is random sampling or independence of error: This assumption states that the errors of the outcome variables are uncorrelated with each other Intuitively, it means that each observation of Y is independently draws from the population from other outcomes.\n",
    "\n",
    "In practice, observations from the same group or place share common characteristics. What if we believe that individuals within a village are influenced by each other and share common facilities, so that there is some “correlation” among their behaviors? Then we have to estimate the standard errors clustered as the village level.  These can be implemented using the lm.cluster command from the multiwayvcov and miceadds packages.\n",
    "\n",
    "Let's look at the relationship between income and education levels at baseline, this time clustering at the village level.  What happens to the coefficients and standard errors?"
   ]
  },
  {
   "cell_type": "code",
   "execution_count": 5,
   "metadata": {},
   "outputs": [
    {
     "name": "stdout",
     "output_type": "stream",
     "text": [
      "R^2 = 0.001 \n",
      "\n",
      "              Estimate Std. Error   t value     Pr(>|t|)\n",
      "(Intercept) 1268.27923  30.603609 41.442146 0.0000000000\n",
      "eduhead       17.38053   5.219523  3.329908 0.0008687482\n"
     ]
    }
   ],
   "source": [
    "#Use lm.cluster \n",
    "model2 <- lm.cluster(data = PROGRESA_97, formula=IncomeLab_HH ~ eduhead, cluster=PROGRESA_97$villid)\n",
    "summary(model2)"
   ]
  },
  {
   "cell_type": "markdown",
   "metadata": {},
   "source": [
    "## 3-Randomization\n",
    "So far, we've been focusing on how to analyze data that results from a randomized controlled trial.  But when might we use statistical packages like R before we have data, in the design phase?  \n",
    "\n",
    "We can also use R to randomly select our treatment group.  \n"
   ]
  },
  {
   "cell_type": "code",
   "execution_count": 6,
   "metadata": {},
   "outputs": [
    {
     "name": "stdout",
     "output_type": "stream",
     "text": [
      " num [1:24077] 1 1 1 1 0 0 1 1 1 0 ...\n",
      " num [1:24077] 1 0 0 0 1 1 0 1 0 1 ...\n"
     ]
    }
   ],
   "source": [
    "#Setting the seed allows results to be reproducible\n",
    "set.seed(1105)\n",
    "\n",
    "#Simple randomization\n",
    "PROGRESA_97$random_T <- round(runif(nrow(PROGRESA_97)),0)\n",
    "str(PROGRESA_97$random_T)\n",
    "\n",
    "#Stratified randomization by administrative region\n",
    "PROGRESA_97 <- PROGRESA_97 %>% group_by(geopolid) %>% mutate(random_strata_T = round(runif(n()),0))\n",
    "str(PROGRESA_97$random_strata_T)\n"
   ]
  }
 ],
 "metadata": {
  "kernelspec": {
   "display_name": "R",
   "language": "R",
   "name": "ir"
  },
  "language_info": {
   "codemirror_mode": "r",
   "file_extension": ".r",
   "mimetype": "text/x-r-source",
   "name": "R",
   "pygments_lexer": "r",
   "version": "3.4.3"
  }
 },
 "nbformat": 4,
 "nbformat_minor": 2
}
