{
 "cells": [
  {
   "cell_type": "markdown",
   "metadata": {},
   "source": [
    "# Lab 3\n",
    "## Statistical Inference and Regression\n",
    "1/31/2018\n",
    "\n",
    "### Announcements:\n",
    "* Thanks so much to everyone who responded to the survey!\n",
    "* Based on the survey results, Office Hours will be 2pm-4pm on Tuesdays each week.  I will send around the room number at least a day in advance.  If you absolutely cannot make that time and are unable to ask questions during lab time, please email me for limited office hours by appointment.\n",
    "* From now on, we will spend the first 15-25 minutes of lab time on demonstration, and the remaining time for group and individual work.  You will have opportunity to ask questions about homework during this time.\n",
    "* The first problem set is due at the START of lecture (9:30am) on February 7th.  As a reminder, exercises can be found in the corresponding lab reading (2.1-2.3 are found in module 2).  Please submit through bcourses.  You may work as an individual or in groups, but if working in groups, everyone must submit their own copy AND write the names of all group members at the top of their submission.  Submission should be in the form of a Jupyter notebook or R script file (with text as comments using the hash symbol).  Please do not submit a word or PDF file. The grader should be able to both read your responses and run the code directly from the file you've submitted.\n",
    "* We did not get to the Lab 2 notebook during last week's lab.  I've included only the most critical content in this notebook to make sure we stay on schedule moving forward, but feel free to review the Lab 2 notebook on your own time.\n",
    "\n",
    "### Plan for Today's Lab\n",
    "1. Discussion: Practical applications (5-10 minutes)\n",
    "2. Hypothesis testing in R: the t.test() command (5-10 minutes)\n",
    "3. Running a regression in R: the lm() command (5 minutes)\n",
    "\n",
    "## 1-Discussion\n",
    "### Questions for the class:\n",
    "* What are your experiences trying to solve a problem with a measurable outcome?  E.g. low sales of a new product, poor employee productivity, etc.  \n",
    "* What was your proposed solution?\n",
    "* How did you test whether your solution was successful?\n",
    "\n",
    "### Why is R or another statistical program useful in these situations?\n",
    "R is a *tool* for answering research questions and testing hypotheses using data.  However, the results we get from using R to analyze data are only as good as our research design.\n",
    "\n",
    "R is similar to excel in that it stores data in a spreadsheet. We have columns that represent variables, e.g. information about individuals like age, gender, enrollment in a specific program. We also have rows that represent observations, (e.g. one line per individual person).  Like excel, we can use R to analyze and describe data.  For example, we can calculate the mean of a variable, or run a regression to learn about the effect of a policy change.  But why should we learn to use R instead of excel?  R is:\n",
    "* Fast\n",
    "* Replicable\n",
    "* Less error prone\n",
    "* More powerful/flexible\n",
    "Jupyter is a web application that allows us to run R remotely.  It also makes it easy for others to review our code, output and text summary at the same time.\n",
    "\n",
    "### What did researchers and data scientists use before R?\n",
    "* Estimation by hand/with disk calculators-- very difficult for more than a few observations\n",
    "* Early computers and first statistical software (SAS)-- coding by punchcard\n",
    "* Excel and Stata first came out in mid-80s, R in early 90s\n",
    "* Faster computing has huge effect on economics, data science\n",
    "\n",
    "\n",
    "\n",
    "Moving on to command demonstrations, we'll start with a \"preamble\" of commands that will set us up to begin working.  We'll load the dataset EPH_2006.  Assume that this dataset is demographic information about consumers of a specific product."
   ]
  },
  {
   "cell_type": "code",
   "execution_count": 2,
   "metadata": {},
   "outputs": [
    {
     "data": {
      "text/plain": [
       "       id             age             male           eduyears        employed\n",
       " Min.   :    1   Min.   :12.00   Min.   :0.0000   Min.   : 3.50   Min.   :1  \n",
       " 1st Qu.: 9358   1st Qu.:28.00   1st Qu.:0.0000   1st Qu.: 7.00   1st Qu.:1  \n",
       " Median :18635   Median :38.00   Median :1.0000   Median :12.50   Median :1  \n",
       " Mean   :18657   Mean   :39.47   Mean   :0.5842   Mean   :11.24   Mean   :1  \n",
       " 3rd Qu.:27933   3rd Qu.:49.00   3rd Qu.:1.0000   3rd Qu.:14.00   3rd Qu.:1  \n",
       " Max.   :37521   Max.   :98.00   Max.   :1.0000   Max.   :17.00   Max.   :1  \n",
       "                                                                             \n",
       "     income     \n",
       " Min.   :    3  \n",
       " 1st Qu.:  440  \n",
       " Median :  800  \n",
       " Mean   : 1117  \n",
       " 3rd Qu.: 1400  \n",
       " Max.   :51370  \n",
       " NA's   :5623   "
      ]
     },
     "metadata": {},
     "output_type": "display_data"
    },
    {
     "name": "stdout",
     "output_type": "stream",
     "text": [
      "'data.frame':\t49663 obs. of  6 variables:\n",
      " $ id      : int  1 1 2 2 3 4 4 4 5 5 ...\n",
      " $ age     : int  55 26 34 37 24 47 21 29 47 22 ...\n",
      " $ male    : int  0 0 1 0 0 0 1 1 0 1 ...\n",
      " $ eduyears: num  14 14 12.5 17 12.5 12.5 17 17 17 17 ...\n",
      " $ employed: int  1 1 1 1 1 1 1 1 1 1 ...\n",
      " $ income  : int  1000 1200 NA NA 150 300 930 930 590 900 ...\n"
     ]
    }
   ],
   "source": [
    " # Clear Environment \n",
    "  rm(list = ls())\n",
    "\n",
    "  # Set working directory to the location of your data files/\n",
    "  setwd(\"~/Documents/bdbd/Data\")\n",
    "  \n",
    "  # Plotting system for R\n",
    "  library(ggplot2)\n",
    "\n",
    "  # read file\n",
    "  EPH_2006 <- read.csv(\"EPH_2006.csv\")\n",
    "\n",
    "  # Descriptive statistics of the data - for every column\n",
    "  summary(EPH_2006)\n",
    "  # Compact display of the structure of the data\n",
    "  str(EPH_2006)"
   ]
  },
  {
   "cell_type": "markdown",
   "metadata": {},
   "source": [
    "## 2-Hypothesis Testing in R\n",
    "With a t-test, we can use our data to test whether it provides evidence against our null hypothesis.  Remember that if we are trying to infer a causal relationship between a treatment and outcome variable, we must assume that the treatment assignment is random or as good as random.\n",
    "\n",
    "Below are the key steps for hypothesis testing.  We'll practice them to assess if years of education listed in our dataset is different based on gender.\n",
    "\n",
    "\n",
    "### Step 1: Specify the null and alternative hypotheses\n",
    "\n",
    "H0: Income is the same between men and women.\n",
    "H1: Income is not the same between men and women\n",
    "\n",
    "### Step 2: Decide the statistical significance levels or confidence on your inference\n",
    "\n",
    "We usually test the hypothesis with significance level of 0.05 or Type-I error of 5%\n",
    "\n",
    "### Step 3: Calculate the test statistic and its distribution\n",
    "Run a t-test in R. Find the relevant means, standard errors of the means, t statistic, and degrees of freedom from the output.\n",
    "\n",
    "### Step 4:  Compare the t-statistic with the reference distribution\n",
    "Find the critical t-value using R, and compare it with the t-statistic from the test you just ran.  You can reject the null if the absolute value of the test statistic is larger than the critical t value (in this case the p value will also be less than 0.05\n",
    "\n"
   ]
  },
  {
   "cell_type": "code",
   "execution_count": 3,
   "metadata": {},
   "outputs": [
    {
     "name": "stderr",
     "output_type": "stream",
     "text": [
      "\n",
      "Attaching package: ‘dplyr’\n",
      "\n",
      "The following objects are masked from ‘package:stats’:\n",
      "\n",
      "    filter, lag\n",
      "\n",
      "The following objects are masked from ‘package:base’:\n",
      "\n",
      "    intersect, setdiff, setequal, union\n",
      "\n"
     ]
    }
   ],
   "source": [
    "library(dplyr)"
   ]
  },
  {
   "cell_type": "code",
   "execution_count": 4,
   "metadata": {},
   "outputs": [
    {
     "data": {
      "text/html": [
       "<table>\n",
       "<thead><tr><th scope=col>male</th><th scope=col>observations</th><th scope=col>mean_income</th><th scope=col>sd_income</th></tr></thead>\n",
       "<tbody>\n",
       "\t<tr><td>0    </td><td>18560</td><td> 924 </td><td> 911 </td></tr>\n",
       "\t<tr><td>1    </td><td>25480</td><td>1258 </td><td>1348 </td></tr>\n",
       "</tbody>\n",
       "</table>\n"
      ],
      "text/latex": [
       "\\begin{tabular}{r|llll}\n",
       " male & observations & mean\\_income & sd\\_income\\\\\n",
       "\\hline\n",
       "\t 0     & 18560 &  924  &  911 \\\\\n",
       "\t 1     & 25480 & 1258  & 1348 \\\\\n",
       "\\end{tabular}\n"
      ],
      "text/markdown": [
       "\n",
       "male | observations | mean_income | sd_income | \n",
       "|---|---|\n",
       "| 0     | 18560 |  924  |  911  | \n",
       "| 1     | 25480 | 1258  | 1348  | \n",
       "\n",
       "\n"
      ],
      "text/plain": [
       "  male observations mean_income sd_income\n",
       "1 0    18560         924         911     \n",
       "2 1    25480        1258        1348     "
      ]
     },
     "metadata": {},
     "output_type": "display_data"
    }
   ],
   "source": [
    "EPH_2006 %>% \n",
    "  filter(is.na(income) == F) %>%\n",
    "  group_by(male) %>%\n",
    "  summarise(observations = length(male),\n",
    "            mean_income = ceiling(mean(income, na.rm = T)),\n",
    "            sd_income = ceiling(sd(income, na.rm = T)))"
   ]
  },
  {
   "cell_type": "code",
   "execution_count": 6,
   "metadata": {},
   "outputs": [
    {
     "data": {
      "text/html": [
       "1.96001175402307"
      ],
      "text/latex": [
       "1.96001175402307"
      ],
      "text/markdown": [
       "1.96001175402307"
      ],
      "text/plain": [
       "[1] 1.960012"
      ]
     },
     "metadata": {},
     "output_type": "display_data"
    }
   ],
   "source": []
  },
  {
   "cell_type": "code",
   "execution_count": 9,
   "metadata": {},
   "outputs": [
    {
     "data": {
      "text/plain": [
       "\n",
       "\tTwo Sample t-test\n",
       "\n",
       "data:  EPH_2006$income by EPH_2006$male\n",
       "t = -29.284, df = 44038, p-value < 2.2e-16\n",
       "alternative hypothesis: true difference in means is not equal to 0\n",
       "95 percent confidence interval:\n",
       " -356.7625 -312.0019\n",
       "sample estimates:\n",
       "mean in group 0 mean in group 1 \n",
       "       923.1541       1257.5363 \n"
      ]
     },
     "metadata": {},
     "output_type": "display_data"
    },
    {
     "data": {
      "text/html": [
       "1.96001175402307"
      ],
      "text/latex": [
       "1.96001175402307"
      ],
      "text/markdown": [
       "1.96001175402307"
      ],
      "text/plain": [
       "[1] 1.960012"
      ]
     },
     "metadata": {},
     "output_type": "display_data"
    }
   ],
   "source": [
    "# Step 3: note that by default the t.test function assumes unequal variances\n",
    "t.test(EPH_2006$income ~ EPH_2006$male, var.equal = TRUE)\n",
    "\n",
    "#Step 4\n",
    "qt(0.975, nrow(EPH_2006)-1)  # P(x >= 0.975) lower.tail = TRUE by default"
   ]
  },
  {
   "cell_type": "markdown",
   "metadata": {},
   "source": [
    "## 3- Running a Regression in R\n",
    "Often, we want to estimate a more complex model.  For example we might want to examine the association between two continuous variables, or the relationship between a treatment and outcome holding constant a third variable.  In these cases, a t-test is not sufficient and we must use regression analysis.  However, note that when we run a regression with a single binary independent variable, this is equivalent to the t-test (see below).\n",
    "\n",
    "As with t-tests, underlying theory and study design help us to determine whether the observed association is causal; regression analysis alone will only tell us whether the association is statistically significant or not."
   ]
  },
  {
   "cell_type": "code",
   "execution_count": 22,
   "metadata": {},
   "outputs": [
    {
     "data": {
      "text/plain": [
       "\n",
       "Call:\n",
       "lm(formula = income ~ male, data = EPH_2006, na.action = \"na.exclude\")\n",
       "\n",
       "Residuals:\n",
       "   Min     1Q Median     3Q    Max \n",
       " -1255   -658   -258    277  50112 \n",
       "\n",
       "Coefficients:\n",
       "            Estimate Std. Error t value Pr(>|t|)    \n",
       "(Intercept)  923.154      8.685  106.29   <2e-16 ***\n",
       "male         334.382     11.418   29.28   <2e-16 ***\n",
       "---\n",
       "Signif. codes:  0 ‘***’ 0.001 ‘**’ 0.01 ‘*’ 0.05 ‘.’ 0.1 ‘ ’ 1\n",
       "\n",
       "Residual standard error: 1183 on 44038 degrees of freedom\n",
       "  (5623 observations deleted due to missingness)\n",
       "Multiple R-squared:  0.0191,\tAdjusted R-squared:  0.01908 \n",
       "F-statistic: 857.6 on 1 and 44038 DF,  p-value: < 2.2e-16\n"
      ]
     },
     "metadata": {},
     "output_type": "display_data"
    }
   ],
   "source": [
    "#equivalent to t-test\n",
    "    #note that na.action tells R how to handle observations \n",
    "    #with missing values for any of the variable we include in our regression\n",
    "    model1 <- lm(income ~ male, data=EPH_2006, na.action = 'na.exclude')\n",
    "    summary(model1)"
   ]
  },
  {
   "cell_type": "code",
   "execution_count": 23,
   "metadata": {},
   "outputs": [
    {
     "data": {
      "text/plain": [
       "\n",
       "Call:\n",
       "lm(formula = income ~ male, data = EPH_2006, na.action = \"na.exclude\")\n",
       "\n",
       "Coefficients:\n",
       "(Intercept)         male  \n",
       "      923.2        334.4  \n"
      ]
     },
     "metadata": {},
     "output_type": "display_data"
    }
   ],
   "source": [
    "model1"
   ]
  },
  {
   "cell_type": "code",
   "execution_count": 25,
   "metadata": {},
   "outputs": [
    {
     "data": {
      "text/plain": [
       "\n",
       "Call:\n",
       "lm(formula = income ~ age, data = EPH_2006, na.action = \"na.exclude\")\n",
       "\n",
       "Residuals:\n",
       "   Min     1Q Median     3Q    Max \n",
       " -1634   -648   -268    285  50463 \n",
       "\n",
       "Coefficients:\n",
       "            Estimate Std. Error t value Pr(>|t|)    \n",
       "(Intercept) 574.7293    17.7317   32.41   <2e-16 ***\n",
       "age          13.8606     0.4301   32.23   <2e-16 ***\n",
       "---\n",
       "Signif. codes:  0 ‘***’ 0.001 ‘**’ 0.01 ‘*’ 0.05 ‘.’ 0.1 ‘ ’ 1\n",
       "\n",
       "Residual standard error: 1181 on 44038 degrees of freedom\n",
       "  (5623 observations deleted due to missingness)\n",
       "Multiple R-squared:  0.02304,\tAdjusted R-squared:  0.02302 \n",
       "F-statistic:  1039 on 1 and 44038 DF,  p-value: < 2.2e-16\n"
      ]
     },
     "metadata": {},
     "output_type": "display_data"
    }
   ],
   "source": [
    "#two continuous variables\n",
    "    model2<- lm(income ~ age, data=EPH_2006, na.action = 'na.exclude')\n",
    "    summary(model2)"
   ]
  },
  {
   "cell_type": "code",
   "execution_count": 26,
   "metadata": {},
   "outputs": [
    {
     "data": {
      "text/plain": [
       "       id             age             male           eduyears        employed\n",
       " Min.   :    1   Min.   :12.00   Min.   :0.0000   Min.   : 3.50   Min.   :1  \n",
       " 1st Qu.: 9358   1st Qu.:28.00   1st Qu.:0.0000   1st Qu.: 7.00   1st Qu.:1  \n",
       " Median :18635   Median :38.00   Median :1.0000   Median :12.50   Median :1  \n",
       " Mean   :18657   Mean   :39.47   Mean   :0.5842   Mean   :11.24   Mean   :1  \n",
       " 3rd Qu.:27933   3rd Qu.:49.00   3rd Qu.:1.0000   3rd Qu.:14.00   3rd Qu.:1  \n",
       " Max.   :37521   Max.   :98.00   Max.   :1.0000   Max.   :17.00   Max.   :1  \n",
       "                                                                             \n",
       "     income           age2     \n",
       " Min.   :    3   Min.   : 144  \n",
       " 1st Qu.:  440   1st Qu.: 784  \n",
       " Median :  800   Median :1444  \n",
       " Mean   : 1117   Mean   :1732  \n",
       " 3rd Qu.: 1400   3rd Qu.:2401  \n",
       " Max.   :51370   Max.   :9604  \n",
       " NA's   :5623                  "
      ]
     },
     "metadata": {},
     "output_type": "display_data"
    },
    {
     "data": {
      "text/plain": [
       "\n",
       "Call:\n",
       "lm(formula = income ~ age + age2, data = EPH_2006, na.action = \"na.exclude\")\n",
       "\n",
       "Residuals:\n",
       "   Min     1Q Median     3Q    Max \n",
       " -1339   -628   -253    277  50572 \n",
       "\n",
       "Coefficients:\n",
       "              Estimate Std. Error t value Pr(>|t|)    \n",
       "(Intercept) -634.12764   48.70562  -13.02   <2e-16 ***\n",
       "age           78.05084    2.44915   31.87   <2e-16 ***\n",
       "age2          -0.76529    0.02875  -26.62   <2e-16 ***\n",
       "---\n",
       "Signif. codes:  0 ‘***’ 0.001 ‘**’ 0.01 ‘*’ 0.05 ‘.’ 0.1 ‘ ’ 1\n",
       "\n",
       "Residual standard error: 1171 on 44037 degrees of freedom\n",
       "  (5623 observations deleted due to missingness)\n",
       "Multiple R-squared:  0.03851,\tAdjusted R-squared:  0.03846 \n",
       "F-statistic: 881.8 on 2 and 44037 DF,  p-value: < 2.2e-16\n"
      ]
     },
     "metadata": {},
     "output_type": "display_data"
    }
   ],
   "source": [
    "#multiple independent variables\n",
    "    #Create age squared variable and view summary of new variable\n",
    "    EPH_2006$age2 <- EPH_2006$age^2\n",
    "     summary(EPH_2006)\n",
    "    #run multivariate regression with age and age squared as the independent variables\n",
    "    model3<- lm(income ~ age+age2, data=EPH_2006, na.action = 'na.exclude')\n",
    "    summary(model3)"
   ]
  }
 ],
 "metadata": {
  "kernelspec": {
   "display_name": "R",
   "language": "R",
   "name": "ir"
  },
  "language_info": {
   "codemirror_mode": "r",
   "file_extension": ".r",
   "mimetype": "text/x-r-source",
   "name": "R",
   "pygments_lexer": "r",
   "version": "3.4.3"
  }
 },
 "nbformat": 4,
 "nbformat_minor": 2
}
