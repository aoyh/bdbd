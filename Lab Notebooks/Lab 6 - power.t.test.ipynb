{
 "cells": [
  {
   "cell_type": "markdown",
   "metadata": {},
   "source": [
    "# Lab 6\n",
    "## Power Calculations\n",
    "2/21/2018\n",
    "\n",
    "### Announcements:\n",
    "The Problem Set schedule has been changed and updated in the syllabus.  The next problem set will be due March 14 and cover Labs 6-8.  For this problem set, late assignments will only be accepted 48 hours after the submission time for 50% credit.  This will allow us to post the solutions with enough time for you to review them before your midterm exam on March 21.\n",
    "\n",
    "### Plan for Today's Lab\n",
    "1. Quick discussion of power calculations and experimental design (10-15 minutes)\n",
    "2. Calculating needed sample size for given power and effect size (5 minutes)\n",
    "3. Calculating minimum detectible effect (5 minutes)\n",
    "\n",
    "## 1-Discussion\n",
    "Has anyone had experience designing an experiment?  How did you decide how many people to include in the sample?\n",
    "\n",
    "Randomized studies are one of the most rigorous ways to determine the effect of a program/product, but the results can be rendered useless if those designing the experiment fail to ensure that the statistical tests will be adequately powered.  Basically, the design needs to include a large enough sample size such that if the program/product were effective at a \"magnitude of interest\" to the experimenter, the ttest would be statistically significant.\n",
    "\n",
    "For example, say you were testing whether introduction of a new feature on a particular website increased sales of a key product.  You decide that introducing this feature would be profitable if it causes a 0.5% increase in sales (we would call 0.5% your magnitude of interest). So you randomized at the state level-- people in different states see different versions of the website, and after a few weeks get your sales rate for the product in each state (50 observations).  Great news! It looks like there is a 2% increase in sales... BUT it's not statistically significant.  Your pvalue is 0.5, and your confidence interval for the effect is -5% to 7%.  What do you do?\n",
    "\n",
    "Unfortunately, the bad news is that your experiment was a waste of time/money.  You don't know with any certainty whether the new feature will increase sales or not.  If you had randomized at the city or even IP address level, your sample may have been large enough to answer your question.  \n",
    "\n",
    "When designing your experiment and checking for statistical power, you are usually facing one of two situations, which we'll discuss below:\n",
    "\n",
    "### (1) Deciding on a Sample Size with Limited Money/Other Resources\n",
    "In this case, you have a large possible sample, but your treatment or experiment cost money/time/other resources, so you want to use a subset.  How many people to include?  \n",
    "\n",
    "In order to make this decision, you'll need to know what your magnitude of interest is.  This is the smallest effect of the program/product that would be of interest to you (potentially the point at which the program becomes cost effective).  We'll set the minimum detectible effect (MDE: the effect size at which the ttest or regression would be statistically significant) equal to this magnitude of interest.\n",
    "\n",
    "In addition to the MDE, you'll also need the following items to calculate the sample size: standard deviation of the outcome you will be assessing, significance level (usually set to 0.05 or 0.10), and power level (usually set to 80 or 90%).\n",
    "\n",
    "As discussed in lecture, the power is 1 minus the probability of observing ‘false negative’.  That is, the probability that  the result of our test of the outcome between T & C in our sample is statistically insignificant, conditional on the true effect in the population being equal to our MDE.  So the higher the power, the more likely we'd be able to detect our MDE if an effect actually exists.\n",
    "\n",
    "The manual formula for required sample size can be found in the notes, but we can use a function in R to calculate this automatically.\n",
    "\n",
    "### (2) Deciding Whether to Run the Experiment or Report an Effect when Sample Size is Capped\n",
    "In many cases, we won't be able to decide on sample size at all and will just have a limited population to work with.  In this case, we'll want to work backwards to find out the MDE of our experiment.  If the MDE is very large, we might not want to run the experiment, because it won't be able to tell us whether the intervention has a moderate effect.  \n",
    "\n",
    "Similarly caluculating the minimum sample size, there is a formula which can be found in the notes to calculate the MDE based on standard deviation of the outcome, sample size, significance and power levels.  It's just an algebraic manipulation of the formulat for minimum sample size.\n",
    "\n",
    "We'll use the same function in R as for minimum sample size.\n",
    "\n",
    "### Some Factors that Will Increase the Needed Sample Size or Increase the MDE\n",
    "1. MORE VARIATION IN THE OUTCOME (HIGHER SD)\n",
    "2. NO BASELINE DATA\n",
    "3. LOW COMPLIANCE\n",
    "4. CLUSTERED RANDOMIZATION\n",
    "5. SAMPLE SIZE NOT SPLIT EVENLY BETWEEN TREATMENT AND CONTROL\n",
    "6. MANY OUTCOMES TO BE ANALYZED\n",
    "\n",
    "We're doing basic power calculations, so we assume no baseline data, 100% compliance, individual level randomization, sample size split evening between T & C, and a single outcome being assessed.  More complex designs require that these factors be incorerated into the power calculations.\n",
    "\n",
    "## 2-Calculating Minimum Sample Size"
   ]
  },
  {
   "cell_type": "code",
   "execution_count": 1,
   "metadata": {},
   "outputs": [
    {
     "data": {
      "text/plain": [
       "\n",
       "     Two-sample t test power calculation \n",
       "\n",
       "              n = 1831.588\n",
       "          delta = 150\n",
       "             sd = 1400\n",
       "      sig.level = 0.05\n",
       "          power = 0.9\n",
       "    alternative = two.sided\n",
       "\n",
       "NOTE: n is number in *each* group\n"
      ]
     },
     "metadata": {},
     "output_type": "display_data"
    }
   ],
   "source": [
    "#effect size=150, outcome SD=1400, alpha=0.05, power=90%\n",
    "#try changing the parameters!\n",
    "power.t.test(n = NULL, delta = 150, sd = 1400, sig.level = 0.05,\n",
    "             power = 0.9,\n",
    "             type = \"two.sample\",\n",
    "             alternative = \"two.sided\",\n",
    "             strict = FALSE)"
   ]
  },
  {
   "cell_type": "markdown",
   "metadata": {},
   "source": [
    "## 3-Calculate the Minimum Detectable Effect"
   ]
  },
  {
   "cell_type": "code",
   "execution_count": 2,
   "metadata": {},
   "outputs": [
    {
     "data": {
      "text/plain": [
       "\n",
       "     Two-sample t test power calculation \n",
       "\n",
       "              n = 1000\n",
       "          delta = 203.0486\n",
       "             sd = 1400\n",
       "      sig.level = 0.05\n",
       "          power = 0.9\n",
       "    alternative = two.sided\n",
       "\n",
       "NOTE: n is number in *each* group\n"
      ]
     },
     "metadata": {},
     "output_type": "display_data"
    }
   ],
   "source": [
    "#sample size=1000, outcome SD=1400, alpha=0.05, power=90%\n",
    "#try changing the parameters!\n",
    "power.t.test(n = 1000, delta = NULL, sd = 1400, sig.level = 0.05,\n",
    "             power = 0.9,\n",
    "             type = \"two.sample\",\n",
    "             alternative = \"two.sided\",\n",
    "             strict = FALSE)"
   ]
  }
 ],
 "metadata": {
  "kernelspec": {
   "display_name": "R",
   "language": "R",
   "name": "ir"
  },
  "language_info": {
   "codemirror_mode": "r",
   "file_extension": ".r",
   "mimetype": "text/x-r-source",
   "name": "R",
   "pygments_lexer": "r",
   "version": "3.4.3"
  }
 },
 "nbformat": 4,
 "nbformat_minor": 2
}
